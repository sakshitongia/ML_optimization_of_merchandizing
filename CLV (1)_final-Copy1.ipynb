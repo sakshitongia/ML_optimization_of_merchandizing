{
 "cells": [
  {
   "cell_type": "code",
   "execution_count": 1,
   "id": "ef459496",
   "metadata": {},
   "outputs": [
    {
     "name": "stdout",
     "output_type": "stream",
     "text": [
      "Requirement already satisfied: boto3 in /Users/rohith/opt/anaconda3/envs/vaibhav/lib/python3.7/site-packages (1.22.5)\n",
      "Requirement already satisfied: scikit-learn in /Users/rohith/opt/anaconda3/envs/vaibhav/lib/python3.7/site-packages (1.0.2)\n",
      "Requirement already satisfied: jmespath<2.0.0,>=0.7.1 in /Users/rohith/opt/anaconda3/envs/vaibhav/lib/python3.7/site-packages (from boto3) (1.0.0)\n",
      "Requirement already satisfied: s3transfer<0.6.0,>=0.5.0 in /Users/rohith/opt/anaconda3/envs/vaibhav/lib/python3.7/site-packages (from boto3) (0.5.2)\n",
      "Collecting botocore<1.26.0,>=1.25.5\n",
      "  Using cached botocore-1.25.10-py3-none-any.whl (8.7 MB)\n",
      "Requirement already satisfied: threadpoolctl>=2.0.0 in /Users/rohith/opt/anaconda3/envs/vaibhav/lib/python3.7/site-packages (from scikit-learn) (3.1.0)\n",
      "Requirement already satisfied: joblib>=0.11 in /Users/rohith/opt/anaconda3/envs/vaibhav/lib/python3.7/site-packages (from scikit-learn) (1.1.0)\n",
      "Requirement already satisfied: numpy>=1.14.6 in /Users/rohith/opt/anaconda3/envs/vaibhav/lib/python3.7/site-packages (from scikit-learn) (1.21.6)\n",
      "Requirement already satisfied: scipy>=1.1.0 in /Users/rohith/opt/anaconda3/envs/vaibhav/lib/python3.7/site-packages (from scikit-learn) (1.7.3)\n",
      "Requirement already satisfied: urllib3<1.27,>=1.25.4 in /Users/rohith/opt/anaconda3/envs/vaibhav/lib/python3.7/site-packages (from botocore<1.26.0,>=1.25.5->boto3) (1.26.9)\n",
      "Requirement already satisfied: python-dateutil<3.0.0,>=2.1 in /Users/rohith/opt/anaconda3/envs/vaibhav/lib/python3.7/site-packages (from botocore<1.26.0,>=1.25.5->boto3) (2.8.2)\n",
      "Requirement already satisfied: six>=1.5 in /Users/rohith/opt/anaconda3/envs/vaibhav/lib/python3.7/site-packages (from python-dateutil<3.0.0,>=2.1->botocore<1.26.0,>=1.25.5->boto3) (1.16.0)\n",
      "Installing collected packages: botocore\n",
      "  Attempting uninstall: botocore\n",
      "    Found existing installation: botocore 1.24.21\n",
      "    Uninstalling botocore-1.24.21:\n",
      "      Successfully uninstalled botocore-1.24.21\n",
      "\u001b[31mERROR: pip's dependency resolver does not currently take into account all the packages that are installed. This behaviour is the source of the following dependency conflicts.\n",
      "aiobotocore 2.2.0 requires botocore<1.24.22,>=1.24.21, but you have botocore 1.25.10 which is incompatible.\u001b[0m\n",
      "Successfully installed botocore-1.25.10\n",
      "Note: you may need to restart the kernel to use updated packages.\n"
     ]
    }
   ],
   "source": [
    "pip install boto3 scikit-learn"
   ]
  },
  {
   "cell_type": "code",
   "execution_count": 2,
   "id": "3caa8c62",
   "metadata": {},
   "outputs": [
    {
     "name": "stdout",
     "output_type": "stream",
     "text": [
      "Requirement already satisfied: s3fs in /Users/rohith/opt/anaconda3/envs/vaibhav/lib/python3.7/site-packages (2022.3.0)\n",
      "Requirement already satisfied: aiohttp<=4 in /Users/rohith/opt/anaconda3/envs/vaibhav/lib/python3.7/site-packages (from s3fs) (3.8.1)\n",
      "Requirement already satisfied: aiobotocore~=2.2.0 in /Users/rohith/opt/anaconda3/envs/vaibhav/lib/python3.7/site-packages (from s3fs) (2.2.0)\n",
      "Requirement already satisfied: fsspec==2022.3.0 in /Users/rohith/opt/anaconda3/envs/vaibhav/lib/python3.7/site-packages (from s3fs) (2022.3.0)\n",
      "Requirement already satisfied: aioitertools>=0.5.1 in /Users/rohith/opt/anaconda3/envs/vaibhav/lib/python3.7/site-packages (from aiobotocore~=2.2.0->s3fs) (0.10.0)\n",
      "Collecting botocore<1.24.22,>=1.24.21\n",
      "  Using cached botocore-1.24.21-py3-none-any.whl (8.6 MB)\n",
      "Requirement already satisfied: wrapt>=1.10.10 in /Users/rohith/opt/anaconda3/envs/vaibhav/lib/python3.7/site-packages (from aiobotocore~=2.2.0->s3fs) (1.14.1)\n",
      "Requirement already satisfied: charset-normalizer<3.0,>=2.0 in /Users/rohith/opt/anaconda3/envs/vaibhav/lib/python3.7/site-packages (from aiohttp<=4->s3fs) (2.0.12)\n",
      "Requirement already satisfied: attrs>=17.3.0 in /Users/rohith/opt/anaconda3/envs/vaibhav/lib/python3.7/site-packages (from aiohttp<=4->s3fs) (21.4.0)\n",
      "Requirement already satisfied: multidict<7.0,>=4.5 in /Users/rohith/opt/anaconda3/envs/vaibhav/lib/python3.7/site-packages (from aiohttp<=4->s3fs) (6.0.2)\n",
      "Requirement already satisfied: asynctest==0.13.0 in /Users/rohith/opt/anaconda3/envs/vaibhav/lib/python3.7/site-packages (from aiohttp<=4->s3fs) (0.13.0)\n",
      "Requirement already satisfied: yarl<2.0,>=1.0 in /Users/rohith/opt/anaconda3/envs/vaibhav/lib/python3.7/site-packages (from aiohttp<=4->s3fs) (1.7.2)\n",
      "Requirement already satisfied: typing-extensions>=3.7.4 in /Users/rohith/opt/anaconda3/envs/vaibhav/lib/python3.7/site-packages (from aiohttp<=4->s3fs) (4.1.1)\n",
      "Requirement already satisfied: async-timeout<5.0,>=4.0.0a3 in /Users/rohith/opt/anaconda3/envs/vaibhav/lib/python3.7/site-packages (from aiohttp<=4->s3fs) (4.0.2)\n",
      "Requirement already satisfied: aiosignal>=1.1.2 in /Users/rohith/opt/anaconda3/envs/vaibhav/lib/python3.7/site-packages (from aiohttp<=4->s3fs) (1.2.0)\n",
      "Requirement already satisfied: frozenlist>=1.1.1 in /Users/rohith/opt/anaconda3/envs/vaibhav/lib/python3.7/site-packages (from aiohttp<=4->s3fs) (1.3.0)\n",
      "Requirement already satisfied: jmespath<2.0.0,>=0.7.1 in /Users/rohith/opt/anaconda3/envs/vaibhav/lib/python3.7/site-packages (from botocore<1.24.22,>=1.24.21->aiobotocore~=2.2.0->s3fs) (1.0.0)\n",
      "Requirement already satisfied: urllib3<1.27,>=1.25.4 in /Users/rohith/opt/anaconda3/envs/vaibhav/lib/python3.7/site-packages (from botocore<1.24.22,>=1.24.21->aiobotocore~=2.2.0->s3fs) (1.26.9)\n",
      "Requirement already satisfied: python-dateutil<3.0.0,>=2.1 in /Users/rohith/opt/anaconda3/envs/vaibhav/lib/python3.7/site-packages (from botocore<1.24.22,>=1.24.21->aiobotocore~=2.2.0->s3fs) (2.8.2)\n",
      "Requirement already satisfied: six>=1.5 in /Users/rohith/opt/anaconda3/envs/vaibhav/lib/python3.7/site-packages (from python-dateutil<3.0.0,>=2.1->botocore<1.24.22,>=1.24.21->aiobotocore~=2.2.0->s3fs) (1.16.0)\n",
      "Requirement already satisfied: idna>=2.0 in /Users/rohith/opt/anaconda3/envs/vaibhav/lib/python3.7/site-packages (from yarl<2.0,>=1.0->aiohttp<=4->s3fs) (3.3)\n",
      "Installing collected packages: botocore\n",
      "  Attempting uninstall: botocore\n",
      "    Found existing installation: botocore 1.25.10\n",
      "    Uninstalling botocore-1.25.10:\n",
      "      Successfully uninstalled botocore-1.25.10\n",
      "\u001b[31mERROR: pip's dependency resolver does not currently take into account all the packages that are installed. This behaviour is the source of the following dependency conflicts.\n",
      "boto3 1.22.5 requires botocore<1.26.0,>=1.25.5, but you have botocore 1.24.21 which is incompatible.\u001b[0m\n",
      "Successfully installed botocore-1.24.21\n",
      "Note: you may need to restart the kernel to use updated packages.\n"
     ]
    }
   ],
   "source": [
    "pip install s3fs"
   ]
  },
  {
   "cell_type": "code",
   "execution_count": 3,
   "id": "8018583e",
   "metadata": {},
   "outputs": [
    {
     "name": "stdout",
     "output_type": "stream",
     "text": [
      "Requirement already satisfied: sklearn in /Users/rohith/opt/anaconda3/envs/vaibhav/lib/python3.7/site-packages (0.0)\n",
      "Requirement already satisfied: scikit-learn in /Users/rohith/opt/anaconda3/envs/vaibhav/lib/python3.7/site-packages (from sklearn) (1.0.2)\n",
      "Requirement already satisfied: scipy>=1.1.0 in /Users/rohith/opt/anaconda3/envs/vaibhav/lib/python3.7/site-packages (from scikit-learn->sklearn) (1.7.3)\n",
      "Requirement already satisfied: threadpoolctl>=2.0.0 in /Users/rohith/opt/anaconda3/envs/vaibhav/lib/python3.7/site-packages (from scikit-learn->sklearn) (3.1.0)\n",
      "Requirement already satisfied: numpy>=1.14.6 in /Users/rohith/opt/anaconda3/envs/vaibhav/lib/python3.7/site-packages (from scikit-learn->sklearn) (1.21.6)\n",
      "Requirement already satisfied: joblib>=0.11 in /Users/rohith/opt/anaconda3/envs/vaibhav/lib/python3.7/site-packages (from scikit-learn->sklearn) (1.1.0)\n",
      "Note: you may need to restart the kernel to use updated packages.\n"
     ]
    }
   ],
   "source": [
    "pip install sklearn"
   ]
  },
  {
   "cell_type": "code",
   "execution_count": 4,
   "id": "6b5e6670",
   "metadata": {},
   "outputs": [
    {
     "name": "stdout",
     "output_type": "stream",
     "text": [
      "\u001b[33mDEPRECATION: Configuring installation scheme with distutils config files is deprecated and will no longer work in the near future. If you are using a Homebrew or Linuxbrew Python, please see discussion at https://github.com/Homebrew/homebrew-core/issues/76621\u001b[0m\u001b[33m\n",
      "\u001b[0mRequirement already satisfied: pandas in /opt/homebrew/lib/python3.9/site-packages (1.4.2)\n",
      "Requirement already satisfied: numpy in /opt/homebrew/lib/python3.9/site-packages (1.22.3)\n",
      "Requirement already satisfied: seaborn in /opt/homebrew/lib/python3.9/site-packages (0.11.2)\n",
      "Requirement already satisfied: matplotlib in /opt/homebrew/lib/python3.9/site-packages (3.5.1)\n",
      "Requirement already satisfied: pytz>=2020.1 in /opt/homebrew/lib/python3.9/site-packages (from pandas) (2022.1)\n",
      "Requirement already satisfied: python-dateutil>=2.8.1 in /opt/homebrew/lib/python3.9/site-packages (from pandas) (2.8.2)\n",
      "Requirement already satisfied: scipy>=1.0 in /opt/homebrew/lib/python3.9/site-packages (from seaborn) (1.8.0)\n",
      "Requirement already satisfied: packaging>=20.0 in /opt/homebrew/lib/python3.9/site-packages (from matplotlib) (21.3)\n",
      "Requirement already satisfied: kiwisolver>=1.0.1 in /opt/homebrew/lib/python3.9/site-packages (from matplotlib) (1.4.2)\n",
      "Requirement already satisfied: pillow>=6.2.0 in /opt/homebrew/lib/python3.9/site-packages (from matplotlib) (9.1.0)\n",
      "Requirement already satisfied: cycler>=0.10 in /opt/homebrew/lib/python3.9/site-packages (from matplotlib) (0.11.0)\n",
      "Requirement already satisfied: fonttools>=4.22.0 in /opt/homebrew/lib/python3.9/site-packages (from matplotlib) (4.33.3)\n",
      "Requirement already satisfied: pyparsing>=2.2.1 in /opt/homebrew/lib/python3.9/site-packages (from matplotlib) (3.0.8)\n",
      "Requirement already satisfied: six>=1.5 in /opt/homebrew/lib/python3.9/site-packages (from python-dateutil>=2.8.1->pandas) (1.16.0)\n",
      "\u001b[33mDEPRECATION: Configuring installation scheme with distutils config files is deprecated and will no longer work in the near future. If you are using a Homebrew or Linuxbrew Python, please see discussion at https://github.com/Homebrew/homebrew-core/issues/76621\u001b[0m\u001b[33m\n",
      "\u001b[0m"
     ]
    }
   ],
   "source": [
    "!pip3 install pandas numpy seaborn matplotlib \n"
   ]
  },
  {
   "cell_type": "code",
   "execution_count": 5,
   "id": "f54e77ed",
   "metadata": {},
   "outputs": [
    {
     "name": "stdout",
     "output_type": "stream",
     "text": [
      "Requirement already satisfied: xgboost in /Users/rohith/opt/anaconda3/envs/vaibhav/lib/python3.7/site-packages (1.6.0)\n",
      "Requirement already satisfied: numpy in /Users/rohith/opt/anaconda3/envs/vaibhav/lib/python3.7/site-packages (from xgboost) (1.21.6)\n",
      "Requirement already satisfied: scipy in /Users/rohith/opt/anaconda3/envs/vaibhav/lib/python3.7/site-packages (from xgboost) (1.7.3)\n",
      "Note: you may need to restart the kernel to use updated packages.\n"
     ]
    }
   ],
   "source": [
    "pip install xgboost"
   ]
  },
  {
   "cell_type": "code",
   "execution_count": 237,
   "id": "c6e9d67e",
   "metadata": {},
   "outputs": [
    {
     "name": "stdout",
     "output_type": "stream",
     "text": [
      "Requirement already satisfied: imblearn in /Users/rohith/opt/anaconda3/envs/vaibhav/lib/python3.7/site-packages (0.0)\n",
      "Requirement already satisfied: imbalanced-learn in /Users/rohith/opt/anaconda3/envs/vaibhav/lib/python3.7/site-packages (from imblearn) (0.9.0)\n",
      "Requirement already satisfied: numpy>=1.14.6 in /Users/rohith/opt/anaconda3/envs/vaibhav/lib/python3.7/site-packages (from imbalanced-learn->imblearn) (1.21.6)\n",
      "Requirement already satisfied: joblib>=0.11 in /Users/rohith/opt/anaconda3/envs/vaibhav/lib/python3.7/site-packages (from imbalanced-learn->imblearn) (1.1.0)\n",
      "Requirement already satisfied: threadpoolctl>=2.0.0 in /Users/rohith/opt/anaconda3/envs/vaibhav/lib/python3.7/site-packages (from imbalanced-learn->imblearn) (3.1.0)\n",
      "Requirement already satisfied: scikit-learn>=1.0.1 in /Users/rohith/opt/anaconda3/envs/vaibhav/lib/python3.7/site-packages (from imbalanced-learn->imblearn) (1.0.2)\n",
      "Requirement already satisfied: scipy>=1.1.0 in /Users/rohith/opt/anaconda3/envs/vaibhav/lib/python3.7/site-packages (from imbalanced-learn->imblearn) (1.7.3)\n",
      "Note: you may need to restart the kernel to use updated packages.\n"
     ]
    }
   ],
   "source": [
    "pip install imblearn"
   ]
  },
  {
   "cell_type": "code",
   "execution_count": 6,
   "id": "07682187",
   "metadata": {},
   "outputs": [],
   "source": [
    "#Libraries\n",
    "import boto3\n",
    "# pip install pandas\n",
    "import pandas as pd\n",
    "import matplotlib.pyplot as plt\n",
    "import seaborn as sns\n",
    "from scipy.stats import skew\n",
    "from sklearn.linear_model import LogisticRegression\n",
    "from xgboost import XGBClassifier, XGBRegressor\n",
    "from sklearn.model_selection import GridSearchCV\n",
    "from sklearn.ensemble import RandomForestClassifier\n",
    "from sklearn.linear_model import SGDClassifier\n",
    "from sklearn.model_selection import RandomizedSearchCV\n",
    "from imblearn.over_sampling import SMOTE"
   ]
  },
  {
   "cell_type": "markdown",
   "id": "0bb6e45c",
   "metadata": {},
   "source": [
    "# Importing Data"
   ]
  },
  {
   "cell_type": "code",
   "execution_count": 7,
   "id": "f3bbd739",
   "metadata": {},
   "outputs": [],
   "source": [
    "client = boto3.client('s3')"
   ]
  },
  {
   "cell_type": "code",
   "execution_count": 8,
   "id": "045f272d",
   "metadata": {},
   "outputs": [],
   "source": [
    "path2 = 's3://handm1/customers.csv' \n",
    "path3 = 's3://handm1/transactions_train.csv'"
   ]
  },
  {
   "cell_type": "code",
   "execution_count": 9,
   "id": "720e48e8",
   "metadata": {},
   "outputs": [],
   "source": [
    "customers = pd.read_csv(path2)\n",
    "transaction = pd.read_csv(path3)"
   ]
  },
  {
   "cell_type": "code",
   "execution_count": 10,
   "id": "b780b905",
   "metadata": {},
   "outputs": [
    {
     "data": {
      "text/html": [
       "<div>\n",
       "<style scoped>\n",
       "    .dataframe tbody tr th:only-of-type {\n",
       "        vertical-align: middle;\n",
       "    }\n",
       "\n",
       "    .dataframe tbody tr th {\n",
       "        vertical-align: top;\n",
       "    }\n",
       "\n",
       "    .dataframe thead th {\n",
       "        text-align: right;\n",
       "    }\n",
       "</style>\n",
       "<table border=\"1\" class=\"dataframe\">\n",
       "  <thead>\n",
       "    <tr style=\"text-align: right;\">\n",
       "      <th></th>\n",
       "      <th>customer_id</th>\n",
       "      <th>FN</th>\n",
       "      <th>Active</th>\n",
       "      <th>club_member_status</th>\n",
       "      <th>fashion_news_frequency</th>\n",
       "      <th>age</th>\n",
       "    </tr>\n",
       "  </thead>\n",
       "  <tbody>\n",
       "    <tr>\n",
       "      <th>0</th>\n",
       "      <td>00000dbacae5abe5e23885899a1fa44253a17956c6d1c3...</td>\n",
       "      <td>NaN</td>\n",
       "      <td>NaN</td>\n",
       "      <td>ACTIVE</td>\n",
       "      <td>NONE</td>\n",
       "      <td>49.0</td>\n",
       "    </tr>\n",
       "    <tr>\n",
       "      <th>1</th>\n",
       "      <td>0000423b00ade91418cceaf3b26c6af3dd342b51fd051e...</td>\n",
       "      <td>NaN</td>\n",
       "      <td>NaN</td>\n",
       "      <td>ACTIVE</td>\n",
       "      <td>NONE</td>\n",
       "      <td>25.0</td>\n",
       "    </tr>\n",
       "    <tr>\n",
       "      <th>2</th>\n",
       "      <td>000058a12d5b43e67d225668fa1f8d618c13dc232df0ca...</td>\n",
       "      <td>NaN</td>\n",
       "      <td>NaN</td>\n",
       "      <td>ACTIVE</td>\n",
       "      <td>NONE</td>\n",
       "      <td>24.0</td>\n",
       "    </tr>\n",
       "    <tr>\n",
       "      <th>3</th>\n",
       "      <td>00005ca1c9ed5f5146b52ac8639a40ca9d57aeff4d1bd2...</td>\n",
       "      <td>NaN</td>\n",
       "      <td>NaN</td>\n",
       "      <td>ACTIVE</td>\n",
       "      <td>NONE</td>\n",
       "      <td>54.0</td>\n",
       "    </tr>\n",
       "    <tr>\n",
       "      <th>4</th>\n",
       "      <td>00006413d8573cd20ed7128e53b7b13819fe5cfc2d801f...</td>\n",
       "      <td>1.0</td>\n",
       "      <td>1.0</td>\n",
       "      <td>ACTIVE</td>\n",
       "      <td>Regularly</td>\n",
       "      <td>52.0</td>\n",
       "    </tr>\n",
       "  </tbody>\n",
       "</table>\n",
       "</div>"
      ],
      "text/plain": [
       "                                         customer_id   FN  Active  \\\n",
       "0  00000dbacae5abe5e23885899a1fa44253a17956c6d1c3...  NaN     NaN   \n",
       "1  0000423b00ade91418cceaf3b26c6af3dd342b51fd051e...  NaN     NaN   \n",
       "2  000058a12d5b43e67d225668fa1f8d618c13dc232df0ca...  NaN     NaN   \n",
       "3  00005ca1c9ed5f5146b52ac8639a40ca9d57aeff4d1bd2...  NaN     NaN   \n",
       "4  00006413d8573cd20ed7128e53b7b13819fe5cfc2d801f...  1.0     1.0   \n",
       "\n",
       "  club_member_status fashion_news_frequency   age  \n",
       "0             ACTIVE                   NONE  49.0  \n",
       "1             ACTIVE                   NONE  25.0  \n",
       "2             ACTIVE                   NONE  24.0  \n",
       "3             ACTIVE                   NONE  54.0  \n",
       "4             ACTIVE              Regularly  52.0  "
      ]
     },
     "execution_count": 10,
     "metadata": {},
     "output_type": "execute_result"
    }
   ],
   "source": [
    "customers.head()"
   ]
  },
  {
   "cell_type": "markdown",
   "id": "cc5b5fad",
   "metadata": {},
   "source": [
    "customers.columns"
   ]
  },
  {
   "cell_type": "code",
   "execution_count": 11,
   "id": "103eccb0",
   "metadata": {},
   "outputs": [
    {
     "data": {
      "text/plain": [
       "ACTIVE        972599\n",
       "PRE-CREATE     71024\n",
       "LEFT CLUB        348\n",
       "Name: club_member_status, dtype: int64"
      ]
     },
     "execution_count": 11,
     "metadata": {},
     "output_type": "execute_result"
    }
   ],
   "source": [
    "customers.club_member_status.value_counts()"
   ]
  },
  {
   "cell_type": "code",
   "execution_count": 12,
   "id": "51aecf36",
   "metadata": {},
   "outputs": [
    {
     "data": {
      "text/plain": [
       "customer_id                    0\n",
       "FN                        683679\n",
       "Active                    693339\n",
       "club_member_status          4604\n",
       "fashion_news_frequency     12304\n",
       "age                        12120\n",
       "dtype: int64"
      ]
     },
     "execution_count": 12,
     "metadata": {},
     "output_type": "execute_result"
    }
   ],
   "source": [
    "customers.isna().sum()"
   ]
  },
  {
   "cell_type": "code",
   "execution_count": 13,
   "id": "4a49d180",
   "metadata": {},
   "outputs": [
    {
     "data": {
      "text/plain": [
       "Index(['customer_id', 'FN', 'Active', 'club_member_status',\n",
       "       'fashion_news_frequency', 'age'],\n",
       "      dtype='object')"
      ]
     },
     "execution_count": 13,
     "metadata": {},
     "output_type": "execute_result"
    }
   ],
   "source": [
    "customers.columns"
   ]
  },
  {
   "cell_type": "code",
   "execution_count": 14,
   "id": "2d108b7d",
   "metadata": {},
   "outputs": [
    {
     "data": {
      "text/html": [
       "<div>\n",
       "<style scoped>\n",
       "    .dataframe tbody tr th:only-of-type {\n",
       "        vertical-align: middle;\n",
       "    }\n",
       "\n",
       "    .dataframe tbody tr th {\n",
       "        vertical-align: top;\n",
       "    }\n",
       "\n",
       "    .dataframe thead th {\n",
       "        text-align: right;\n",
       "    }\n",
       "</style>\n",
       "<table border=\"1\" class=\"dataframe\">\n",
       "  <thead>\n",
       "    <tr style=\"text-align: right;\">\n",
       "      <th></th>\n",
       "      <th>t_dat</th>\n",
       "      <th>customer_id</th>\n",
       "      <th>article_id</th>\n",
       "      <th>price</th>\n",
       "      <th>sales_channel_id</th>\n",
       "    </tr>\n",
       "  </thead>\n",
       "  <tbody>\n",
       "    <tr>\n",
       "      <th>0</th>\n",
       "      <td>2018-09-20</td>\n",
       "      <td>000058a12d5b43e67d225668fa1f8d618c13dc232df0ca...</td>\n",
       "      <td>663713001</td>\n",
       "      <td>0.050831</td>\n",
       "      <td>2</td>\n",
       "    </tr>\n",
       "    <tr>\n",
       "      <th>1</th>\n",
       "      <td>2018-09-20</td>\n",
       "      <td>000058a12d5b43e67d225668fa1f8d618c13dc232df0ca...</td>\n",
       "      <td>541518023</td>\n",
       "      <td>0.030492</td>\n",
       "      <td>2</td>\n",
       "    </tr>\n",
       "    <tr>\n",
       "      <th>2</th>\n",
       "      <td>2018-09-20</td>\n",
       "      <td>00007d2de826758b65a93dd24ce629ed66842531df6699...</td>\n",
       "      <td>505221004</td>\n",
       "      <td>0.015237</td>\n",
       "      <td>2</td>\n",
       "    </tr>\n",
       "    <tr>\n",
       "      <th>3</th>\n",
       "      <td>2018-09-20</td>\n",
       "      <td>00007d2de826758b65a93dd24ce629ed66842531df6699...</td>\n",
       "      <td>685687003</td>\n",
       "      <td>0.016932</td>\n",
       "      <td>2</td>\n",
       "    </tr>\n",
       "    <tr>\n",
       "      <th>4</th>\n",
       "      <td>2018-09-20</td>\n",
       "      <td>00007d2de826758b65a93dd24ce629ed66842531df6699...</td>\n",
       "      <td>685687004</td>\n",
       "      <td>0.016932</td>\n",
       "      <td>2</td>\n",
       "    </tr>\n",
       "  </tbody>\n",
       "</table>\n",
       "</div>"
      ],
      "text/plain": [
       "        t_dat                                        customer_id  article_id  \\\n",
       "0  2018-09-20  000058a12d5b43e67d225668fa1f8d618c13dc232df0ca...   663713001   \n",
       "1  2018-09-20  000058a12d5b43e67d225668fa1f8d618c13dc232df0ca...   541518023   \n",
       "2  2018-09-20  00007d2de826758b65a93dd24ce629ed66842531df6699...   505221004   \n",
       "3  2018-09-20  00007d2de826758b65a93dd24ce629ed66842531df6699...   685687003   \n",
       "4  2018-09-20  00007d2de826758b65a93dd24ce629ed66842531df6699...   685687004   \n",
       "\n",
       "      price  sales_channel_id  \n",
       "0  0.050831                 2  \n",
       "1  0.030492                 2  \n",
       "2  0.015237                 2  \n",
       "3  0.016932                 2  \n",
       "4  0.016932                 2  "
      ]
     },
     "execution_count": 14,
     "metadata": {},
     "output_type": "execute_result"
    }
   ],
   "source": [
    "transaction.head()"
   ]
  },
  {
   "cell_type": "code",
   "execution_count": 15,
   "id": "6d3cc36c",
   "metadata": {},
   "outputs": [
    {
     "data": {
      "text/plain": [
       "Index(['t_dat', 'customer_id', 'article_id', 'price', 'sales_channel_id'], dtype='object')"
      ]
     },
     "execution_count": 15,
     "metadata": {},
     "output_type": "execute_result"
    }
   ],
   "source": [
    "transaction.columns"
   ]
  },
  {
   "cell_type": "markdown",
   "id": "8223693e",
   "metadata": {},
   "source": [
    "# Left Join for transaction and customer tables"
   ]
  },
  {
   "cell_type": "code",
   "execution_count": 16,
   "id": "0c9bd1c2",
   "metadata": {},
   "outputs": [],
   "source": [
    "result = pd.merge(transaction,customers,how=\"left\", on=[\"customer_id\",\"customer_id\"])"
   ]
  },
  {
   "cell_type": "code",
   "execution_count": 17,
   "id": "30dd71cf",
   "metadata": {},
   "outputs": [
    {
     "data": {
      "text/html": [
       "<div>\n",
       "<style scoped>\n",
       "    .dataframe tbody tr th:only-of-type {\n",
       "        vertical-align: middle;\n",
       "    }\n",
       "\n",
       "    .dataframe tbody tr th {\n",
       "        vertical-align: top;\n",
       "    }\n",
       "\n",
       "    .dataframe thead th {\n",
       "        text-align: right;\n",
       "    }\n",
       "</style>\n",
       "<table border=\"1\" class=\"dataframe\">\n",
       "  <thead>\n",
       "    <tr style=\"text-align: right;\">\n",
       "      <th></th>\n",
       "      <th>t_dat</th>\n",
       "      <th>customer_id</th>\n",
       "      <th>article_id</th>\n",
       "      <th>price</th>\n",
       "      <th>sales_channel_id</th>\n",
       "      <th>FN</th>\n",
       "      <th>Active</th>\n",
       "      <th>club_member_status</th>\n",
       "      <th>fashion_news_frequency</th>\n",
       "      <th>age</th>\n",
       "    </tr>\n",
       "  </thead>\n",
       "  <tbody>\n",
       "    <tr>\n",
       "      <th>0</th>\n",
       "      <td>2018-09-20</td>\n",
       "      <td>000058a12d5b43e67d225668fa1f8d618c13dc232df0ca...</td>\n",
       "      <td>663713001</td>\n",
       "      <td>0.050831</td>\n",
       "      <td>2</td>\n",
       "      <td>NaN</td>\n",
       "      <td>NaN</td>\n",
       "      <td>ACTIVE</td>\n",
       "      <td>NONE</td>\n",
       "      <td>24.0</td>\n",
       "    </tr>\n",
       "    <tr>\n",
       "      <th>1</th>\n",
       "      <td>2018-09-20</td>\n",
       "      <td>000058a12d5b43e67d225668fa1f8d618c13dc232df0ca...</td>\n",
       "      <td>541518023</td>\n",
       "      <td>0.030492</td>\n",
       "      <td>2</td>\n",
       "      <td>NaN</td>\n",
       "      <td>NaN</td>\n",
       "      <td>ACTIVE</td>\n",
       "      <td>NONE</td>\n",
       "      <td>24.0</td>\n",
       "    </tr>\n",
       "    <tr>\n",
       "      <th>2</th>\n",
       "      <td>2018-09-20</td>\n",
       "      <td>00007d2de826758b65a93dd24ce629ed66842531df6699...</td>\n",
       "      <td>505221004</td>\n",
       "      <td>0.015237</td>\n",
       "      <td>2</td>\n",
       "      <td>1.0</td>\n",
       "      <td>1.0</td>\n",
       "      <td>ACTIVE</td>\n",
       "      <td>Regularly</td>\n",
       "      <td>32.0</td>\n",
       "    </tr>\n",
       "    <tr>\n",
       "      <th>3</th>\n",
       "      <td>2018-09-20</td>\n",
       "      <td>00007d2de826758b65a93dd24ce629ed66842531df6699...</td>\n",
       "      <td>685687003</td>\n",
       "      <td>0.016932</td>\n",
       "      <td>2</td>\n",
       "      <td>1.0</td>\n",
       "      <td>1.0</td>\n",
       "      <td>ACTIVE</td>\n",
       "      <td>Regularly</td>\n",
       "      <td>32.0</td>\n",
       "    </tr>\n",
       "    <tr>\n",
       "      <th>4</th>\n",
       "      <td>2018-09-20</td>\n",
       "      <td>00007d2de826758b65a93dd24ce629ed66842531df6699...</td>\n",
       "      <td>685687004</td>\n",
       "      <td>0.016932</td>\n",
       "      <td>2</td>\n",
       "      <td>1.0</td>\n",
       "      <td>1.0</td>\n",
       "      <td>ACTIVE</td>\n",
       "      <td>Regularly</td>\n",
       "      <td>32.0</td>\n",
       "    </tr>\n",
       "  </tbody>\n",
       "</table>\n",
       "</div>"
      ],
      "text/plain": [
       "        t_dat                                        customer_id  article_id  \\\n",
       "0  2018-09-20  000058a12d5b43e67d225668fa1f8d618c13dc232df0ca...   663713001   \n",
       "1  2018-09-20  000058a12d5b43e67d225668fa1f8d618c13dc232df0ca...   541518023   \n",
       "2  2018-09-20  00007d2de826758b65a93dd24ce629ed66842531df6699...   505221004   \n",
       "3  2018-09-20  00007d2de826758b65a93dd24ce629ed66842531df6699...   685687003   \n",
       "4  2018-09-20  00007d2de826758b65a93dd24ce629ed66842531df6699...   685687004   \n",
       "\n",
       "      price  sales_channel_id   FN  Active club_member_status  \\\n",
       "0  0.050831                 2  NaN     NaN             ACTIVE   \n",
       "1  0.030492                 2  NaN     NaN             ACTIVE   \n",
       "2  0.015237                 2  1.0     1.0             ACTIVE   \n",
       "3  0.016932                 2  1.0     1.0             ACTIVE   \n",
       "4  0.016932                 2  1.0     1.0             ACTIVE   \n",
       "\n",
       "  fashion_news_frequency   age  \n",
       "0                   NONE  24.0  \n",
       "1                   NONE  24.0  \n",
       "2              Regularly  32.0  \n",
       "3              Regularly  32.0  \n",
       "4              Regularly  32.0  "
      ]
     },
     "execution_count": 17,
     "metadata": {},
     "output_type": "execute_result"
    }
   ],
   "source": [
    "result.head()"
   ]
  },
  {
   "cell_type": "code",
   "execution_count": 18,
   "id": "c868d88f",
   "metadata": {},
   "outputs": [
    {
     "data": {
      "text/plain": [
       "Index(['t_dat', 'customer_id', 'article_id', 'price', 'sales_channel_id', 'FN',\n",
       "       'Active', 'club_member_status', 'fashion_news_frequency', 'age'],\n",
       "      dtype='object')"
      ]
     },
     "execution_count": 18,
     "metadata": {},
     "output_type": "execute_result"
    }
   ],
   "source": [
    "result.columns"
   ]
  },
  {
   "cell_type": "code",
   "execution_count": 19,
   "id": "14336f5d",
   "metadata": {},
   "outputs": [],
   "source": [
    "## Removing Unnecessary features\n",
    "# Here article_id is removed because our goal is to findout if the person is going to buy a product in 90 days \n",
    "# or not. Article id is not needed for it."
   ]
  },
  {
   "cell_type": "code",
   "execution_count": 20,
   "id": "50f38d71",
   "metadata": {},
   "outputs": [],
   "source": [
    "result = result.drop(['article_id'],axis=1)"
   ]
  },
  {
   "cell_type": "markdown",
   "id": "a2fbae1d",
   "metadata": {},
   "source": [
    "# Data Preprocessing\n",
    "- Missing Values\n",
    "- Cardinality\n",
    "- Minumum value\n",
    "- Maximum value\n",
    "- DataTypes\n",
    "- Handling Missing Value\n",
    "- Handling DataType\n",
    "- Outliers"
   ]
  },
  {
   "cell_type": "markdown",
   "id": "39a7bc0b",
   "metadata": {},
   "source": [
    "## Missing Values"
   ]
  },
  {
   "cell_type": "code",
   "execution_count": 21,
   "id": "70ed3706",
   "metadata": {},
   "outputs": [
    {
     "data": {
      "text/plain": [
       "t_dat                            0\n",
       "customer_id                      0\n",
       "price                            0\n",
       "sales_channel_id                 0\n",
       "FN                        21384037\n",
       "Active                    21539667\n",
       "club_member_status         7512059\n",
       "fashion_news_frequency     7572299\n",
       "age                        7570878\n",
       "dtype: int64"
      ]
     },
     "execution_count": 21,
     "metadata": {},
     "output_type": "execute_result"
    }
   ],
   "source": [
    "result.isna().sum()"
   ]
  },
  {
   "cell_type": "code",
   "execution_count": 22,
   "id": "d6ce5d19",
   "metadata": {},
   "outputs": [],
   "source": [
    "missing_values = pd.DataFrame(result.isna().sum(),columns=['Missing_Values'])"
   ]
  },
  {
   "cell_type": "code",
   "execution_count": 23,
   "id": "f1a960d6",
   "metadata": {},
   "outputs": [
    {
     "data": {
      "text/plain": [
       "t_dat                      0.000000\n",
       "customer_id                0.000000\n",
       "price                      0.000000\n",
       "sales_channel_id           0.000000\n",
       "FN                        67.270099\n",
       "Active                    67.759681\n",
       "club_member_status        23.631504\n",
       "fashion_news_frequency    23.821007\n",
       "age                       23.816537\n",
       "dtype: float64"
      ]
     },
     "execution_count": 23,
     "metadata": {},
     "output_type": "execute_result"
    }
   ],
   "source": [
    "result.isna().sum() * 100/len(result)"
   ]
  },
  {
   "cell_type": "code",
   "execution_count": 24,
   "id": "8a266dcb",
   "metadata": {},
   "outputs": [],
   "source": [
    "# Cardinality\n",
    "# Here we have 2 years data which is approx of 734.\n",
    "# Customer_id, article_id, price, and age unique values looks reasonable.  \n",
    "#Sales_channel_id, club_members, and fashnion news frequency are also having reable unique values"
   ]
  },
  {
   "cell_type": "code",
   "execution_count": 25,
   "id": "4537b9f4",
   "metadata": {},
   "outputs": [
    {
     "data": {
      "text/plain": [
       "t_dat                         734\n",
       "customer_id               1362281\n",
       "price                        9857\n",
       "sales_channel_id                2\n",
       "FN                              1\n",
       "Active                          1\n",
       "club_member_status              3\n",
       "fashion_news_frequency          4\n",
       "age                            84\n",
       "dtype: int64"
      ]
     },
     "execution_count": 25,
     "metadata": {},
     "output_type": "execute_result"
    }
   ],
   "source": [
    "result.nunique()"
   ]
  },
  {
   "cell_type": "code",
   "execution_count": 26,
   "id": "907777e9",
   "metadata": {},
   "outputs": [],
   "source": [
    "Cardinality = pd.DataFrame(result.nunique(),columns=['Cardinality'])"
   ]
  },
  {
   "cell_type": "code",
   "execution_count": 27,
   "id": "23b4202b",
   "metadata": {},
   "outputs": [],
   "source": [
    "#Count"
   ]
  },
  {
   "cell_type": "code",
   "execution_count": 28,
   "id": "965bdbae",
   "metadata": {},
   "outputs": [
    {
     "data": {
      "text/plain": [
       "t_dat                     31788324\n",
       "customer_id               31788324\n",
       "price                     31788324\n",
       "sales_channel_id          31788324\n",
       "FN                        10404287\n",
       "Active                    10248657\n",
       "club_member_status        24276265\n",
       "fashion_news_frequency    24216025\n",
       "age                       24217446\n",
       "dtype: int64"
      ]
     },
     "execution_count": 28,
     "metadata": {},
     "output_type": "execute_result"
    }
   ],
   "source": [
    "result.count()"
   ]
  },
  {
   "cell_type": "code",
   "execution_count": 29,
   "id": "627bf6ba",
   "metadata": {},
   "outputs": [],
   "source": [
    "count = pd.DataFrame(result.count(),columns=['count'])"
   ]
  },
  {
   "cell_type": "code",
   "execution_count": 30,
   "id": "591cc8c5",
   "metadata": {},
   "outputs": [],
   "source": [
    "# Maximum and minimum values"
   ]
  },
  {
   "cell_type": "code",
   "execution_count": 31,
   "id": "4547c5d4",
   "metadata": {},
   "outputs": [
    {
     "data": {
      "text/html": [
       "<div>\n",
       "<style scoped>\n",
       "    .dataframe tbody tr th:only-of-type {\n",
       "        vertical-align: middle;\n",
       "    }\n",
       "\n",
       "    .dataframe tbody tr th {\n",
       "        vertical-align: top;\n",
       "    }\n",
       "\n",
       "    .dataframe thead th {\n",
       "        text-align: right;\n",
       "    }\n",
       "</style>\n",
       "<table border=\"1\" class=\"dataframe\">\n",
       "  <thead>\n",
       "    <tr style=\"text-align: right;\">\n",
       "      <th></th>\n",
       "      <th>price</th>\n",
       "      <th>sales_channel_id</th>\n",
       "      <th>FN</th>\n",
       "      <th>Active</th>\n",
       "      <th>age</th>\n",
       "    </tr>\n",
       "  </thead>\n",
       "  <tbody>\n",
       "    <tr>\n",
       "      <th>count</th>\n",
       "      <td>3.178832e+07</td>\n",
       "      <td>3.178832e+07</td>\n",
       "      <td>10404287.0</td>\n",
       "      <td>10248657.0</td>\n",
       "      <td>2.421745e+07</td>\n",
       "    </tr>\n",
       "    <tr>\n",
       "      <th>mean</th>\n",
       "      <td>2.782927e-02</td>\n",
       "      <td>1.704028e+00</td>\n",
       "      <td>1.0</td>\n",
       "      <td>1.0</td>\n",
       "      <td>3.603155e+01</td>\n",
       "    </tr>\n",
       "    <tr>\n",
       "      <th>std</th>\n",
       "      <td>1.918113e-02</td>\n",
       "      <td>4.564786e-01</td>\n",
       "      <td>0.0</td>\n",
       "      <td>0.0</td>\n",
       "      <td>1.298070e+01</td>\n",
       "    </tr>\n",
       "    <tr>\n",
       "      <th>min</th>\n",
       "      <td>1.694915e-05</td>\n",
       "      <td>1.000000e+00</td>\n",
       "      <td>1.0</td>\n",
       "      <td>1.0</td>\n",
       "      <td>1.600000e+01</td>\n",
       "    </tr>\n",
       "    <tr>\n",
       "      <th>25%</th>\n",
       "      <td>1.581356e-02</td>\n",
       "      <td>1.000000e+00</td>\n",
       "      <td>1.0</td>\n",
       "      <td>1.0</td>\n",
       "      <td>2.500000e+01</td>\n",
       "    </tr>\n",
       "    <tr>\n",
       "      <th>50%</th>\n",
       "      <td>2.540678e-02</td>\n",
       "      <td>2.000000e+00</td>\n",
       "      <td>1.0</td>\n",
       "      <td>1.0</td>\n",
       "      <td>3.100000e+01</td>\n",
       "    </tr>\n",
       "    <tr>\n",
       "      <th>75%</th>\n",
       "      <td>3.388136e-02</td>\n",
       "      <td>2.000000e+00</td>\n",
       "      <td>1.0</td>\n",
       "      <td>1.0</td>\n",
       "      <td>4.700000e+01</td>\n",
       "    </tr>\n",
       "    <tr>\n",
       "      <th>max</th>\n",
       "      <td>5.915254e-01</td>\n",
       "      <td>2.000000e+00</td>\n",
       "      <td>1.0</td>\n",
       "      <td>1.0</td>\n",
       "      <td>9.900000e+01</td>\n",
       "    </tr>\n",
       "  </tbody>\n",
       "</table>\n",
       "</div>"
      ],
      "text/plain": [
       "              price  sales_channel_id          FN      Active           age\n",
       "count  3.178832e+07      3.178832e+07  10404287.0  10248657.0  2.421745e+07\n",
       "mean   2.782927e-02      1.704028e+00         1.0         1.0  3.603155e+01\n",
       "std    1.918113e-02      4.564786e-01         0.0         0.0  1.298070e+01\n",
       "min    1.694915e-05      1.000000e+00         1.0         1.0  1.600000e+01\n",
       "25%    1.581356e-02      1.000000e+00         1.0         1.0  2.500000e+01\n",
       "50%    2.540678e-02      2.000000e+00         1.0         1.0  3.100000e+01\n",
       "75%    3.388136e-02      2.000000e+00         1.0         1.0  4.700000e+01\n",
       "max    5.915254e-01      2.000000e+00         1.0         1.0  9.900000e+01"
      ]
     },
     "execution_count": 31,
     "metadata": {},
     "output_type": "execute_result"
    }
   ],
   "source": [
    "result.describe()"
   ]
  },
  {
   "cell_type": "code",
   "execution_count": 32,
   "id": "a8d1aff1",
   "metadata": {},
   "outputs": [],
   "source": [
    "# Data types"
   ]
  },
  {
   "cell_type": "code",
   "execution_count": 33,
   "id": "e8efa39b",
   "metadata": {},
   "outputs": [
    {
     "name": "stdout",
     "output_type": "stream",
     "text": [
      "<class 'pandas.core.frame.DataFrame'>\n",
      "Int64Index: 31788324 entries, 0 to 31788323\n",
      "Data columns (total 9 columns):\n",
      " #   Column                  Dtype  \n",
      "---  ------                  -----  \n",
      " 0   t_dat                   object \n",
      " 1   customer_id             object \n",
      " 2   price                   float64\n",
      " 3   sales_channel_id        int64  \n",
      " 4   FN                      float64\n",
      " 5   Active                  float64\n",
      " 6   club_member_status      object \n",
      " 7   fashion_news_frequency  object \n",
      " 8   age                     float64\n",
      "dtypes: float64(4), int64(1), object(4)\n",
      "memory usage: 2.4+ GB\n"
     ]
    }
   ],
   "source": [
    "result.info()"
   ]
  },
  {
   "cell_type": "code",
   "execution_count": 34,
   "id": "3a5e67e4",
   "metadata": {},
   "outputs": [],
   "source": [
    "data_types = pd.DataFrame(result.dtypes,columns=['Data_Types'])"
   ]
  },
  {
   "cell_type": "code",
   "execution_count": 35,
   "id": "67d37216",
   "metadata": {},
   "outputs": [],
   "source": [
    "#Mode"
   ]
  },
  {
   "cell_type": "code",
   "execution_count": 36,
   "id": "bbaf730a",
   "metadata": {},
   "outputs": [],
   "source": [
    "mode = pd.DataFrame(result[['sales_channel_id','club_member_status','fashion_news_frequency']].value_counts().idxmax(),columns=['Mode'])"
   ]
  },
  {
   "cell_type": "code",
   "execution_count": 37,
   "id": "7acf765a",
   "metadata": {},
   "outputs": [
    {
     "data": {
      "text/html": [
       "<div>\n",
       "<style scoped>\n",
       "    .dataframe tbody tr th:only-of-type {\n",
       "        vertical-align: middle;\n",
       "    }\n",
       "\n",
       "    .dataframe tbody tr th {\n",
       "        vertical-align: top;\n",
       "    }\n",
       "\n",
       "    .dataframe thead th {\n",
       "        text-align: right;\n",
       "    }\n",
       "</style>\n",
       "<table border=\"1\" class=\"dataframe\">\n",
       "  <thead>\n",
       "    <tr style=\"text-align: right;\">\n",
       "      <th></th>\n",
       "      <th>Mode</th>\n",
       "    </tr>\n",
       "  </thead>\n",
       "  <tbody>\n",
       "    <tr>\n",
       "      <th>0</th>\n",
       "      <td>2</td>\n",
       "    </tr>\n",
       "    <tr>\n",
       "      <th>1</th>\n",
       "      <td>ACTIVE</td>\n",
       "    </tr>\n",
       "    <tr>\n",
       "      <th>2</th>\n",
       "      <td>NONE</td>\n",
       "    </tr>\n",
       "  </tbody>\n",
       "</table>\n",
       "</div>"
      ],
      "text/plain": [
       "     Mode\n",
       "0       2\n",
       "1  ACTIVE\n",
       "2    NONE"
      ]
     },
     "execution_count": 37,
     "metadata": {},
     "output_type": "execute_result"
    }
   ],
   "source": [
    "mode"
   ]
  },
  {
   "cell_type": "code",
   "execution_count": 38,
   "id": "446fdbab",
   "metadata": {},
   "outputs": [],
   "source": [
    "#Data quality report"
   ]
  },
  {
   "cell_type": "code",
   "execution_count": 39,
   "id": "b9caf02a",
   "metadata": {},
   "outputs": [
    {
     "data": {
      "text/html": [
       "<div>\n",
       "<style scoped>\n",
       "    .dataframe tbody tr th:only-of-type {\n",
       "        vertical-align: middle;\n",
       "    }\n",
       "\n",
       "    .dataframe tbody tr th {\n",
       "        vertical-align: top;\n",
       "    }\n",
       "\n",
       "    .dataframe thead th {\n",
       "        text-align: right;\n",
       "    }\n",
       "</style>\n",
       "<table border=\"1\" class=\"dataframe\">\n",
       "  <thead>\n",
       "    <tr style=\"text-align: right;\">\n",
       "      <th></th>\n",
       "      <th>Data_Types</th>\n",
       "      <th>Missing_Values</th>\n",
       "      <th>Cardinality</th>\n",
       "      <th>count</th>\n",
       "    </tr>\n",
       "  </thead>\n",
       "  <tbody>\n",
       "    <tr>\n",
       "      <th>t_dat</th>\n",
       "      <td>object</td>\n",
       "      <td>0</td>\n",
       "      <td>734</td>\n",
       "      <td>31788324</td>\n",
       "    </tr>\n",
       "    <tr>\n",
       "      <th>customer_id</th>\n",
       "      <td>object</td>\n",
       "      <td>0</td>\n",
       "      <td>1362281</td>\n",
       "      <td>31788324</td>\n",
       "    </tr>\n",
       "    <tr>\n",
       "      <th>price</th>\n",
       "      <td>float64</td>\n",
       "      <td>0</td>\n",
       "      <td>9857</td>\n",
       "      <td>31788324</td>\n",
       "    </tr>\n",
       "    <tr>\n",
       "      <th>sales_channel_id</th>\n",
       "      <td>int64</td>\n",
       "      <td>0</td>\n",
       "      <td>2</td>\n",
       "      <td>31788324</td>\n",
       "    </tr>\n",
       "    <tr>\n",
       "      <th>FN</th>\n",
       "      <td>float64</td>\n",
       "      <td>21384037</td>\n",
       "      <td>1</td>\n",
       "      <td>10404287</td>\n",
       "    </tr>\n",
       "    <tr>\n",
       "      <th>Active</th>\n",
       "      <td>float64</td>\n",
       "      <td>21539667</td>\n",
       "      <td>1</td>\n",
       "      <td>10248657</td>\n",
       "    </tr>\n",
       "    <tr>\n",
       "      <th>club_member_status</th>\n",
       "      <td>object</td>\n",
       "      <td>7512059</td>\n",
       "      <td>3</td>\n",
       "      <td>24276265</td>\n",
       "    </tr>\n",
       "    <tr>\n",
       "      <th>fashion_news_frequency</th>\n",
       "      <td>object</td>\n",
       "      <td>7572299</td>\n",
       "      <td>4</td>\n",
       "      <td>24216025</td>\n",
       "    </tr>\n",
       "    <tr>\n",
       "      <th>age</th>\n",
       "      <td>float64</td>\n",
       "      <td>7570878</td>\n",
       "      <td>84</td>\n",
       "      <td>24217446</td>\n",
       "    </tr>\n",
       "  </tbody>\n",
       "</table>\n",
       "</div>"
      ],
      "text/plain": [
       "                       Data_Types  Missing_Values  Cardinality     count\n",
       "t_dat                      object               0          734  31788324\n",
       "customer_id                object               0      1362281  31788324\n",
       "price                     float64               0         9857  31788324\n",
       "sales_channel_id            int64               0            2  31788324\n",
       "FN                        float64        21384037            1  10404287\n",
       "Active                    float64        21539667            1  10248657\n",
       "club_member_status         object         7512059            3  24276265\n",
       "fashion_news_frequency     object         7572299            4  24216025\n",
       "age                       float64         7570878           84  24217446"
      ]
     },
     "execution_count": 39,
     "metadata": {},
     "output_type": "execute_result"
    }
   ],
   "source": [
    "data_quality_reportt = data_types.join(missing_values).join(Cardinality).join(count)\n",
    "data_quality_reportt"
   ]
  },
  {
   "cell_type": "code",
   "execution_count": 40,
   "id": "339d0b35",
   "metadata": {},
   "outputs": [],
   "source": [
    "## Data Quality Plan"
   ]
  },
  {
   "cell_type": "code",
   "execution_count": 41,
   "id": "0d73b9d0",
   "metadata": {},
   "outputs": [],
   "source": [
    "data_Quality_Plan = pd.DataFrame({'Feature':['Missing','Missing','Missing','DataType'],'Data Quality Issue':['More than 67% missing','23% Missing values','23% numerical missing values','Data type for date is object'],'Potential Handling Strategies':['remove because the missing values are more than 50%','Impute it with None','Impute it with Median','Convert the data type to time_date']})"
   ]
  },
  {
   "cell_type": "code",
   "execution_count": 42,
   "id": "6c0bd71b",
   "metadata": {},
   "outputs": [
    {
     "data": {
      "text/html": [
       "<div>\n",
       "<style scoped>\n",
       "    .dataframe tbody tr th:only-of-type {\n",
       "        vertical-align: middle;\n",
       "    }\n",
       "\n",
       "    .dataframe tbody tr th {\n",
       "        vertical-align: top;\n",
       "    }\n",
       "\n",
       "    .dataframe thead th {\n",
       "        text-align: right;\n",
       "    }\n",
       "</style>\n",
       "<table border=\"1\" class=\"dataframe\">\n",
       "  <thead>\n",
       "    <tr style=\"text-align: right;\">\n",
       "      <th></th>\n",
       "      <th>Feature</th>\n",
       "      <th>Data Quality Issue</th>\n",
       "      <th>Potential Handling Strategies</th>\n",
       "    </tr>\n",
       "  </thead>\n",
       "  <tbody>\n",
       "    <tr>\n",
       "      <th>0</th>\n",
       "      <td>Missing</td>\n",
       "      <td>More than 67% missing</td>\n",
       "      <td>remove because the missing values are more tha...</td>\n",
       "    </tr>\n",
       "    <tr>\n",
       "      <th>1</th>\n",
       "      <td>Missing</td>\n",
       "      <td>23% Missing values</td>\n",
       "      <td>Impute it with None</td>\n",
       "    </tr>\n",
       "    <tr>\n",
       "      <th>2</th>\n",
       "      <td>Missing</td>\n",
       "      <td>23% numerical missing values</td>\n",
       "      <td>Impute it with Median</td>\n",
       "    </tr>\n",
       "    <tr>\n",
       "      <th>3</th>\n",
       "      <td>DataType</td>\n",
       "      <td>Data type for date is object</td>\n",
       "      <td>Convert the data type to time_date</td>\n",
       "    </tr>\n",
       "  </tbody>\n",
       "</table>\n",
       "</div>"
      ],
      "text/plain": [
       "    Feature            Data Quality Issue  \\\n",
       "0   Missing         More than 67% missing   \n",
       "1   Missing            23% Missing values   \n",
       "2   Missing  23% numerical missing values   \n",
       "3  DataType  Data type for date is object   \n",
       "\n",
       "                       Potential Handling Strategies  \n",
       "0  remove because the missing values are more tha...  \n",
       "1                                Impute it with None  \n",
       "2                              Impute it with Median  \n",
       "3                 Convert the data type to time_date  "
      ]
     },
     "execution_count": 42,
     "metadata": {},
     "output_type": "execute_result"
    }
   ],
   "source": [
    "data_Quality_Plan"
   ]
  },
  {
   "cell_type": "markdown",
   "id": "fdf91a34",
   "metadata": {},
   "source": [
    "## Handling"
   ]
  },
  {
   "cell_type": "code",
   "execution_count": 43,
   "id": "ee6256be",
   "metadata": {},
   "outputs": [],
   "source": [
    "# Handling Missing Values"
   ]
  },
  {
   "cell_type": "code",
   "execution_count": 44,
   "id": "b6c87bf3",
   "metadata": {},
   "outputs": [],
   "source": [
    "# Here both FN and Active are having more than 60%, so removing the columns is the best option.\n",
    "\n",
    "#Clubmember status and fashion news frequency are filled with None. (their missing values are less than 50%)"
   ]
  },
  {
   "cell_type": "code",
   "execution_count": 45,
   "id": "a012033a",
   "metadata": {},
   "outputs": [],
   "source": [
    "result = result.drop(['FN','Active'],axis=1)"
   ]
  },
  {
   "cell_type": "code",
   "execution_count": 46,
   "id": "e06a03d6",
   "metadata": {},
   "outputs": [],
   "source": [
    "result.fillna({\"club_member_status\":'No','fashion_news_frequency':'None'},inplace=True)"
   ]
  },
  {
   "cell_type": "code",
   "execution_count": 47,
   "id": "170ac829",
   "metadata": {},
   "outputs": [
    {
     "data": {
      "text/plain": [
       "t_dat                           0\n",
       "customer_id                     0\n",
       "price                           0\n",
       "sales_channel_id                0\n",
       "club_member_status              0\n",
       "fashion_news_frequency          0\n",
       "age                       7570878\n",
       "dtype: int64"
      ]
     },
     "execution_count": 47,
     "metadata": {},
     "output_type": "execute_result"
    }
   ],
   "source": [
    "result.isna().sum()"
   ]
  },
  {
   "cell_type": "code",
   "execution_count": 48,
   "id": "c7e72eae",
   "metadata": {},
   "outputs": [],
   "source": [
    "#Age has 23% of missing value, so we are imputing the missing value with median."
   ]
  },
  {
   "cell_type": "code",
   "execution_count": 49,
   "id": "8b4744de",
   "metadata": {},
   "outputs": [],
   "source": [
    "result = result.fillna({'age': result['age'].median()})"
   ]
  },
  {
   "cell_type": "code",
   "execution_count": 50,
   "id": "561cced2",
   "metadata": {},
   "outputs": [],
   "source": [
    "#Handling Datatypes"
   ]
  },
  {
   "cell_type": "code",
   "execution_count": 51,
   "id": "89783ec3",
   "metadata": {},
   "outputs": [],
   "source": [
    "# Handling Data Types\n",
    "# t_dat is representing date column, but the datatype is object.\n",
    "# So, converted into datetime datatype "
   ]
  },
  {
   "cell_type": "code",
   "execution_count": 52,
   "id": "076c854c",
   "metadata": {},
   "outputs": [],
   "source": [
    "result['t_dat'] = pd.to_datetime(result['t_dat'],format='%Y-%m-%d')"
   ]
  },
  {
   "cell_type": "code",
   "execution_count": 53,
   "id": "29477096",
   "metadata": {},
   "outputs": [
    {
     "name": "stdout",
     "output_type": "stream",
     "text": [
      "<class 'pandas.core.frame.DataFrame'>\n",
      "Int64Index: 31788324 entries, 0 to 31788323\n",
      "Data columns (total 7 columns):\n",
      " #   Column                  Dtype         \n",
      "---  ------                  -----         \n",
      " 0   t_dat                   datetime64[ns]\n",
      " 1   customer_id             object        \n",
      " 2   price                   float64       \n",
      " 3   sales_channel_id        int64         \n",
      " 4   club_member_status      object        \n",
      " 5   fashion_news_frequency  object        \n",
      " 6   age                     float64       \n",
      "dtypes: datetime64[ns](1), float64(2), int64(1), object(3)\n",
      "memory usage: 1.9+ GB\n"
     ]
    }
   ],
   "source": [
    "result.info()"
   ]
  },
  {
   "cell_type": "code",
   "execution_count": 54,
   "id": "0ba6d335",
   "metadata": {},
   "outputs": [],
   "source": [
    "## Outliers (Incomplete)"
   ]
  },
  {
   "cell_type": "code",
   "execution_count": 55,
   "id": "e0d150e1",
   "metadata": {},
   "outputs": [
    {
     "name": "stdout",
     "output_type": "stream",
     "text": [
      "price                0.018068\n",
      "sales_channel_id     1.000000\n",
      "age                 15.000000\n",
      "dtype: float64\n"
     ]
    }
   ],
   "source": [
    "Q1 = result.quantile(0.25)\n",
    "Q3 = result.quantile(0.75)\n",
    "IQR = Q3 - Q1\n",
    "print(IQR)"
   ]
  },
  {
   "cell_type": "code",
   "execution_count": 56,
   "id": "3501c87b",
   "metadata": {},
   "outputs": [
    {
     "data": {
      "text/plain": [
       "<AxesSubplot:xlabel='age'>"
      ]
     },
     "execution_count": 56,
     "metadata": {},
     "output_type": "execute_result"
    },
    {
     "data": {
      "image/png": "[encoded data removed]",
      "text/plain": [
       "<Figure size 432x288 with 1 Axes>"
      ]
     },
     "metadata": {
      "needs_background": "light"
     },
     "output_type": "display_data"
    }
   ],
   "source": [
    "sns.boxplot(x=result['age'])"
   ]
  },
  {
   "cell_type": "markdown",
   "id": "d4b497f7",
   "metadata": {},
   "source": [
    "Label encoder\n",
    "\n",
    "The customer ids are in the form of alphanumeric values. Coverting it in numerical form for easilt understanding"
   ]
  },
  {
   "cell_type": "code",
   "execution_count": 57,
   "id": "3d39d719",
   "metadata": {},
   "outputs": [],
   "source": [
    "from sklearn.preprocessing import LabelEncoder\n",
    "x = LabelEncoder()\n",
    "# result['customer_id'] = x.fit_transform(result['customer_id'])"
   ]
  },
  {
   "cell_type": "code",
   "execution_count": 58,
   "id": "cc02b8b9",
   "metadata": {},
   "outputs": [
    {
     "data": {
      "text/html": [
       "<div>\n",
       "<style scoped>\n",
       "    .dataframe tbody tr th:only-of-type {\n",
       "        vertical-align: middle;\n",
       "    }\n",
       "\n",
       "    .dataframe tbody tr th {\n",
       "        vertical-align: top;\n",
       "    }\n",
       "\n",
       "    .dataframe thead th {\n",
       "        text-align: right;\n",
       "    }\n",
       "</style>\n",
       "<table border=\"1\" class=\"dataframe\">\n",
       "  <thead>\n",
       "    <tr style=\"text-align: right;\">\n",
       "      <th></th>\n",
       "      <th>t_dat</th>\n",
       "      <th>customer_id</th>\n",
       "      <th>price</th>\n",
       "      <th>sales_channel_id</th>\n",
       "      <th>club_member_status</th>\n",
       "      <th>fashion_news_frequency</th>\n",
       "      <th>age</th>\n",
       "    </tr>\n",
       "  </thead>\n",
       "  <tbody>\n",
       "    <tr>\n",
       "      <th>0</th>\n",
       "      <td>2018-09-20</td>\n",
       "      <td>000058a12d5b43e67d225668fa1f8d618c13dc232df0ca...</td>\n",
       "      <td>0.050831</td>\n",
       "      <td>2</td>\n",
       "      <td>ACTIVE</td>\n",
       "      <td>NONE</td>\n",
       "      <td>24.0</td>\n",
       "    </tr>\n",
       "    <tr>\n",
       "      <th>1</th>\n",
       "      <td>2018-09-20</td>\n",
       "      <td>000058a12d5b43e67d225668fa1f8d618c13dc232df0ca...</td>\n",
       "      <td>0.030492</td>\n",
       "      <td>2</td>\n",
       "      <td>ACTIVE</td>\n",
       "      <td>NONE</td>\n",
       "      <td>24.0</td>\n",
       "    </tr>\n",
       "    <tr>\n",
       "      <th>2</th>\n",
       "      <td>2018-09-20</td>\n",
       "      <td>00007d2de826758b65a93dd24ce629ed66842531df6699...</td>\n",
       "      <td>0.015237</td>\n",
       "      <td>2</td>\n",
       "      <td>ACTIVE</td>\n",
       "      <td>Regularly</td>\n",
       "      <td>32.0</td>\n",
       "    </tr>\n",
       "    <tr>\n",
       "      <th>3</th>\n",
       "      <td>2018-09-20</td>\n",
       "      <td>00007d2de826758b65a93dd24ce629ed66842531df6699...</td>\n",
       "      <td>0.016932</td>\n",
       "      <td>2</td>\n",
       "      <td>ACTIVE</td>\n",
       "      <td>Regularly</td>\n",
       "      <td>32.0</td>\n",
       "    </tr>\n",
       "    <tr>\n",
       "      <th>4</th>\n",
       "      <td>2018-09-20</td>\n",
       "      <td>00007d2de826758b65a93dd24ce629ed66842531df6699...</td>\n",
       "      <td>0.016932</td>\n",
       "      <td>2</td>\n",
       "      <td>ACTIVE</td>\n",
       "      <td>Regularly</td>\n",
       "      <td>32.0</td>\n",
       "    </tr>\n",
       "    <tr>\n",
       "      <th>...</th>\n",
       "      <td>...</td>\n",
       "      <td>...</td>\n",
       "      <td>...</td>\n",
       "      <td>...</td>\n",
       "      <td>...</td>\n",
       "      <td>...</td>\n",
       "      <td>...</td>\n",
       "    </tr>\n",
       "    <tr>\n",
       "      <th>31788319</th>\n",
       "      <td>2020-09-22</td>\n",
       "      <td>fff2282977442e327b45d8c89afde25617d00124d0f999...</td>\n",
       "      <td>0.059305</td>\n",
       "      <td>2</td>\n",
       "      <td>No</td>\n",
       "      <td>None</td>\n",
       "      <td>31.0</td>\n",
       "    </tr>\n",
       "    <tr>\n",
       "      <th>31788320</th>\n",
       "      <td>2020-09-22</td>\n",
       "      <td>fff2282977442e327b45d8c89afde25617d00124d0f999...</td>\n",
       "      <td>0.042356</td>\n",
       "      <td>2</td>\n",
       "      <td>No</td>\n",
       "      <td>None</td>\n",
       "      <td>31.0</td>\n",
       "    </tr>\n",
       "    <tr>\n",
       "      <th>31788321</th>\n",
       "      <td>2020-09-22</td>\n",
       "      <td>fff380805474b287b05cb2a7507b9a013482f7dd0bce0e...</td>\n",
       "      <td>0.043203</td>\n",
       "      <td>1</td>\n",
       "      <td>No</td>\n",
       "      <td>None</td>\n",
       "      <td>31.0</td>\n",
       "    </tr>\n",
       "    <tr>\n",
       "      <th>31788322</th>\n",
       "      <td>2020-09-22</td>\n",
       "      <td>fff4d3a8b1f3b60af93e78c30a7cb4cf75edaf2590d3e5...</td>\n",
       "      <td>0.006763</td>\n",
       "      <td>1</td>\n",
       "      <td>No</td>\n",
       "      <td>None</td>\n",
       "      <td>31.0</td>\n",
       "    </tr>\n",
       "    <tr>\n",
       "      <th>31788323</th>\n",
       "      <td>2020-09-22</td>\n",
       "      <td>fffef3b6b73545df065b521e19f64bf6fe93bfd450ab20...</td>\n",
       "      <td>0.033881</td>\n",
       "      <td>2</td>\n",
       "      <td>No</td>\n",
       "      <td>None</td>\n",
       "      <td>31.0</td>\n",
       "    </tr>\n",
       "  </tbody>\n",
       "</table>\n",
       "<p>31788324 rows × 7 columns</p>\n",
       "</div>"
      ],
      "text/plain": [
       "              t_dat                                        customer_id  \\\n",
       "0        2018-09-20  000058a12d5b43e67d225668fa1f8d618c13dc232df0ca...   \n",
       "1        2018-09-20  000058a12d5b43e67d225668fa1f8d618c13dc232df0ca...   \n",
       "2        2018-09-20  00007d2de826758b65a93dd24ce629ed66842531df6699...   \n",
       "3        2018-09-20  00007d2de826758b65a93dd24ce629ed66842531df6699...   \n",
       "4        2018-09-20  00007d2de826758b65a93dd24ce629ed66842531df6699...   \n",
       "...             ...                                                ...   \n",
       "31788319 2020-09-22  fff2282977442e327b45d8c89afde25617d00124d0f999...   \n",
       "31788320 2020-09-22  fff2282977442e327b45d8c89afde25617d00124d0f999...   \n",
       "31788321 2020-09-22  fff380805474b287b05cb2a7507b9a013482f7dd0bce0e...   \n",
       "31788322 2020-09-22  fff4d3a8b1f3b60af93e78c30a7cb4cf75edaf2590d3e5...   \n",
       "31788323 2020-09-22  fffef3b6b73545df065b521e19f64bf6fe93bfd450ab20...   \n",
       "\n",
       "             price  sales_channel_id club_member_status  \\\n",
       "0         0.050831                 2             ACTIVE   \n",
       "1         0.030492                 2             ACTIVE   \n",
       "2         0.015237                 2             ACTIVE   \n",
       "3         0.016932                 2             ACTIVE   \n",
       "4         0.016932                 2             ACTIVE   \n",
       "...            ...               ...                ...   \n",
       "31788319  0.059305                 2                 No   \n",
       "31788320  0.042356                 2                 No   \n",
       "31788321  0.043203                 1                 No   \n",
       "31788322  0.006763                 1                 No   \n",
       "31788323  0.033881                 2                 No   \n",
       "\n",
       "         fashion_news_frequency   age  \n",
       "0                          NONE  24.0  \n",
       "1                          NONE  24.0  \n",
       "2                     Regularly  32.0  \n",
       "3                     Regularly  32.0  \n",
       "4                     Regularly  32.0  \n",
       "...                         ...   ...  \n",
       "31788319                   None  31.0  \n",
       "31788320                   None  31.0  \n",
       "31788321                   None  31.0  \n",
       "31788322                   None  31.0  \n",
       "31788323                   None  31.0  \n",
       "\n",
       "[31788324 rows x 7 columns]"
      ]
     },
     "execution_count": 58,
     "metadata": {},
     "output_type": "execute_result"
    }
   ],
   "source": [
    "result"
   ]
  },
  {
   "cell_type": "code",
   "execution_count": 59,
   "id": "e1a19ba6",
   "metadata": {},
   "outputs": [],
   "source": [
    "#We have 1362281 unique customers as shown below"
   ]
  },
  {
   "cell_type": "code",
   "execution_count": 60,
   "id": "4d7e19a1",
   "metadata": {},
   "outputs": [
    {
     "data": {
      "text/plain": [
       "1362281"
      ]
     },
     "execution_count": 60,
     "metadata": {},
     "output_type": "execute_result"
    }
   ],
   "source": [
    "len(result['customer_id'].unique())"
   ]
  },
  {
   "cell_type": "code",
   "execution_count": 61,
   "id": "4eff7beb",
   "metadata": {},
   "outputs": [],
   "source": [
    "#first purchase of each unique customer"
   ]
  },
  {
   "cell_type": "code",
   "execution_count": 62,
   "id": "7607159b",
   "metadata": {},
   "outputs": [],
   "source": [
    "first_purchase = result.sort_values(['t_dat']).groupby('customer_id').first()"
   ]
  },
  {
   "cell_type": "code",
   "execution_count": 63,
   "id": "3c719d89",
   "metadata": {},
   "outputs": [
    {
     "data": {
      "text/html": [
       "<div>\n",
       "<style scoped>\n",
       "    .dataframe tbody tr th:only-of-type {\n",
       "        vertical-align: middle;\n",
       "    }\n",
       "\n",
       "    .dataframe tbody tr th {\n",
       "        vertical-align: top;\n",
       "    }\n",
       "\n",
       "    .dataframe thead th {\n",
       "        text-align: right;\n",
       "    }\n",
       "</style>\n",
       "<table border=\"1\" class=\"dataframe\">\n",
       "  <thead>\n",
       "    <tr style=\"text-align: right;\">\n",
       "      <th></th>\n",
       "      <th>t_dat</th>\n",
       "      <th>price</th>\n",
       "      <th>sales_channel_id</th>\n",
       "      <th>club_member_status</th>\n",
       "      <th>fashion_news_frequency</th>\n",
       "      <th>age</th>\n",
       "    </tr>\n",
       "    <tr>\n",
       "      <th>customer_id</th>\n",
       "      <th></th>\n",
       "      <th></th>\n",
       "      <th></th>\n",
       "      <th></th>\n",
       "      <th></th>\n",
       "      <th></th>\n",
       "    </tr>\n",
       "  </thead>\n",
       "  <tbody>\n",
       "    <tr>\n",
       "      <th>00000dbacae5abe5e23885899a1fa44253a17956c6d1c3d25f88aa139fdfc657</th>\n",
       "      <td>2018-12-27</td>\n",
       "      <td>0.044051</td>\n",
       "      <td>1</td>\n",
       "      <td>ACTIVE</td>\n",
       "      <td>NONE</td>\n",
       "      <td>49.0</td>\n",
       "    </tr>\n",
       "    <tr>\n",
       "      <th>0000423b00ade91418cceaf3b26c6af3dd342b51fd051eec9c12fb36984420fa</th>\n",
       "      <td>2018-09-21</td>\n",
       "      <td>0.067780</td>\n",
       "      <td>2</td>\n",
       "      <td>ACTIVE</td>\n",
       "      <td>NONE</td>\n",
       "      <td>25.0</td>\n",
       "    </tr>\n",
       "    <tr>\n",
       "      <th>000058a12d5b43e67d225668fa1f8d618c13dc232df0cad8ffe7ad4a1091e318</th>\n",
       "      <td>2018-09-20</td>\n",
       "      <td>0.050831</td>\n",
       "      <td>2</td>\n",
       "      <td>ACTIVE</td>\n",
       "      <td>NONE</td>\n",
       "      <td>24.0</td>\n",
       "    </tr>\n",
       "    <tr>\n",
       "      <th>00005ca1c9ed5f5146b52ac8639a40ca9d57aeff4d1bd2c5feb1ca5dff07c43e</th>\n",
       "      <td>2019-06-09</td>\n",
       "      <td>0.030492</td>\n",
       "      <td>2</td>\n",
       "      <td>ACTIVE</td>\n",
       "      <td>NONE</td>\n",
       "      <td>54.0</td>\n",
       "    </tr>\n",
       "    <tr>\n",
       "      <th>00006413d8573cd20ed7128e53b7b13819fe5cfc2d801fe7fc0f26dd8d65a85a</th>\n",
       "      <td>2018-10-12</td>\n",
       "      <td>0.027102</td>\n",
       "      <td>1</td>\n",
       "      <td>ACTIVE</td>\n",
       "      <td>Regularly</td>\n",
       "      <td>52.0</td>\n",
       "    </tr>\n",
       "    <tr>\n",
       "      <th>...</th>\n",
       "      <td>...</td>\n",
       "      <td>...</td>\n",
       "      <td>...</td>\n",
       "      <td>...</td>\n",
       "      <td>...</td>\n",
       "      <td>...</td>\n",
       "    </tr>\n",
       "    <tr>\n",
       "      <th>ffffbbf78b6eaac697a8a5dfbfd2bfa8113ee5b403e4747568cac33e8c541831</th>\n",
       "      <td>2019-04-03</td>\n",
       "      <td>0.050831</td>\n",
       "      <td>2</td>\n",
       "      <td>No</td>\n",
       "      <td>None</td>\n",
       "      <td>31.0</td>\n",
       "    </tr>\n",
       "    <tr>\n",
       "      <th>ffffcd5046a6143d29a04fb8c424ce494a76e5cdf4fab53481233731b5c4f8b7</th>\n",
       "      <td>2018-09-25</td>\n",
       "      <td>0.064390</td>\n",
       "      <td>1</td>\n",
       "      <td>No</td>\n",
       "      <td>None</td>\n",
       "      <td>31.0</td>\n",
       "    </tr>\n",
       "    <tr>\n",
       "      <th>ffffcf35913a0bee60e8741cb2b4e78b8a98ee5ff2e6a1778d0116cffd259264</th>\n",
       "      <td>2018-09-20</td>\n",
       "      <td>0.042356</td>\n",
       "      <td>1</td>\n",
       "      <td>No</td>\n",
       "      <td>None</td>\n",
       "      <td>31.0</td>\n",
       "    </tr>\n",
       "    <tr>\n",
       "      <th>ffffd7744cebcf3aca44ae7049d2a94b87074c3d4ffe38b2236865d949d4df6a</th>\n",
       "      <td>2020-04-05</td>\n",
       "      <td>0.042356</td>\n",
       "      <td>2</td>\n",
       "      <td>No</td>\n",
       "      <td>None</td>\n",
       "      <td>31.0</td>\n",
       "    </tr>\n",
       "    <tr>\n",
       "      <th>ffffd9ac14e89946416d80e791d064701994755c3ab686a1eaf3458c36f52241</th>\n",
       "      <td>2019-12-04</td>\n",
       "      <td>0.084729</td>\n",
       "      <td>2</td>\n",
       "      <td>No</td>\n",
       "      <td>None</td>\n",
       "      <td>31.0</td>\n",
       "    </tr>\n",
       "  </tbody>\n",
       "</table>\n",
       "<p>1362281 rows × 6 columns</p>\n",
       "</div>"
      ],
      "text/plain": [
       "                                                        t_dat     price  \\\n",
       "customer_id                                                               \n",
       "00000dbacae5abe5e23885899a1fa44253a17956c6d1c3d... 2018-12-27  0.044051   \n",
       "0000423b00ade91418cceaf3b26c6af3dd342b51fd051ee... 2018-09-21  0.067780   \n",
       "000058a12d5b43e67d225668fa1f8d618c13dc232df0cad... 2018-09-20  0.050831   \n",
       "00005ca1c9ed5f5146b52ac8639a40ca9d57aeff4d1bd2c... 2019-06-09  0.030492   \n",
       "00006413d8573cd20ed7128e53b7b13819fe5cfc2d801fe... 2018-10-12  0.027102   \n",
       "...                                                       ...       ...   \n",
       "ffffbbf78b6eaac697a8a5dfbfd2bfa8113ee5b403e4747... 2019-04-03  0.050831   \n",
       "ffffcd5046a6143d29a04fb8c424ce494a76e5cdf4fab53... 2018-09-25  0.064390   \n",
       "ffffcf35913a0bee60e8741cb2b4e78b8a98ee5ff2e6a17... 2018-09-20  0.042356   \n",
       "ffffd7744cebcf3aca44ae7049d2a94b87074c3d4ffe38b... 2020-04-05  0.042356   \n",
       "ffffd9ac14e89946416d80e791d064701994755c3ab686a... 2019-12-04  0.084729   \n",
       "\n",
       "                                                    sales_channel_id  \\\n",
       "customer_id                                                            \n",
       "00000dbacae5abe5e23885899a1fa44253a17956c6d1c3d...                 1   \n",
       "0000423b00ade91418cceaf3b26c6af3dd342b51fd051ee...                 2   \n",
       "000058a12d5b43e67d225668fa1f8d618c13dc232df0cad...                 2   \n",
       "00005ca1c9ed5f5146b52ac8639a40ca9d57aeff4d1bd2c...                 2   \n",
       "00006413d8573cd20ed7128e53b7b13819fe5cfc2d801fe...                 1   \n",
       "...                                                              ...   \n",
       "ffffbbf78b6eaac697a8a5dfbfd2bfa8113ee5b403e4747...                 2   \n",
       "ffffcd5046a6143d29a04fb8c424ce494a76e5cdf4fab53...                 1   \n",
       "ffffcf35913a0bee60e8741cb2b4e78b8a98ee5ff2e6a17...                 1   \n",
       "ffffd7744cebcf3aca44ae7049d2a94b87074c3d4ffe38b...                 2   \n",
       "ffffd9ac14e89946416d80e791d064701994755c3ab686a...                 2   \n",
       "\n",
       "                                                   club_member_status  \\\n",
       "customer_id                                                             \n",
       "00000dbacae5abe5e23885899a1fa44253a17956c6d1c3d...             ACTIVE   \n",
       "0000423b00ade91418cceaf3b26c6af3dd342b51fd051ee...             ACTIVE   \n",
       "000058a12d5b43e67d225668fa1f8d618c13dc232df0cad...             ACTIVE   \n",
       "00005ca1c9ed5f5146b52ac8639a40ca9d57aeff4d1bd2c...             ACTIVE   \n",
       "00006413d8573cd20ed7128e53b7b13819fe5cfc2d801fe...             ACTIVE   \n",
       "...                                                               ...   \n",
       "ffffbbf78b6eaac697a8a5dfbfd2bfa8113ee5b403e4747...                 No   \n",
       "ffffcd5046a6143d29a04fb8c424ce494a76e5cdf4fab53...                 No   \n",
       "ffffcf35913a0bee60e8741cb2b4e78b8a98ee5ff2e6a17...                 No   \n",
       "ffffd7744cebcf3aca44ae7049d2a94b87074c3d4ffe38b...                 No   \n",
       "ffffd9ac14e89946416d80e791d064701994755c3ab686a...                 No   \n",
       "\n",
       "                                                   fashion_news_frequency  \\\n",
       "customer_id                                                                 \n",
       "00000dbacae5abe5e23885899a1fa44253a17956c6d1c3d...                   NONE   \n",
       "0000423b00ade91418cceaf3b26c6af3dd342b51fd051ee...                   NONE   \n",
       "000058a12d5b43e67d225668fa1f8d618c13dc232df0cad...                   NONE   \n",
       "00005ca1c9ed5f5146b52ac8639a40ca9d57aeff4d1bd2c...                   NONE   \n",
       "00006413d8573cd20ed7128e53b7b13819fe5cfc2d801fe...              Regularly   \n",
       "...                                                                   ...   \n",
       "ffffbbf78b6eaac697a8a5dfbfd2bfa8113ee5b403e4747...                   None   \n",
       "ffffcd5046a6143d29a04fb8c424ce494a76e5cdf4fab53...                   None   \n",
       "ffffcf35913a0bee60e8741cb2b4e78b8a98ee5ff2e6a17...                   None   \n",
       "ffffd7744cebcf3aca44ae7049d2a94b87074c3d4ffe38b...                   None   \n",
       "ffffd9ac14e89946416d80e791d064701994755c3ab686a...                   None   \n",
       "\n",
       "                                                     age  \n",
       "customer_id                                               \n",
       "00000dbacae5abe5e23885899a1fa44253a17956c6d1c3d...  49.0  \n",
       "0000423b00ade91418cceaf3b26c6af3dd342b51fd051ee...  25.0  \n",
       "000058a12d5b43e67d225668fa1f8d618c13dc232df0cad...  24.0  \n",
       "00005ca1c9ed5f5146b52ac8639a40ca9d57aeff4d1bd2c...  54.0  \n",
       "00006413d8573cd20ed7128e53b7b13819fe5cfc2d801fe...  52.0  \n",
       "...                                                  ...  \n",
       "ffffbbf78b6eaac697a8a5dfbfd2bfa8113ee5b403e4747...  31.0  \n",
       "ffffcd5046a6143d29a04fb8c424ce494a76e5cdf4fab53...  31.0  \n",
       "ffffcf35913a0bee60e8741cb2b4e78b8a98ee5ff2e6a17...  31.0  \n",
       "ffffd7744cebcf3aca44ae7049d2a94b87074c3d4ffe38b...  31.0  \n",
       "ffffd9ac14e89946416d80e791d064701994755c3ab686a...  31.0  \n",
       "\n",
       "[1362281 rows x 6 columns]"
      ]
     },
     "execution_count": 63,
     "metadata": {},
     "output_type": "execute_result"
    }
   ],
   "source": [
    "first_purchase"
   ]
  },
  {
   "cell_type": "code",
   "execution_count": 64,
   "id": "3cc57de9",
   "metadata": {},
   "outputs": [
    {
     "data": {
      "text/plain": [
       "Timestamp('2018-09-20 00:00:00')"
      ]
     },
     "execution_count": 64,
     "metadata": {},
     "output_type": "execute_result"
    }
   ],
   "source": [
    "first_purchase['t_dat'].min()"
   ]
  },
  {
   "cell_type": "code",
   "execution_count": 65,
   "id": "71c3f64b",
   "metadata": {},
   "outputs": [
    {
     "data": {
      "text/plain": [
       "Timestamp('2020-09-22 00:00:00')"
      ]
     },
     "execution_count": 65,
     "metadata": {},
     "output_type": "execute_result"
    }
   ],
   "source": [
    "first_purchase['t_dat'].max()"
   ]
  },
  {
   "cell_type": "code",
   "execution_count": 66,
   "id": "f6763bb6",
   "metadata": {},
   "outputs": [],
   "source": [
    "#Splitting the time based on before and after"
   ]
  },
  {
   "cell_type": "code",
   "execution_count": 67,
   "id": "dc9bb253",
   "metadata": {},
   "outputs": [],
   "source": [
    "dayss = 90\n",
    "max_date_total = result['t_dat'].max()\n",
    "cutoff = max_date_total - pd.to_timedelta(dayss,unit='d')"
   ]
  },
  {
   "cell_type": "code",
   "execution_count": 68,
   "id": "f3c0293c",
   "metadata": {},
   "outputs": [
    {
     "name": "stdout",
     "output_type": "stream",
     "text": [
      "2020-06-24 00:00:00\n",
      "2020-09-22 00:00:00\n"
     ]
    }
   ],
   "source": [
    "print(cutoff)\n",
    "print(max_date_total)"
   ]
  },
  {
   "cell_type": "code",
   "execution_count": 69,
   "id": "152e652d",
   "metadata": {},
   "outputs": [],
   "source": [
    "data_before = result[result[\"t_dat\"]<=cutoff]"
   ]
  },
  {
   "cell_type": "code",
   "execution_count": 70,
   "id": "6186c505",
   "metadata": {},
   "outputs": [],
   "source": [
    "data_after = result[result[\"t_dat\"]>cutoff]"
   ]
  },
  {
   "cell_type": "code",
   "execution_count": 71,
   "id": "dceba147",
   "metadata": {},
   "outputs": [
    {
     "data": {
      "text/html": [
       "<div>\n",
       "<style scoped>\n",
       "    .dataframe tbody tr th:only-of-type {\n",
       "        vertical-align: middle;\n",
       "    }\n",
       "\n",
       "    .dataframe tbody tr th {\n",
       "        vertical-align: top;\n",
       "    }\n",
       "\n",
       "    .dataframe thead th {\n",
       "        text-align: right;\n",
       "    }\n",
       "</style>\n",
       "<table border=\"1\" class=\"dataframe\">\n",
       "  <thead>\n",
       "    <tr style=\"text-align: right;\">\n",
       "      <th></th>\n",
       "      <th>t_dat</th>\n",
       "      <th>customer_id</th>\n",
       "      <th>price</th>\n",
       "      <th>sales_channel_id</th>\n",
       "      <th>club_member_status</th>\n",
       "      <th>fashion_news_frequency</th>\n",
       "      <th>age</th>\n",
       "    </tr>\n",
       "  </thead>\n",
       "  <tbody>\n",
       "    <tr>\n",
       "      <th>0</th>\n",
       "      <td>2018-09-20</td>\n",
       "      <td>000058a12d5b43e67d225668fa1f8d618c13dc232df0ca...</td>\n",
       "      <td>0.050831</td>\n",
       "      <td>2</td>\n",
       "      <td>ACTIVE</td>\n",
       "      <td>NONE</td>\n",
       "      <td>24.0</td>\n",
       "    </tr>\n",
       "    <tr>\n",
       "      <th>1</th>\n",
       "      <td>2018-09-20</td>\n",
       "      <td>000058a12d5b43e67d225668fa1f8d618c13dc232df0ca...</td>\n",
       "      <td>0.030492</td>\n",
       "      <td>2</td>\n",
       "      <td>ACTIVE</td>\n",
       "      <td>NONE</td>\n",
       "      <td>24.0</td>\n",
       "    </tr>\n",
       "    <tr>\n",
       "      <th>2</th>\n",
       "      <td>2018-09-20</td>\n",
       "      <td>00007d2de826758b65a93dd24ce629ed66842531df6699...</td>\n",
       "      <td>0.015237</td>\n",
       "      <td>2</td>\n",
       "      <td>ACTIVE</td>\n",
       "      <td>Regularly</td>\n",
       "      <td>32.0</td>\n",
       "    </tr>\n",
       "    <tr>\n",
       "      <th>3</th>\n",
       "      <td>2018-09-20</td>\n",
       "      <td>00007d2de826758b65a93dd24ce629ed66842531df6699...</td>\n",
       "      <td>0.016932</td>\n",
       "      <td>2</td>\n",
       "      <td>ACTIVE</td>\n",
       "      <td>Regularly</td>\n",
       "      <td>32.0</td>\n",
       "    </tr>\n",
       "    <tr>\n",
       "      <th>4</th>\n",
       "      <td>2018-09-20</td>\n",
       "      <td>00007d2de826758b65a93dd24ce629ed66842531df6699...</td>\n",
       "      <td>0.016932</td>\n",
       "      <td>2</td>\n",
       "      <td>ACTIVE</td>\n",
       "      <td>Regularly</td>\n",
       "      <td>32.0</td>\n",
       "    </tr>\n",
       "    <tr>\n",
       "      <th>...</th>\n",
       "      <td>...</td>\n",
       "      <td>...</td>\n",
       "      <td>...</td>\n",
       "      <td>...</td>\n",
       "      <td>...</td>\n",
       "      <td>...</td>\n",
       "      <td>...</td>\n",
       "    </tr>\n",
       "    <tr>\n",
       "      <th>27982718</th>\n",
       "      <td>2020-06-24</td>\n",
       "      <td>fffe7116f9f68e8ad287fd7b6e33aad4871d7080e77d2d...</td>\n",
       "      <td>0.024390</td>\n",
       "      <td>2</td>\n",
       "      <td>No</td>\n",
       "      <td>None</td>\n",
       "      <td>31.0</td>\n",
       "    </tr>\n",
       "    <tr>\n",
       "      <th>27982719</th>\n",
       "      <td>2020-06-24</td>\n",
       "      <td>fffe7116f9f68e8ad287fd7b6e33aad4871d7080e77d2d...</td>\n",
       "      <td>0.017610</td>\n",
       "      <td>2</td>\n",
       "      <td>No</td>\n",
       "      <td>None</td>\n",
       "      <td>31.0</td>\n",
       "    </tr>\n",
       "    <tr>\n",
       "      <th>27982720</th>\n",
       "      <td>2020-06-24</td>\n",
       "      <td>fffe7116f9f68e8ad287fd7b6e33aad4871d7080e77d2d...</td>\n",
       "      <td>0.013542</td>\n",
       "      <td>2</td>\n",
       "      <td>No</td>\n",
       "      <td>None</td>\n",
       "      <td>31.0</td>\n",
       "    </tr>\n",
       "    <tr>\n",
       "      <th>27982721</th>\n",
       "      <td>2020-06-24</td>\n",
       "      <td>fffe7116f9f68e8ad287fd7b6e33aad4871d7080e77d2d...</td>\n",
       "      <td>0.010831</td>\n",
       "      <td>2</td>\n",
       "      <td>No</td>\n",
       "      <td>None</td>\n",
       "      <td>31.0</td>\n",
       "    </tr>\n",
       "    <tr>\n",
       "      <th>27982722</th>\n",
       "      <td>2020-06-24</td>\n",
       "      <td>fffe7116f9f68e8ad287fd7b6e33aad4871d7080e77d2d...</td>\n",
       "      <td>0.005407</td>\n",
       "      <td>2</td>\n",
       "      <td>No</td>\n",
       "      <td>None</td>\n",
       "      <td>31.0</td>\n",
       "    </tr>\n",
       "  </tbody>\n",
       "</table>\n",
       "<p>27982723 rows × 7 columns</p>\n",
       "</div>"
      ],
      "text/plain": [
       "              t_dat                                        customer_id  \\\n",
       "0        2018-09-20  000058a12d5b43e67d225668fa1f8d618c13dc232df0ca...   \n",
       "1        2018-09-20  000058a12d5b43e67d225668fa1f8d618c13dc232df0ca...   \n",
       "2        2018-09-20  00007d2de826758b65a93dd24ce629ed66842531df6699...   \n",
       "3        2018-09-20  00007d2de826758b65a93dd24ce629ed66842531df6699...   \n",
       "4        2018-09-20  00007d2de826758b65a93dd24ce629ed66842531df6699...   \n",
       "...             ...                                                ...   \n",
       "27982718 2020-06-24  fffe7116f9f68e8ad287fd7b6e33aad4871d7080e77d2d...   \n",
       "27982719 2020-06-24  fffe7116f9f68e8ad287fd7b6e33aad4871d7080e77d2d...   \n",
       "27982720 2020-06-24  fffe7116f9f68e8ad287fd7b6e33aad4871d7080e77d2d...   \n",
       "27982721 2020-06-24  fffe7116f9f68e8ad287fd7b6e33aad4871d7080e77d2d...   \n",
       "27982722 2020-06-24  fffe7116f9f68e8ad287fd7b6e33aad4871d7080e77d2d...   \n",
       "\n",
       "             price  sales_channel_id club_member_status  \\\n",
       "0         0.050831                 2             ACTIVE   \n",
       "1         0.030492                 2             ACTIVE   \n",
       "2         0.015237                 2             ACTIVE   \n",
       "3         0.016932                 2             ACTIVE   \n",
       "4         0.016932                 2             ACTIVE   \n",
       "...            ...               ...                ...   \n",
       "27982718  0.024390                 2                 No   \n",
       "27982719  0.017610                 2                 No   \n",
       "27982720  0.013542                 2                 No   \n",
       "27982721  0.010831                 2                 No   \n",
       "27982722  0.005407                 2                 No   \n",
       "\n",
       "         fashion_news_frequency   age  \n",
       "0                          NONE  24.0  \n",
       "1                          NONE  24.0  \n",
       "2                     Regularly  32.0  \n",
       "3                     Regularly  32.0  \n",
       "4                     Regularly  32.0  \n",
       "...                         ...   ...  \n",
       "27982718                   None  31.0  \n",
       "27982719                   None  31.0  \n",
       "27982720                   None  31.0  \n",
       "27982721                   None  31.0  \n",
       "27982722                   None  31.0  \n",
       "\n",
       "[27982723 rows x 7 columns]"
      ]
     },
     "execution_count": 71,
     "metadata": {},
     "output_type": "execute_result"
    }
   ],
   "source": [
    "#Descriptive\n",
    "data_before"
   ]
  },
  {
   "cell_type": "code",
   "execution_count": 72,
   "id": "dba5fb3b",
   "metadata": {},
   "outputs": [
    {
     "data": {
      "text/html": [
       "<div>\n",
       "<style scoped>\n",
       "    .dataframe tbody tr th:only-of-type {\n",
       "        vertical-align: middle;\n",
       "    }\n",
       "\n",
       "    .dataframe tbody tr th {\n",
       "        vertical-align: top;\n",
       "    }\n",
       "\n",
       "    .dataframe thead th {\n",
       "        text-align: right;\n",
       "    }\n",
       "</style>\n",
       "<table border=\"1\" class=\"dataframe\">\n",
       "  <thead>\n",
       "    <tr style=\"text-align: right;\">\n",
       "      <th></th>\n",
       "      <th>t_dat</th>\n",
       "      <th>customer_id</th>\n",
       "      <th>price</th>\n",
       "      <th>sales_channel_id</th>\n",
       "      <th>club_member_status</th>\n",
       "      <th>fashion_news_frequency</th>\n",
       "      <th>age</th>\n",
       "    </tr>\n",
       "  </thead>\n",
       "  <tbody>\n",
       "    <tr>\n",
       "      <th>27982723</th>\n",
       "      <td>2020-06-25</td>\n",
       "      <td>0001d44dbe7f6c4b35200abdb052c77a87596fe1bdcc37...</td>\n",
       "      <td>0.025407</td>\n",
       "      <td>1</td>\n",
       "      <td>ACTIVE</td>\n",
       "      <td>Regularly</td>\n",
       "      <td>44.0</td>\n",
       "    </tr>\n",
       "    <tr>\n",
       "      <th>27982724</th>\n",
       "      <td>2020-06-25</td>\n",
       "      <td>0001d44dbe7f6c4b35200abdb052c77a87596fe1bdcc37...</td>\n",
       "      <td>0.015237</td>\n",
       "      <td>1</td>\n",
       "      <td>ACTIVE</td>\n",
       "      <td>Regularly</td>\n",
       "      <td>44.0</td>\n",
       "    </tr>\n",
       "    <tr>\n",
       "      <th>27982725</th>\n",
       "      <td>2020-06-25</td>\n",
       "      <td>0001d44dbe7f6c4b35200abdb052c77a87596fe1bdcc37...</td>\n",
       "      <td>0.042356</td>\n",
       "      <td>1</td>\n",
       "      <td>ACTIVE</td>\n",
       "      <td>Regularly</td>\n",
       "      <td>44.0</td>\n",
       "    </tr>\n",
       "    <tr>\n",
       "      <th>27982726</th>\n",
       "      <td>2020-06-25</td>\n",
       "      <td>0001d44dbe7f6c4b35200abdb052c77a87596fe1bdcc37...</td>\n",
       "      <td>0.030492</td>\n",
       "      <td>1</td>\n",
       "      <td>ACTIVE</td>\n",
       "      <td>Regularly</td>\n",
       "      <td>44.0</td>\n",
       "    </tr>\n",
       "    <tr>\n",
       "      <th>27982727</th>\n",
       "      <td>2020-06-25</td>\n",
       "      <td>0001d44dbe7f6c4b35200abdb052c77a87596fe1bdcc37...</td>\n",
       "      <td>0.025407</td>\n",
       "      <td>1</td>\n",
       "      <td>ACTIVE</td>\n",
       "      <td>Regularly</td>\n",
       "      <td>44.0</td>\n",
       "    </tr>\n",
       "    <tr>\n",
       "      <th>...</th>\n",
       "      <td>...</td>\n",
       "      <td>...</td>\n",
       "      <td>...</td>\n",
       "      <td>...</td>\n",
       "      <td>...</td>\n",
       "      <td>...</td>\n",
       "      <td>...</td>\n",
       "    </tr>\n",
       "    <tr>\n",
       "      <th>31788319</th>\n",
       "      <td>2020-09-22</td>\n",
       "      <td>fff2282977442e327b45d8c89afde25617d00124d0f999...</td>\n",
       "      <td>0.059305</td>\n",
       "      <td>2</td>\n",
       "      <td>No</td>\n",
       "      <td>None</td>\n",
       "      <td>31.0</td>\n",
       "    </tr>\n",
       "    <tr>\n",
       "      <th>31788320</th>\n",
       "      <td>2020-09-22</td>\n",
       "      <td>fff2282977442e327b45d8c89afde25617d00124d0f999...</td>\n",
       "      <td>0.042356</td>\n",
       "      <td>2</td>\n",
       "      <td>No</td>\n",
       "      <td>None</td>\n",
       "      <td>31.0</td>\n",
       "    </tr>\n",
       "    <tr>\n",
       "      <th>31788321</th>\n",
       "      <td>2020-09-22</td>\n",
       "      <td>fff380805474b287b05cb2a7507b9a013482f7dd0bce0e...</td>\n",
       "      <td>0.043203</td>\n",
       "      <td>1</td>\n",
       "      <td>No</td>\n",
       "      <td>None</td>\n",
       "      <td>31.0</td>\n",
       "    </tr>\n",
       "    <tr>\n",
       "      <th>31788322</th>\n",
       "      <td>2020-09-22</td>\n",
       "      <td>fff4d3a8b1f3b60af93e78c30a7cb4cf75edaf2590d3e5...</td>\n",
       "      <td>0.006763</td>\n",
       "      <td>1</td>\n",
       "      <td>No</td>\n",
       "      <td>None</td>\n",
       "      <td>31.0</td>\n",
       "    </tr>\n",
       "    <tr>\n",
       "      <th>31788323</th>\n",
       "      <td>2020-09-22</td>\n",
       "      <td>fffef3b6b73545df065b521e19f64bf6fe93bfd450ab20...</td>\n",
       "      <td>0.033881</td>\n",
       "      <td>2</td>\n",
       "      <td>No</td>\n",
       "      <td>None</td>\n",
       "      <td>31.0</td>\n",
       "    </tr>\n",
       "  </tbody>\n",
       "</table>\n",
       "<p>3805601 rows × 7 columns</p>\n",
       "</div>"
      ],
      "text/plain": [
       "              t_dat                                        customer_id  \\\n",
       "27982723 2020-06-25  0001d44dbe7f6c4b35200abdb052c77a87596fe1bdcc37...   \n",
       "27982724 2020-06-25  0001d44dbe7f6c4b35200abdb052c77a87596fe1bdcc37...   \n",
       "27982725 2020-06-25  0001d44dbe7f6c4b35200abdb052c77a87596fe1bdcc37...   \n",
       "27982726 2020-06-25  0001d44dbe7f6c4b35200abdb052c77a87596fe1bdcc37...   \n",
       "27982727 2020-06-25  0001d44dbe7f6c4b35200abdb052c77a87596fe1bdcc37...   \n",
       "...             ...                                                ...   \n",
       "31788319 2020-09-22  fff2282977442e327b45d8c89afde25617d00124d0f999...   \n",
       "31788320 2020-09-22  fff2282977442e327b45d8c89afde25617d00124d0f999...   \n",
       "31788321 2020-09-22  fff380805474b287b05cb2a7507b9a013482f7dd0bce0e...   \n",
       "31788322 2020-09-22  fff4d3a8b1f3b60af93e78c30a7cb4cf75edaf2590d3e5...   \n",
       "31788323 2020-09-22  fffef3b6b73545df065b521e19f64bf6fe93bfd450ab20...   \n",
       "\n",
       "             price  sales_channel_id club_member_status  \\\n",
       "27982723  0.025407                 1             ACTIVE   \n",
       "27982724  0.015237                 1             ACTIVE   \n",
       "27982725  0.042356                 1             ACTIVE   \n",
       "27982726  0.030492                 1             ACTIVE   \n",
       "27982727  0.025407                 1             ACTIVE   \n",
       "...            ...               ...                ...   \n",
       "31788319  0.059305                 2                 No   \n",
       "31788320  0.042356                 2                 No   \n",
       "31788321  0.043203                 1                 No   \n",
       "31788322  0.006763                 1                 No   \n",
       "31788323  0.033881                 2                 No   \n",
       "\n",
       "         fashion_news_frequency   age  \n",
       "27982723              Regularly  44.0  \n",
       "27982724              Regularly  44.0  \n",
       "27982725              Regularly  44.0  \n",
       "27982726              Regularly  44.0  \n",
       "27982727              Regularly  44.0  \n",
       "...                         ...   ...  \n",
       "31788319                   None  31.0  \n",
       "31788320                   None  31.0  \n",
       "31788321                   None  31.0  \n",
       "31788322                   None  31.0  \n",
       "31788323                   None  31.0  \n",
       "\n",
       "[3805601 rows x 7 columns]"
      ]
     },
     "execution_count": 72,
     "metadata": {},
     "output_type": "execute_result"
    }
   ],
   "source": [
    "#Target\n",
    "data_after"
   ]
  },
  {
   "cell_type": "markdown",
   "id": "7016d157",
   "metadata": {},
   "source": [
    "# Making target values"
   ]
  },
  {
   "cell_type": "code",
   "execution_count": 73,
   "id": "d0a6e2a4",
   "metadata": {},
   "outputs": [],
   "source": [
    "target_df = data_after[['customer_id','price']].groupby('customer_id').sum().rename({'price':'spent_90days'},axis=1).assign(Flag_90days=1)"
   ]
  },
  {
   "cell_type": "code",
   "execution_count": 74,
   "id": "1fdcc928",
   "metadata": {},
   "outputs": [
    {
     "data": {
      "text/html": [
       "<div>\n",
       "<style scoped>\n",
       "    .dataframe tbody tr th:only-of-type {\n",
       "        vertical-align: middle;\n",
       "    }\n",
       "\n",
       "    .dataframe tbody tr th {\n",
       "        vertical-align: top;\n",
       "    }\n",
       "\n",
       "    .dataframe thead th {\n",
       "        text-align: right;\n",
       "    }\n",
       "</style>\n",
       "<table border=\"1\" class=\"dataframe\">\n",
       "  <thead>\n",
       "    <tr style=\"text-align: right;\">\n",
       "      <th></th>\n",
       "      <th>spent_90days</th>\n",
       "      <th>Flag_90days</th>\n",
       "    </tr>\n",
       "    <tr>\n",
       "      <th>customer_id</th>\n",
       "      <th></th>\n",
       "      <th></th>\n",
       "    </tr>\n",
       "  </thead>\n",
       "  <tbody>\n",
       "    <tr>\n",
       "      <th>00000dbacae5abe5e23885899a1fa44253a17956c6d1c3d25f88aa139fdfc657</th>\n",
       "      <td>0.050831</td>\n",
       "      <td>1</td>\n",
       "    </tr>\n",
       "    <tr>\n",
       "      <th>0000423b00ade91418cceaf3b26c6af3dd342b51fd051eec9c12fb36984420fa</th>\n",
       "      <td>0.027102</td>\n",
       "      <td>1</td>\n",
       "    </tr>\n",
       "    <tr>\n",
       "      <th>000058a12d5b43e67d225668fa1f8d618c13dc232df0cad8ffe7ad4a1091e318</th>\n",
       "      <td>0.061000</td>\n",
       "      <td>1</td>\n",
       "    </tr>\n",
       "    <tr>\n",
       "      <th>00006413d8573cd20ed7128e53b7b13819fe5cfc2d801fe7fc0f26dd8d65a85a</th>\n",
       "      <td>0.128746</td>\n",
       "      <td>1</td>\n",
       "    </tr>\n",
       "    <tr>\n",
       "      <th>0000757967448a6cb83efb3ea7a3fb9d418ac7adf2379d8cd0c725276a467a2a</th>\n",
       "      <td>0.076237</td>\n",
       "      <td>1</td>\n",
       "    </tr>\n",
       "    <tr>\n",
       "      <th>...</th>\n",
       "      <td>...</td>\n",
       "      <td>...</td>\n",
       "    </tr>\n",
       "    <tr>\n",
       "      <th>ffff12aa623c69eae8959d673f1f12ad0194ad760d77fd489cd7c5a4aa9ae240</th>\n",
       "      <td>0.323559</td>\n",
       "      <td>1</td>\n",
       "    </tr>\n",
       "    <tr>\n",
       "      <th>ffff61677073258d461e043cc9ed4ed97be5617a920640ff61024f4619bf41c4</th>\n",
       "      <td>0.066051</td>\n",
       "      <td>1</td>\n",
       "    </tr>\n",
       "    <tr>\n",
       "      <th>ffffbbf78b6eaac697a8a5dfbfd2bfa8113ee5b403e4747568cac33e8c541831</th>\n",
       "      <td>0.293017</td>\n",
       "      <td>1</td>\n",
       "    </tr>\n",
       "    <tr>\n",
       "      <th>ffffcd5046a6143d29a04fb8c424ce494a76e5cdf4fab53481233731b5c4f8b7</th>\n",
       "      <td>0.104949</td>\n",
       "      <td>1</td>\n",
       "    </tr>\n",
       "    <tr>\n",
       "      <th>ffffcf35913a0bee60e8741cb2b4e78b8a98ee5ff2e6a1778d0116cffd259264</th>\n",
       "      <td>0.142203</td>\n",
       "      <td>1</td>\n",
       "    </tr>\n",
       "  </tbody>\n",
       "</table>\n",
       "<p>518920 rows × 2 columns</p>\n",
       "</div>"
      ],
      "text/plain": [
       "                                                    spent_90days  Flag_90days\n",
       "customer_id                                                                  \n",
       "00000dbacae5abe5e23885899a1fa44253a17956c6d1c3d...      0.050831            1\n",
       "0000423b00ade91418cceaf3b26c6af3dd342b51fd051ee...      0.027102            1\n",
       "000058a12d5b43e67d225668fa1f8d618c13dc232df0cad...      0.061000            1\n",
       "00006413d8573cd20ed7128e53b7b13819fe5cfc2d801fe...      0.128746            1\n",
       "0000757967448a6cb83efb3ea7a3fb9d418ac7adf2379d8...      0.076237            1\n",
       "...                                                          ...          ...\n",
       "ffff12aa623c69eae8959d673f1f12ad0194ad760d77fd4...      0.323559            1\n",
       "ffff61677073258d461e043cc9ed4ed97be5617a920640f...      0.066051            1\n",
       "ffffbbf78b6eaac697a8a5dfbfd2bfa8113ee5b403e4747...      0.293017            1\n",
       "ffffcd5046a6143d29a04fb8c424ce494a76e5cdf4fab53...      0.104949            1\n",
       "ffffcf35913a0bee60e8741cb2b4e78b8a98ee5ff2e6a17...      0.142203            1\n",
       "\n",
       "[518920 rows x 2 columns]"
      ]
     },
     "execution_count": 74,
     "metadata": {},
     "output_type": "execute_result"
    }
   ],
   "source": [
    "#(0 nnot found)\n",
    "target_df"
   ]
  },
  {
   "cell_type": "code",
   "execution_count": 75,
   "id": "1986dfe0",
   "metadata": {},
   "outputs": [],
   "source": [
    "#We need Last days of purchase, first day of purchase, total sales, Number of purchases"
   ]
  },
  {
   "cell_type": "code",
   "execution_count": 76,
   "id": "a4851304",
   "metadata": {},
   "outputs": [],
   "source": [
    "#Recency\n",
    "##How many days have passed since the last purchase"
   ]
  },
  {
   "cell_type": "code",
   "execution_count": 77,
   "id": "fc56e7c1",
   "metadata": {},
   "outputs": [],
   "source": [
    "max_date_in = data_before['t_dat'].max()"
   ]
  },
  {
   "cell_type": "code",
   "execution_count": 78,
   "id": "61c99d92",
   "metadata": {},
   "outputs": [],
   "source": [
    "recency_features_df = data_before[['customer_id','t_dat']].groupby('customer_id').apply(\n",
    "    lambda x: (x['t_dat'].max() - max_date_in) / pd.to_timedelta(1,\"day\") *(-1)).to_frame().set_axis([\"recency\"], axis=1)"
   ]
  },
  {
   "cell_type": "code",
   "execution_count": 79,
   "id": "7696e218",
   "metadata": {},
   "outputs": [
    {
     "data": {
      "text/html": [
       "<div>\n",
       "<style scoped>\n",
       "    .dataframe tbody tr th:only-of-type {\n",
       "        vertical-align: middle;\n",
       "    }\n",
       "\n",
       "    .dataframe tbody tr th {\n",
       "        vertical-align: top;\n",
       "    }\n",
       "\n",
       "    .dataframe thead th {\n",
       "        text-align: right;\n",
       "    }\n",
       "</style>\n",
       "<table border=\"1\" class=\"dataframe\">\n",
       "  <thead>\n",
       "    <tr style=\"text-align: right;\">\n",
       "      <th></th>\n",
       "      <th>recency</th>\n",
       "    </tr>\n",
       "    <tr>\n",
       "      <th>customer_id</th>\n",
       "      <th></th>\n",
       "    </tr>\n",
       "  </thead>\n",
       "  <tbody>\n",
       "    <tr>\n",
       "      <th>00000dbacae5abe5e23885899a1fa44253a17956c6d1c3d25f88aa139fdfc657</th>\n",
       "      <td>95.0</td>\n",
       "    </tr>\n",
       "    <tr>\n",
       "      <th>0000423b00ade91418cceaf3b26c6af3dd342b51fd051eec9c12fb36984420fa</th>\n",
       "      <td>63.0</td>\n",
       "    </tr>\n",
       "    <tr>\n",
       "      <th>000058a12d5b43e67d225668fa1f8d618c13dc232df0cad8ffe7ad4a1091e318</th>\n",
       "      <td>67.0</td>\n",
       "    </tr>\n",
       "    <tr>\n",
       "      <th>00005ca1c9ed5f5146b52ac8639a40ca9d57aeff4d1bd2c5feb1ca5dff07c43e</th>\n",
       "      <td>381.0</td>\n",
       "    </tr>\n",
       "    <tr>\n",
       "      <th>00006413d8573cd20ed7128e53b7b13819fe5cfc2d801fe7fc0f26dd8d65a85a</th>\n",
       "      <td>21.0</td>\n",
       "    </tr>\n",
       "    <tr>\n",
       "      <th>...</th>\n",
       "      <td>...</td>\n",
       "    </tr>\n",
       "    <tr>\n",
       "      <th>ffffbbf78b6eaac697a8a5dfbfd2bfa8113ee5b403e4747568cac33e8c541831</th>\n",
       "      <td>4.0</td>\n",
       "    </tr>\n",
       "    <tr>\n",
       "      <th>ffffcd5046a6143d29a04fb8c424ce494a76e5cdf4fab53481233731b5c4f8b7</th>\n",
       "      <td>44.0</td>\n",
       "    </tr>\n",
       "    <tr>\n",
       "      <th>ffffcf35913a0bee60e8741cb2b4e78b8a98ee5ff2e6a1778d0116cffd259264</th>\n",
       "      <td>154.0</td>\n",
       "    </tr>\n",
       "    <tr>\n",
       "      <th>ffffd7744cebcf3aca44ae7049d2a94b87074c3d4ffe38b2236865d949d4df6a</th>\n",
       "      <td>2.0</td>\n",
       "    </tr>\n",
       "    <tr>\n",
       "      <th>ffffd9ac14e89946416d80e791d064701994755c3ab686a1eaf3458c36f52241</th>\n",
       "      <td>203.0</td>\n",
       "    </tr>\n",
       "  </tbody>\n",
       "</table>\n",
       "<p>1291147 rows × 1 columns</p>\n",
       "</div>"
      ],
      "text/plain": [
       "                                                    recency\n",
       "customer_id                                                \n",
       "00000dbacae5abe5e23885899a1fa44253a17956c6d1c3d...     95.0\n",
       "0000423b00ade91418cceaf3b26c6af3dd342b51fd051ee...     63.0\n",
       "000058a12d5b43e67d225668fa1f8d618c13dc232df0cad...     67.0\n",
       "00005ca1c9ed5f5146b52ac8639a40ca9d57aeff4d1bd2c...    381.0\n",
       "00006413d8573cd20ed7128e53b7b13819fe5cfc2d801fe...     21.0\n",
       "...                                                     ...\n",
       "ffffbbf78b6eaac697a8a5dfbfd2bfa8113ee5b403e4747...      4.0\n",
       "ffffcd5046a6143d29a04fb8c424ce494a76e5cdf4fab53...     44.0\n",
       "ffffcf35913a0bee60e8741cb2b4e78b8a98ee5ff2e6a17...    154.0\n",
       "ffffd7744cebcf3aca44ae7049d2a94b87074c3d4ffe38b...      2.0\n",
       "ffffd9ac14e89946416d80e791d064701994755c3ab686a...    203.0\n",
       "\n",
       "[1291147 rows x 1 columns]"
      ]
     },
     "execution_count": 79,
     "metadata": {},
     "output_type": "execute_result"
    }
   ],
   "source": [
    "recency_features_df"
   ]
  },
  {
   "cell_type": "markdown",
   "id": "dba7d31e",
   "metadata": {},
   "source": [
    "# Frequency\n",
    "# Number of Orders"
   ]
  },
  {
   "cell_type": "code",
   "execution_count": 80,
   "id": "72875373",
   "metadata": {},
   "outputs": [],
   "source": [
    "frequency_features_df = data_before[['customer_id','t_dat']].groupby('customer_id').count().set_axis(\n",
    "    ['frequency'], axis=1)"
   ]
  },
  {
   "cell_type": "code",
   "execution_count": 81,
   "id": "a20d1f85",
   "metadata": {},
   "outputs": [
    {
     "data": {
      "text/html": [
       "<div>\n",
       "<style scoped>\n",
       "    .dataframe tbody tr th:only-of-type {\n",
       "        vertical-align: middle;\n",
       "    }\n",
       "\n",
       "    .dataframe tbody tr th {\n",
       "        vertical-align: top;\n",
       "    }\n",
       "\n",
       "    .dataframe thead th {\n",
       "        text-align: right;\n",
       "    }\n",
       "</style>\n",
       "<table border=\"1\" class=\"dataframe\">\n",
       "  <thead>\n",
       "    <tr style=\"text-align: right;\">\n",
       "      <th></th>\n",
       "      <th>frequency</th>\n",
       "    </tr>\n",
       "    <tr>\n",
       "      <th>customer_id</th>\n",
       "      <th></th>\n",
       "    </tr>\n",
       "  </thead>\n",
       "  <tbody>\n",
       "    <tr>\n",
       "      <th>00000dbacae5abe5e23885899a1fa44253a17956c6d1c3d25f88aa139fdfc657</th>\n",
       "      <td>20</td>\n",
       "    </tr>\n",
       "    <tr>\n",
       "      <th>0000423b00ade91418cceaf3b26c6af3dd342b51fd051eec9c12fb36984420fa</th>\n",
       "      <td>85</td>\n",
       "    </tr>\n",
       "    <tr>\n",
       "      <th>000058a12d5b43e67d225668fa1f8d618c13dc232df0cad8ffe7ad4a1091e318</th>\n",
       "      <td>17</td>\n",
       "    </tr>\n",
       "    <tr>\n",
       "      <th>00005ca1c9ed5f5146b52ac8639a40ca9d57aeff4d1bd2c5feb1ca5dff07c43e</th>\n",
       "      <td>2</td>\n",
       "    </tr>\n",
       "    <tr>\n",
       "      <th>00006413d8573cd20ed7128e53b7b13819fe5cfc2d801fe7fc0f26dd8d65a85a</th>\n",
       "      <td>9</td>\n",
       "    </tr>\n",
       "    <tr>\n",
       "      <th>...</th>\n",
       "      <td>...</td>\n",
       "    </tr>\n",
       "    <tr>\n",
       "      <th>ffffbbf78b6eaac697a8a5dfbfd2bfa8113ee5b403e4747568cac33e8c541831</th>\n",
       "      <td>39</td>\n",
       "    </tr>\n",
       "    <tr>\n",
       "      <th>ffffcd5046a6143d29a04fb8c424ce494a76e5cdf4fab53481233731b5c4f8b7</th>\n",
       "      <td>76</td>\n",
       "    </tr>\n",
       "    <tr>\n",
       "      <th>ffffcf35913a0bee60e8741cb2b4e78b8a98ee5ff2e6a1778d0116cffd259264</th>\n",
       "      <td>35</td>\n",
       "    </tr>\n",
       "    <tr>\n",
       "      <th>ffffd7744cebcf3aca44ae7049d2a94b87074c3d4ffe38b2236865d949d4df6a</th>\n",
       "      <td>7</td>\n",
       "    </tr>\n",
       "    <tr>\n",
       "      <th>ffffd9ac14e89946416d80e791d064701994755c3ab686a1eaf3458c36f52241</th>\n",
       "      <td>1</td>\n",
       "    </tr>\n",
       "  </tbody>\n",
       "</table>\n",
       "<p>1291147 rows × 1 columns</p>\n",
       "</div>"
      ],
      "text/plain": [
       "                                                    frequency\n",
       "customer_id                                                  \n",
       "00000dbacae5abe5e23885899a1fa44253a17956c6d1c3d...         20\n",
       "0000423b00ade91418cceaf3b26c6af3dd342b51fd051ee...         85\n",
       "000058a12d5b43e67d225668fa1f8d618c13dc232df0cad...         17\n",
       "00005ca1c9ed5f5146b52ac8639a40ca9d57aeff4d1bd2c...          2\n",
       "00006413d8573cd20ed7128e53b7b13819fe5cfc2d801fe...          9\n",
       "...                                                       ...\n",
       "ffffbbf78b6eaac697a8a5dfbfd2bfa8113ee5b403e4747...         39\n",
       "ffffcd5046a6143d29a04fb8c424ce494a76e5cdf4fab53...         76\n",
       "ffffcf35913a0bee60e8741cb2b4e78b8a98ee5ff2e6a17...         35\n",
       "ffffd7744cebcf3aca44ae7049d2a94b87074c3d4ffe38b...          7\n",
       "ffffd9ac14e89946416d80e791d064701994755c3ab686a...          1\n",
       "\n",
       "[1291147 rows x 1 columns]"
      ]
     },
     "execution_count": 81,
     "metadata": {},
     "output_type": "execute_result"
    }
   ],
   "source": [
    "frequency_features_df"
   ]
  },
  {
   "cell_type": "markdown",
   "id": "1bbea41f",
   "metadata": {},
   "source": [
    "# Monertary"
   ]
  },
  {
   "cell_type": "code",
   "execution_count": 82,
   "id": "f4509f5f",
   "metadata": {},
   "outputs": [],
   "source": [
    "price_features_df = data_before.groupby('customer_id').aggregate({\"price\":[\"sum\",\"mean\"]}).set_axis(\n",
    "    ['Monertary','price_mean'], axis=1)"
   ]
  },
  {
   "cell_type": "code",
   "execution_count": 83,
   "id": "7feca1ae",
   "metadata": {},
   "outputs": [
    {
     "data": {
      "text/html": [
       "<div>\n",
       "<style scoped>\n",
       "    .dataframe tbody tr th:only-of-type {\n",
       "        vertical-align: middle;\n",
       "    }\n",
       "\n",
       "    .dataframe tbody tr th {\n",
       "        vertical-align: top;\n",
       "    }\n",
       "\n",
       "    .dataframe thead th {\n",
       "        text-align: right;\n",
       "    }\n",
       "</style>\n",
       "<table border=\"1\" class=\"dataframe\">\n",
       "  <thead>\n",
       "    <tr style=\"text-align: right;\">\n",
       "      <th></th>\n",
       "      <th>Monertary</th>\n",
       "      <th>price_mean</th>\n",
       "    </tr>\n",
       "    <tr>\n",
       "      <th>customer_id</th>\n",
       "      <th></th>\n",
       "      <th></th>\n",
       "    </tr>\n",
       "  </thead>\n",
       "  <tbody>\n",
       "    <tr>\n",
       "      <th>00000dbacae5abe5e23885899a1fa44253a17956c6d1c3d25f88aa139fdfc657</th>\n",
       "      <td>0.598153</td>\n",
       "      <td>0.029908</td>\n",
       "    </tr>\n",
       "    <tr>\n",
       "      <th>0000423b00ade91418cceaf3b26c6af3dd342b51fd051eec9c12fb36984420fa</th>\n",
       "      <td>2.574831</td>\n",
       "      <td>0.030292</td>\n",
       "    </tr>\n",
       "    <tr>\n",
       "      <th>000058a12d5b43e67d225668fa1f8d618c13dc232df0cad8ffe7ad4a1091e318</th>\n",
       "      <td>0.643780</td>\n",
       "      <td>0.037869</td>\n",
       "    </tr>\n",
       "    <tr>\n",
       "      <th>00005ca1c9ed5f5146b52ac8639a40ca9d57aeff4d1bd2c5feb1ca5dff07c43e</th>\n",
       "      <td>0.060983</td>\n",
       "      <td>0.030492</td>\n",
       "    </tr>\n",
       "    <tr>\n",
       "      <th>00006413d8573cd20ed7128e53b7b13819fe5cfc2d801fe7fc0f26dd8d65a85a</th>\n",
       "      <td>0.340949</td>\n",
       "      <td>0.037883</td>\n",
       "    </tr>\n",
       "    <tr>\n",
       "      <th>...</th>\n",
       "      <td>...</td>\n",
       "      <td>...</td>\n",
       "    </tr>\n",
       "    <tr>\n",
       "      <th>ffffbbf78b6eaac697a8a5dfbfd2bfa8113ee5b403e4747568cac33e8c541831</th>\n",
       "      <td>0.999339</td>\n",
       "      <td>0.025624</td>\n",
       "    </tr>\n",
       "    <tr>\n",
       "      <th>ffffcd5046a6143d29a04fb8c424ce494a76e5cdf4fab53481233731b5c4f8b7</th>\n",
       "      <td>1.702373</td>\n",
       "      <td>0.022400</td>\n",
       "    </tr>\n",
       "    <tr>\n",
       "      <th>ffffcf35913a0bee60e8741cb2b4e78b8a98ee5ff2e6a1778d0116cffd259264</th>\n",
       "      <td>0.646729</td>\n",
       "      <td>0.018478</td>\n",
       "    </tr>\n",
       "    <tr>\n",
       "      <th>ffffd7744cebcf3aca44ae7049d2a94b87074c3d4ffe38b2236865d949d4df6a</th>\n",
       "      <td>0.209203</td>\n",
       "      <td>0.029886</td>\n",
       "    </tr>\n",
       "    <tr>\n",
       "      <th>ffffd9ac14e89946416d80e791d064701994755c3ab686a1eaf3458c36f52241</th>\n",
       "      <td>0.084729</td>\n",
       "      <td>0.084729</td>\n",
       "    </tr>\n",
       "  </tbody>\n",
       "</table>\n",
       "<p>1291147 rows × 2 columns</p>\n",
       "</div>"
      ],
      "text/plain": [
       "                                                    Monertary  price_mean\n",
       "customer_id                                                              \n",
       "00000dbacae5abe5e23885899a1fa44253a17956c6d1c3d...   0.598153    0.029908\n",
       "0000423b00ade91418cceaf3b26c6af3dd342b51fd051ee...   2.574831    0.030292\n",
       "000058a12d5b43e67d225668fa1f8d618c13dc232df0cad...   0.643780    0.037869\n",
       "00005ca1c9ed5f5146b52ac8639a40ca9d57aeff4d1bd2c...   0.060983    0.030492\n",
       "00006413d8573cd20ed7128e53b7b13819fe5cfc2d801fe...   0.340949    0.037883\n",
       "...                                                       ...         ...\n",
       "ffffbbf78b6eaac697a8a5dfbfd2bfa8113ee5b403e4747...   0.999339    0.025624\n",
       "ffffcd5046a6143d29a04fb8c424ce494a76e5cdf4fab53...   1.702373    0.022400\n",
       "ffffcf35913a0bee60e8741cb2b4e78b8a98ee5ff2e6a17...   0.646729    0.018478\n",
       "ffffd7744cebcf3aca44ae7049d2a94b87074c3d4ffe38b...   0.209203    0.029886\n",
       "ffffd9ac14e89946416d80e791d064701994755c3ab686a...   0.084729    0.084729\n",
       "\n",
       "[1291147 rows x 2 columns]"
      ]
     },
     "execution_count": 83,
     "metadata": {},
     "output_type": "execute_result"
    }
   ],
   "source": [
    "price_features_df"
   ]
  },
  {
   "cell_type": "markdown",
   "id": "114a4803",
   "metadata": {},
   "source": [
    "# Concatnating all the columns, RFM and target values"
   ]
  },
  {
   "cell_type": "code",
   "execution_count": 84,
   "id": "586f10ac",
   "metadata": {},
   "outputs": [],
   "source": [
    "features_df = pd.concat([recency_features_df, frequency_features_df, price_features_df], axis = 1).merge(target_df,left_index=True,right_index=True,how = \"left\").fillna(0)"
   ]
  },
  {
   "cell_type": "code",
   "execution_count": 85,
   "id": "b54534fd",
   "metadata": {},
   "outputs": [
    {
     "data": {
      "text/html": [
       "<div>\n",
       "<style scoped>\n",
       "    .dataframe tbody tr th:only-of-type {\n",
       "        vertical-align: middle;\n",
       "    }\n",
       "\n",
       "    .dataframe tbody tr th {\n",
       "        vertical-align: top;\n",
       "    }\n",
       "\n",
       "    .dataframe thead th {\n",
       "        text-align: right;\n",
       "    }\n",
       "</style>\n",
       "<table border=\"1\" class=\"dataframe\">\n",
       "  <thead>\n",
       "    <tr style=\"text-align: right;\">\n",
       "      <th></th>\n",
       "      <th>recency</th>\n",
       "      <th>frequency</th>\n",
       "      <th>Monertary</th>\n",
       "      <th>price_mean</th>\n",
       "      <th>spent_90days</th>\n",
       "      <th>Flag_90days</th>\n",
       "    </tr>\n",
       "    <tr>\n",
       "      <th>customer_id</th>\n",
       "      <th></th>\n",
       "      <th></th>\n",
       "      <th></th>\n",
       "      <th></th>\n",
       "      <th></th>\n",
       "      <th></th>\n",
       "    </tr>\n",
       "  </thead>\n",
       "  <tbody>\n",
       "    <tr>\n",
       "      <th>00000dbacae5abe5e23885899a1fa44253a17956c6d1c3d25f88aa139fdfc657</th>\n",
       "      <td>95.0</td>\n",
       "      <td>20</td>\n",
       "      <td>0.598153</td>\n",
       "      <td>0.029908</td>\n",
       "      <td>0.050831</td>\n",
       "      <td>1.0</td>\n",
       "    </tr>\n",
       "    <tr>\n",
       "      <th>0000423b00ade91418cceaf3b26c6af3dd342b51fd051eec9c12fb36984420fa</th>\n",
       "      <td>63.0</td>\n",
       "      <td>85</td>\n",
       "      <td>2.574831</td>\n",
       "      <td>0.030292</td>\n",
       "      <td>0.027102</td>\n",
       "      <td>1.0</td>\n",
       "    </tr>\n",
       "    <tr>\n",
       "      <th>000058a12d5b43e67d225668fa1f8d618c13dc232df0cad8ffe7ad4a1091e318</th>\n",
       "      <td>67.0</td>\n",
       "      <td>17</td>\n",
       "      <td>0.643780</td>\n",
       "      <td>0.037869</td>\n",
       "      <td>0.061000</td>\n",
       "      <td>1.0</td>\n",
       "    </tr>\n",
       "    <tr>\n",
       "      <th>00005ca1c9ed5f5146b52ac8639a40ca9d57aeff4d1bd2c5feb1ca5dff07c43e</th>\n",
       "      <td>381.0</td>\n",
       "      <td>2</td>\n",
       "      <td>0.060983</td>\n",
       "      <td>0.030492</td>\n",
       "      <td>0.000000</td>\n",
       "      <td>0.0</td>\n",
       "    </tr>\n",
       "    <tr>\n",
       "      <th>00006413d8573cd20ed7128e53b7b13819fe5cfc2d801fe7fc0f26dd8d65a85a</th>\n",
       "      <td>21.0</td>\n",
       "      <td>9</td>\n",
       "      <td>0.340949</td>\n",
       "      <td>0.037883</td>\n",
       "      <td>0.128746</td>\n",
       "      <td>1.0</td>\n",
       "    </tr>\n",
       "    <tr>\n",
       "      <th>...</th>\n",
       "      <td>...</td>\n",
       "      <td>...</td>\n",
       "      <td>...</td>\n",
       "      <td>...</td>\n",
       "      <td>...</td>\n",
       "      <td>...</td>\n",
       "    </tr>\n",
       "    <tr>\n",
       "      <th>ffffbbf78b6eaac697a8a5dfbfd2bfa8113ee5b403e4747568cac33e8c541831</th>\n",
       "      <td>4.0</td>\n",
       "      <td>39</td>\n",
       "      <td>0.999339</td>\n",
       "      <td>0.025624</td>\n",
       "      <td>0.293017</td>\n",
       "      <td>1.0</td>\n",
       "    </tr>\n",
       "    <tr>\n",
       "      <th>ffffcd5046a6143d29a04fb8c424ce494a76e5cdf4fab53481233731b5c4f8b7</th>\n",
       "      <td>44.0</td>\n",
       "      <td>76</td>\n",
       "      <td>1.702373</td>\n",
       "      <td>0.022400</td>\n",
       "      <td>0.104949</td>\n",
       "      <td>1.0</td>\n",
       "    </tr>\n",
       "    <tr>\n",
       "      <th>ffffcf35913a0bee60e8741cb2b4e78b8a98ee5ff2e6a1778d0116cffd259264</th>\n",
       "      <td>154.0</td>\n",
       "      <td>35</td>\n",
       "      <td>0.646729</td>\n",
       "      <td>0.018478</td>\n",
       "      <td>0.142203</td>\n",
       "      <td>1.0</td>\n",
       "    </tr>\n",
       "    <tr>\n",
       "      <th>ffffd7744cebcf3aca44ae7049d2a94b87074c3d4ffe38b2236865d949d4df6a</th>\n",
       "      <td>2.0</td>\n",
       "      <td>7</td>\n",
       "      <td>0.209203</td>\n",
       "      <td>0.029886</td>\n",
       "      <td>0.000000</td>\n",
       "      <td>0.0</td>\n",
       "    </tr>\n",
       "    <tr>\n",
       "      <th>ffffd9ac14e89946416d80e791d064701994755c3ab686a1eaf3458c36f52241</th>\n",
       "      <td>203.0</td>\n",
       "      <td>1</td>\n",
       "      <td>0.084729</td>\n",
       "      <td>0.084729</td>\n",
       "      <td>0.000000</td>\n",
       "      <td>0.0</td>\n",
       "    </tr>\n",
       "  </tbody>\n",
       "</table>\n",
       "<p>1291147 rows × 6 columns</p>\n",
       "</div>"
      ],
      "text/plain": [
       "                                                    recency  frequency  \\\n",
       "customer_id                                                              \n",
       "00000dbacae5abe5e23885899a1fa44253a17956c6d1c3d...     95.0         20   \n",
       "0000423b00ade91418cceaf3b26c6af3dd342b51fd051ee...     63.0         85   \n",
       "000058a12d5b43e67d225668fa1f8d618c13dc232df0cad...     67.0         17   \n",
       "00005ca1c9ed5f5146b52ac8639a40ca9d57aeff4d1bd2c...    381.0          2   \n",
       "00006413d8573cd20ed7128e53b7b13819fe5cfc2d801fe...     21.0          9   \n",
       "...                                                     ...        ...   \n",
       "ffffbbf78b6eaac697a8a5dfbfd2bfa8113ee5b403e4747...      4.0         39   \n",
       "ffffcd5046a6143d29a04fb8c424ce494a76e5cdf4fab53...     44.0         76   \n",
       "ffffcf35913a0bee60e8741cb2b4e78b8a98ee5ff2e6a17...    154.0         35   \n",
       "ffffd7744cebcf3aca44ae7049d2a94b87074c3d4ffe38b...      2.0          7   \n",
       "ffffd9ac14e89946416d80e791d064701994755c3ab686a...    203.0          1   \n",
       "\n",
       "                                                    Monertary  price_mean  \\\n",
       "customer_id                                                                 \n",
       "00000dbacae5abe5e23885899a1fa44253a17956c6d1c3d...   0.598153    0.029908   \n",
       "0000423b00ade91418cceaf3b26c6af3dd342b51fd051ee...   2.574831    0.030292   \n",
       "000058a12d5b43e67d225668fa1f8d618c13dc232df0cad...   0.643780    0.037869   \n",
       "00005ca1c9ed5f5146b52ac8639a40ca9d57aeff4d1bd2c...   0.060983    0.030492   \n",
       "00006413d8573cd20ed7128e53b7b13819fe5cfc2d801fe...   0.340949    0.037883   \n",
       "...                                                       ...         ...   \n",
       "ffffbbf78b6eaac697a8a5dfbfd2bfa8113ee5b403e4747...   0.999339    0.025624   \n",
       "ffffcd5046a6143d29a04fb8c424ce494a76e5cdf4fab53...   1.702373    0.022400   \n",
       "ffffcf35913a0bee60e8741cb2b4e78b8a98ee5ff2e6a17...   0.646729    0.018478   \n",
       "ffffd7744cebcf3aca44ae7049d2a94b87074c3d4ffe38b...   0.209203    0.029886   \n",
       "ffffd9ac14e89946416d80e791d064701994755c3ab686a...   0.084729    0.084729   \n",
       "\n",
       "                                                    spent_90days  Flag_90days  \n",
       "customer_id                                                                    \n",
       "00000dbacae5abe5e23885899a1fa44253a17956c6d1c3d...      0.050831          1.0  \n",
       "0000423b00ade91418cceaf3b26c6af3dd342b51fd051ee...      0.027102          1.0  \n",
       "000058a12d5b43e67d225668fa1f8d618c13dc232df0cad...      0.061000          1.0  \n",
       "00005ca1c9ed5f5146b52ac8639a40ca9d57aeff4d1bd2c...      0.000000          0.0  \n",
       "00006413d8573cd20ed7128e53b7b13819fe5cfc2d801fe...      0.128746          1.0  \n",
       "...                                                          ...          ...  \n",
       "ffffbbf78b6eaac697a8a5dfbfd2bfa8113ee5b403e4747...      0.293017          1.0  \n",
       "ffffcd5046a6143d29a04fb8c424ce494a76e5cdf4fab53...      0.104949          1.0  \n",
       "ffffcf35913a0bee60e8741cb2b4e78b8a98ee5ff2e6a17...      0.142203          1.0  \n",
       "ffffd7744cebcf3aca44ae7049d2a94b87074c3d4ffe38b...      0.000000          0.0  \n",
       "ffffd9ac14e89946416d80e791d064701994755c3ab686a...      0.000000          0.0  \n",
       "\n",
       "[1291147 rows x 6 columns]"
      ]
     },
     "execution_count": 85,
     "metadata": {},
     "output_type": "execute_result"
    }
   ],
   "source": [
    "features_df"
   ]
  },
  {
   "cell_type": "code",
   "execution_count": 86,
   "id": "b056c46c",
   "metadata": {},
   "outputs": [],
   "source": [
    "#Conisering the lastest age, sclub_member status, fashion_news."
   ]
  },
  {
   "cell_type": "code",
   "execution_count": 87,
   "id": "dd5d9b06",
   "metadata": {},
   "outputs": [
    {
     "data": {
      "text/html": [
       "<div>\n",
       "<style scoped>\n",
       "    .dataframe tbody tr th:only-of-type {\n",
       "        vertical-align: middle;\n",
       "    }\n",
       "\n",
       "    .dataframe tbody tr th {\n",
       "        vertical-align: top;\n",
       "    }\n",
       "\n",
       "    .dataframe thead th {\n",
       "        text-align: right;\n",
       "    }\n",
       "</style>\n",
       "<table border=\"1\" class=\"dataframe\">\n",
       "  <thead>\n",
       "    <tr style=\"text-align: right;\">\n",
       "      <th></th>\n",
       "      <th>t_dat</th>\n",
       "      <th>price</th>\n",
       "      <th>sales_channel_id</th>\n",
       "      <th>club_member_status</th>\n",
       "      <th>fashion_news_frequency</th>\n",
       "      <th>age</th>\n",
       "    </tr>\n",
       "    <tr>\n",
       "      <th>customer_id</th>\n",
       "      <th></th>\n",
       "      <th></th>\n",
       "      <th></th>\n",
       "      <th></th>\n",
       "      <th></th>\n",
       "      <th></th>\n",
       "    </tr>\n",
       "  </thead>\n",
       "  <tbody>\n",
       "    <tr>\n",
       "      <th>00000dbacae5abe5e23885899a1fa44253a17956c6d1c3d25f88aa139fdfc657</th>\n",
       "      <td>2020-03-21</td>\n",
       "      <td>0.011508</td>\n",
       "      <td>2</td>\n",
       "      <td>ACTIVE</td>\n",
       "      <td>NONE</td>\n",
       "      <td>49.0</td>\n",
       "    </tr>\n",
       "    <tr>\n",
       "      <th>0000423b00ade91418cceaf3b26c6af3dd342b51fd051eec9c12fb36984420fa</th>\n",
       "      <td>2020-04-22</td>\n",
       "      <td>0.016932</td>\n",
       "      <td>2</td>\n",
       "      <td>ACTIVE</td>\n",
       "      <td>NONE</td>\n",
       "      <td>25.0</td>\n",
       "    </tr>\n",
       "    <tr>\n",
       "      <th>000058a12d5b43e67d225668fa1f8d618c13dc232df0cad8ffe7ad4a1091e318</th>\n",
       "      <td>2020-04-18</td>\n",
       "      <td>0.030492</td>\n",
       "      <td>2</td>\n",
       "      <td>ACTIVE</td>\n",
       "      <td>NONE</td>\n",
       "      <td>24.0</td>\n",
       "    </tr>\n",
       "    <tr>\n",
       "      <th>00005ca1c9ed5f5146b52ac8639a40ca9d57aeff4d1bd2c5feb1ca5dff07c43e</th>\n",
       "      <td>2019-06-09</td>\n",
       "      <td>0.030492</td>\n",
       "      <td>2</td>\n",
       "      <td>ACTIVE</td>\n",
       "      <td>NONE</td>\n",
       "      <td>54.0</td>\n",
       "    </tr>\n",
       "    <tr>\n",
       "      <th>00006413d8573cd20ed7128e53b7b13819fe5cfc2d801fe7fc0f26dd8d65a85a</th>\n",
       "      <td>2020-06-03</td>\n",
       "      <td>0.042356</td>\n",
       "      <td>2</td>\n",
       "      <td>ACTIVE</td>\n",
       "      <td>Regularly</td>\n",
       "      <td>52.0</td>\n",
       "    </tr>\n",
       "  </tbody>\n",
       "</table>\n",
       "</div>"
      ],
      "text/plain": [
       "                                                        t_dat     price  \\\n",
       "customer_id                                                               \n",
       "00000dbacae5abe5e23885899a1fa44253a17956c6d1c3d... 2020-03-21  0.011508   \n",
       "0000423b00ade91418cceaf3b26c6af3dd342b51fd051ee... 2020-04-22  0.016932   \n",
       "000058a12d5b43e67d225668fa1f8d618c13dc232df0cad... 2020-04-18  0.030492   \n",
       "00005ca1c9ed5f5146b52ac8639a40ca9d57aeff4d1bd2c... 2019-06-09  0.030492   \n",
       "00006413d8573cd20ed7128e53b7b13819fe5cfc2d801fe... 2020-06-03  0.042356   \n",
       "\n",
       "                                                    sales_channel_id  \\\n",
       "customer_id                                                            \n",
       "00000dbacae5abe5e23885899a1fa44253a17956c6d1c3d...                 2   \n",
       "0000423b00ade91418cceaf3b26c6af3dd342b51fd051ee...                 2   \n",
       "000058a12d5b43e67d225668fa1f8d618c13dc232df0cad...                 2   \n",
       "00005ca1c9ed5f5146b52ac8639a40ca9d57aeff4d1bd2c...                 2   \n",
       "00006413d8573cd20ed7128e53b7b13819fe5cfc2d801fe...                 2   \n",
       "\n",
       "                                                   club_member_status  \\\n",
       "customer_id                                                             \n",
       "00000dbacae5abe5e23885899a1fa44253a17956c6d1c3d...             ACTIVE   \n",
       "0000423b00ade91418cceaf3b26c6af3dd342b51fd051ee...             ACTIVE   \n",
       "000058a12d5b43e67d225668fa1f8d618c13dc232df0cad...             ACTIVE   \n",
       "00005ca1c9ed5f5146b52ac8639a40ca9d57aeff4d1bd2c...             ACTIVE   \n",
       "00006413d8573cd20ed7128e53b7b13819fe5cfc2d801fe...             ACTIVE   \n",
       "\n",
       "                                                   fashion_news_frequency  \\\n",
       "customer_id                                                                 \n",
       "00000dbacae5abe5e23885899a1fa44253a17956c6d1c3d...                   NONE   \n",
       "0000423b00ade91418cceaf3b26c6af3dd342b51fd051ee...                   NONE   \n",
       "000058a12d5b43e67d225668fa1f8d618c13dc232df0cad...                   NONE   \n",
       "00005ca1c9ed5f5146b52ac8639a40ca9d57aeff4d1bd2c...                   NONE   \n",
       "00006413d8573cd20ed7128e53b7b13819fe5cfc2d801fe...              Regularly   \n",
       "\n",
       "                                                     age  \n",
       "customer_id                                               \n",
       "00000dbacae5abe5e23885899a1fa44253a17956c6d1c3d...  49.0  \n",
       "0000423b00ade91418cceaf3b26c6af3dd342b51fd051ee...  25.0  \n",
       "000058a12d5b43e67d225668fa1f8d618c13dc232df0cad...  24.0  \n",
       "00005ca1c9ed5f5146b52ac8639a40ca9d57aeff4d1bd2c...  54.0  \n",
       "00006413d8573cd20ed7128e53b7b13819fe5cfc2d801fe...  52.0  "
      ]
     },
     "execution_count": 87,
     "metadata": {},
     "output_type": "execute_result"
    }
   ],
   "source": [
    "#For club men=mber Status and fashion news\n",
    "mm = data_before.sort_values(['t_dat']).groupby('customer_id').last()\n",
    "#result.sort_values(['t_dat']).groupby('customer_id').first()\n",
    "#data_before\n",
    "mm.head()"
   ]
  },
  {
   "cell_type": "code",
   "execution_count": 88,
   "id": "5d58e2c2",
   "metadata": {},
   "outputs": [
    {
     "name": "stdout",
     "output_type": "stream",
     "text": [
      "(1291147, 6)\n"
     ]
    }
   ],
   "source": [
    "print(mm.shape)"
   ]
  },
  {
   "cell_type": "code",
   "execution_count": 89,
   "id": "96bb1278",
   "metadata": {},
   "outputs": [],
   "source": [
    "mv = mm[['sales_channel_id','club_member_status','fashion_news_frequency','age']]"
   ]
  },
  {
   "cell_type": "code",
   "execution_count": 90,
   "id": "00fdf1e2",
   "metadata": {},
   "outputs": [],
   "source": [
    "features_final = pd.merge(features_df,mv,how=\"left\", on=[\"customer_id\",\"customer_id\"])"
   ]
  },
  {
   "cell_type": "code",
   "execution_count": 91,
   "id": "d715dbe2",
   "metadata": {},
   "outputs": [
    {
     "data": {
      "text/html": [
       "<div>\n",
       "<style scoped>\n",
       "    .dataframe tbody tr th:only-of-type {\n",
       "        vertical-align: middle;\n",
       "    }\n",
       "\n",
       "    .dataframe tbody tr th {\n",
       "        vertical-align: top;\n",
       "    }\n",
       "\n",
       "    .dataframe thead th {\n",
       "        text-align: right;\n",
       "    }\n",
       "</style>\n",
       "<table border=\"1\" class=\"dataframe\">\n",
       "  <thead>\n",
       "    <tr style=\"text-align: right;\">\n",
       "      <th></th>\n",
       "      <th></th>\n",
       "      <th>recency</th>\n",
       "      <th>frequency</th>\n",
       "      <th>Monertary</th>\n",
       "      <th>price_mean</th>\n",
       "      <th>spent_90days</th>\n",
       "      <th>Flag_90days</th>\n",
       "      <th>sales_channel_id</th>\n",
       "      <th>club_member_status</th>\n",
       "      <th>fashion_news_frequency</th>\n",
       "      <th>age</th>\n",
       "    </tr>\n",
       "    <tr>\n",
       "      <th>customer_id</th>\n",
       "      <th>customer_id</th>\n",
       "      <th></th>\n",
       "      <th></th>\n",
       "      <th></th>\n",
       "      <th></th>\n",
       "      <th></th>\n",
       "      <th></th>\n",
       "      <th></th>\n",
       "      <th></th>\n",
       "      <th></th>\n",
       "      <th></th>\n",
       "    </tr>\n",
       "  </thead>\n",
       "  <tbody>\n",
       "    <tr>\n",
       "      <th>00000dbacae5abe5e23885899a1fa44253a17956c6d1c3d25f88aa139fdfc657</th>\n",
       "      <th>00000dbacae5abe5e23885899a1fa44253a17956c6d1c3d25f88aa139fdfc657</th>\n",
       "      <td>95.0</td>\n",
       "      <td>20</td>\n",
       "      <td>0.598153</td>\n",
       "      <td>0.029908</td>\n",
       "      <td>0.050831</td>\n",
       "      <td>1.0</td>\n",
       "      <td>2</td>\n",
       "      <td>ACTIVE</td>\n",
       "      <td>NONE</td>\n",
       "      <td>49.0</td>\n",
       "    </tr>\n",
       "    <tr>\n",
       "      <th>0000423b00ade91418cceaf3b26c6af3dd342b51fd051eec9c12fb36984420fa</th>\n",
       "      <th>0000423b00ade91418cceaf3b26c6af3dd342b51fd051eec9c12fb36984420fa</th>\n",
       "      <td>63.0</td>\n",
       "      <td>85</td>\n",
       "      <td>2.574831</td>\n",
       "      <td>0.030292</td>\n",
       "      <td>0.027102</td>\n",
       "      <td>1.0</td>\n",
       "      <td>2</td>\n",
       "      <td>ACTIVE</td>\n",
       "      <td>NONE</td>\n",
       "      <td>25.0</td>\n",
       "    </tr>\n",
       "    <tr>\n",
       "      <th>000058a12d5b43e67d225668fa1f8d618c13dc232df0cad8ffe7ad4a1091e318</th>\n",
       "      <th>000058a12d5b43e67d225668fa1f8d618c13dc232df0cad8ffe7ad4a1091e318</th>\n",
       "      <td>67.0</td>\n",
       "      <td>17</td>\n",
       "      <td>0.643780</td>\n",
       "      <td>0.037869</td>\n",
       "      <td>0.061000</td>\n",
       "      <td>1.0</td>\n",
       "      <td>2</td>\n",
       "      <td>ACTIVE</td>\n",
       "      <td>NONE</td>\n",
       "      <td>24.0</td>\n",
       "    </tr>\n",
       "    <tr>\n",
       "      <th>00005ca1c9ed5f5146b52ac8639a40ca9d57aeff4d1bd2c5feb1ca5dff07c43e</th>\n",
       "      <th>00005ca1c9ed5f5146b52ac8639a40ca9d57aeff4d1bd2c5feb1ca5dff07c43e</th>\n",
       "      <td>381.0</td>\n",
       "      <td>2</td>\n",
       "      <td>0.060983</td>\n",
       "      <td>0.030492</td>\n",
       "      <td>0.000000</td>\n",
       "      <td>0.0</td>\n",
       "      <td>2</td>\n",
       "      <td>ACTIVE</td>\n",
       "      <td>NONE</td>\n",
       "      <td>54.0</td>\n",
       "    </tr>\n",
       "    <tr>\n",
       "      <th>00006413d8573cd20ed7128e53b7b13819fe5cfc2d801fe7fc0f26dd8d65a85a</th>\n",
       "      <th>00006413d8573cd20ed7128e53b7b13819fe5cfc2d801fe7fc0f26dd8d65a85a</th>\n",
       "      <td>21.0</td>\n",
       "      <td>9</td>\n",
       "      <td>0.340949</td>\n",
       "      <td>0.037883</td>\n",
       "      <td>0.128746</td>\n",
       "      <td>1.0</td>\n",
       "      <td>2</td>\n",
       "      <td>ACTIVE</td>\n",
       "      <td>Regularly</td>\n",
       "      <td>52.0</td>\n",
       "    </tr>\n",
       "    <tr>\n",
       "      <th>...</th>\n",
       "      <th>...</th>\n",
       "      <td>...</td>\n",
       "      <td>...</td>\n",
       "      <td>...</td>\n",
       "      <td>...</td>\n",
       "      <td>...</td>\n",
       "      <td>...</td>\n",
       "      <td>...</td>\n",
       "      <td>...</td>\n",
       "      <td>...</td>\n",
       "      <td>...</td>\n",
       "    </tr>\n",
       "    <tr>\n",
       "      <th>ffffbbf78b6eaac697a8a5dfbfd2bfa8113ee5b403e4747568cac33e8c541831</th>\n",
       "      <th>ffffbbf78b6eaac697a8a5dfbfd2bfa8113ee5b403e4747568cac33e8c541831</th>\n",
       "      <td>4.0</td>\n",
       "      <td>39</td>\n",
       "      <td>0.999339</td>\n",
       "      <td>0.025624</td>\n",
       "      <td>0.293017</td>\n",
       "      <td>1.0</td>\n",
       "      <td>2</td>\n",
       "      <td>No</td>\n",
       "      <td>None</td>\n",
       "      <td>31.0</td>\n",
       "    </tr>\n",
       "    <tr>\n",
       "      <th>ffffcd5046a6143d29a04fb8c424ce494a76e5cdf4fab53481233731b5c4f8b7</th>\n",
       "      <th>ffffcd5046a6143d29a04fb8c424ce494a76e5cdf4fab53481233731b5c4f8b7</th>\n",
       "      <td>44.0</td>\n",
       "      <td>76</td>\n",
       "      <td>1.702373</td>\n",
       "      <td>0.022400</td>\n",
       "      <td>0.104949</td>\n",
       "      <td>1.0</td>\n",
       "      <td>1</td>\n",
       "      <td>No</td>\n",
       "      <td>None</td>\n",
       "      <td>31.0</td>\n",
       "    </tr>\n",
       "    <tr>\n",
       "      <th>ffffcf35913a0bee60e8741cb2b4e78b8a98ee5ff2e6a1778d0116cffd259264</th>\n",
       "      <th>ffffcf35913a0bee60e8741cb2b4e78b8a98ee5ff2e6a1778d0116cffd259264</th>\n",
       "      <td>154.0</td>\n",
       "      <td>35</td>\n",
       "      <td>0.646729</td>\n",
       "      <td>0.018478</td>\n",
       "      <td>0.142203</td>\n",
       "      <td>1.0</td>\n",
       "      <td>1</td>\n",
       "      <td>No</td>\n",
       "      <td>None</td>\n",
       "      <td>31.0</td>\n",
       "    </tr>\n",
       "    <tr>\n",
       "      <th>ffffd7744cebcf3aca44ae7049d2a94b87074c3d4ffe38b2236865d949d4df6a</th>\n",
       "      <th>ffffd7744cebcf3aca44ae7049d2a94b87074c3d4ffe38b2236865d949d4df6a</th>\n",
       "      <td>2.0</td>\n",
       "      <td>7</td>\n",
       "      <td>0.209203</td>\n",
       "      <td>0.029886</td>\n",
       "      <td>0.000000</td>\n",
       "      <td>0.0</td>\n",
       "      <td>1</td>\n",
       "      <td>No</td>\n",
       "      <td>None</td>\n",
       "      <td>31.0</td>\n",
       "    </tr>\n",
       "    <tr>\n",
       "      <th>ffffd9ac14e89946416d80e791d064701994755c3ab686a1eaf3458c36f52241</th>\n",
       "      <th>ffffd9ac14e89946416d80e791d064701994755c3ab686a1eaf3458c36f52241</th>\n",
       "      <td>203.0</td>\n",
       "      <td>1</td>\n",
       "      <td>0.084729</td>\n",
       "      <td>0.084729</td>\n",
       "      <td>0.000000</td>\n",
       "      <td>0.0</td>\n",
       "      <td>2</td>\n",
       "      <td>No</td>\n",
       "      <td>None</td>\n",
       "      <td>31.0</td>\n",
       "    </tr>\n",
       "  </tbody>\n",
       "</table>\n",
       "<p>1291147 rows × 10 columns</p>\n",
       "</div>"
      ],
      "text/plain": [
       "                                                                                                       recency  \\\n",
       "customer_id                                        customer_id                                                   \n",
       "00000dbacae5abe5e23885899a1fa44253a17956c6d1c3d... 00000dbacae5abe5e23885899a1fa44253a17956c6d1c3d...     95.0   \n",
       "0000423b00ade91418cceaf3b26c6af3dd342b51fd051ee... 0000423b00ade91418cceaf3b26c6af3dd342b51fd051ee...     63.0   \n",
       "000058a12d5b43e67d225668fa1f8d618c13dc232df0cad... 000058a12d5b43e67d225668fa1f8d618c13dc232df0cad...     67.0   \n",
       "00005ca1c9ed5f5146b52ac8639a40ca9d57aeff4d1bd2c... 00005ca1c9ed5f5146b52ac8639a40ca9d57aeff4d1bd2c...    381.0   \n",
       "00006413d8573cd20ed7128e53b7b13819fe5cfc2d801fe... 00006413d8573cd20ed7128e53b7b13819fe5cfc2d801fe...     21.0   \n",
       "...                                                                                                        ...   \n",
       "ffffbbf78b6eaac697a8a5dfbfd2bfa8113ee5b403e4747... ffffbbf78b6eaac697a8a5dfbfd2bfa8113ee5b403e4747...      4.0   \n",
       "ffffcd5046a6143d29a04fb8c424ce494a76e5cdf4fab53... ffffcd5046a6143d29a04fb8c424ce494a76e5cdf4fab53...     44.0   \n",
       "ffffcf35913a0bee60e8741cb2b4e78b8a98ee5ff2e6a17... ffffcf35913a0bee60e8741cb2b4e78b8a98ee5ff2e6a17...    154.0   \n",
       "ffffd7744cebcf3aca44ae7049d2a94b87074c3d4ffe38b... ffffd7744cebcf3aca44ae7049d2a94b87074c3d4ffe38b...      2.0   \n",
       "ffffd9ac14e89946416d80e791d064701994755c3ab686a... ffffd9ac14e89946416d80e791d064701994755c3ab686a...    203.0   \n",
       "\n",
       "                                                                                                       frequency  \\\n",
       "customer_id                                        customer_id                                                     \n",
       "00000dbacae5abe5e23885899a1fa44253a17956c6d1c3d... 00000dbacae5abe5e23885899a1fa44253a17956c6d1c3d...         20   \n",
       "0000423b00ade91418cceaf3b26c6af3dd342b51fd051ee... 0000423b00ade91418cceaf3b26c6af3dd342b51fd051ee...         85   \n",
       "000058a12d5b43e67d225668fa1f8d618c13dc232df0cad... 000058a12d5b43e67d225668fa1f8d618c13dc232df0cad...         17   \n",
       "00005ca1c9ed5f5146b52ac8639a40ca9d57aeff4d1bd2c... 00005ca1c9ed5f5146b52ac8639a40ca9d57aeff4d1bd2c...          2   \n",
       "00006413d8573cd20ed7128e53b7b13819fe5cfc2d801fe... 00006413d8573cd20ed7128e53b7b13819fe5cfc2d801fe...          9   \n",
       "...                                                                                                          ...   \n",
       "ffffbbf78b6eaac697a8a5dfbfd2bfa8113ee5b403e4747... ffffbbf78b6eaac697a8a5dfbfd2bfa8113ee5b403e4747...         39   \n",
       "ffffcd5046a6143d29a04fb8c424ce494a76e5cdf4fab53... ffffcd5046a6143d29a04fb8c424ce494a76e5cdf4fab53...         76   \n",
       "ffffcf35913a0bee60e8741cb2b4e78b8a98ee5ff2e6a17... ffffcf35913a0bee60e8741cb2b4e78b8a98ee5ff2e6a17...         35   \n",
       "ffffd7744cebcf3aca44ae7049d2a94b87074c3d4ffe38b... ffffd7744cebcf3aca44ae7049d2a94b87074c3d4ffe38b...          7   \n",
       "ffffd9ac14e89946416d80e791d064701994755c3ab686a... ffffd9ac14e89946416d80e791d064701994755c3ab686a...          1   \n",
       "\n",
       "                                                                                                       Monertary  \\\n",
       "customer_id                                        customer_id                                                     \n",
       "00000dbacae5abe5e23885899a1fa44253a17956c6d1c3d... 00000dbacae5abe5e23885899a1fa44253a17956c6d1c3d...   0.598153   \n",
       "0000423b00ade91418cceaf3b26c6af3dd342b51fd051ee... 0000423b00ade91418cceaf3b26c6af3dd342b51fd051ee...   2.574831   \n",
       "000058a12d5b43e67d225668fa1f8d618c13dc232df0cad... 000058a12d5b43e67d225668fa1f8d618c13dc232df0cad...   0.643780   \n",
       "00005ca1c9ed5f5146b52ac8639a40ca9d57aeff4d1bd2c... 00005ca1c9ed5f5146b52ac8639a40ca9d57aeff4d1bd2c...   0.060983   \n",
       "00006413d8573cd20ed7128e53b7b13819fe5cfc2d801fe... 00006413d8573cd20ed7128e53b7b13819fe5cfc2d801fe...   0.340949   \n",
       "...                                                                                                          ...   \n",
       "ffffbbf78b6eaac697a8a5dfbfd2bfa8113ee5b403e4747... ffffbbf78b6eaac697a8a5dfbfd2bfa8113ee5b403e4747...   0.999339   \n",
       "ffffcd5046a6143d29a04fb8c424ce494a76e5cdf4fab53... ffffcd5046a6143d29a04fb8c424ce494a76e5cdf4fab53...   1.702373   \n",
       "ffffcf35913a0bee60e8741cb2b4e78b8a98ee5ff2e6a17... ffffcf35913a0bee60e8741cb2b4e78b8a98ee5ff2e6a17...   0.646729   \n",
       "ffffd7744cebcf3aca44ae7049d2a94b87074c3d4ffe38b... ffffd7744cebcf3aca44ae7049d2a94b87074c3d4ffe38b...   0.209203   \n",
       "ffffd9ac14e89946416d80e791d064701994755c3ab686a... ffffd9ac14e89946416d80e791d064701994755c3ab686a...   0.084729   \n",
       "\n",
       "                                                                                                       price_mean  \\\n",
       "customer_id                                        customer_id                                                      \n",
       "00000dbacae5abe5e23885899a1fa44253a17956c6d1c3d... 00000dbacae5abe5e23885899a1fa44253a17956c6d1c3d...    0.029908   \n",
       "0000423b00ade91418cceaf3b26c6af3dd342b51fd051ee... 0000423b00ade91418cceaf3b26c6af3dd342b51fd051ee...    0.030292   \n",
       "000058a12d5b43e67d225668fa1f8d618c13dc232df0cad... 000058a12d5b43e67d225668fa1f8d618c13dc232df0cad...    0.037869   \n",
       "00005ca1c9ed5f5146b52ac8639a40ca9d57aeff4d1bd2c... 00005ca1c9ed5f5146b52ac8639a40ca9d57aeff4d1bd2c...    0.030492   \n",
       "00006413d8573cd20ed7128e53b7b13819fe5cfc2d801fe... 00006413d8573cd20ed7128e53b7b13819fe5cfc2d801fe...    0.037883   \n",
       "...                                                                                                           ...   \n",
       "ffffbbf78b6eaac697a8a5dfbfd2bfa8113ee5b403e4747... ffffbbf78b6eaac697a8a5dfbfd2bfa8113ee5b403e4747...    0.025624   \n",
       "ffffcd5046a6143d29a04fb8c424ce494a76e5cdf4fab53... ffffcd5046a6143d29a04fb8c424ce494a76e5cdf4fab53...    0.022400   \n",
       "ffffcf35913a0bee60e8741cb2b4e78b8a98ee5ff2e6a17... ffffcf35913a0bee60e8741cb2b4e78b8a98ee5ff2e6a17...    0.018478   \n",
       "ffffd7744cebcf3aca44ae7049d2a94b87074c3d4ffe38b... ffffd7744cebcf3aca44ae7049d2a94b87074c3d4ffe38b...    0.029886   \n",
       "ffffd9ac14e89946416d80e791d064701994755c3ab686a... ffffd9ac14e89946416d80e791d064701994755c3ab686a...    0.084729   \n",
       "\n",
       "                                                                                                       spent_90days  \\\n",
       "customer_id                                        customer_id                                                        \n",
       "00000dbacae5abe5e23885899a1fa44253a17956c6d1c3d... 00000dbacae5abe5e23885899a1fa44253a17956c6d1c3d...      0.050831   \n",
       "0000423b00ade91418cceaf3b26c6af3dd342b51fd051ee... 0000423b00ade91418cceaf3b26c6af3dd342b51fd051ee...      0.027102   \n",
       "000058a12d5b43e67d225668fa1f8d618c13dc232df0cad... 000058a12d5b43e67d225668fa1f8d618c13dc232df0cad...      0.061000   \n",
       "00005ca1c9ed5f5146b52ac8639a40ca9d57aeff4d1bd2c... 00005ca1c9ed5f5146b52ac8639a40ca9d57aeff4d1bd2c...      0.000000   \n",
       "00006413d8573cd20ed7128e53b7b13819fe5cfc2d801fe... 00006413d8573cd20ed7128e53b7b13819fe5cfc2d801fe...      0.128746   \n",
       "...                                                                                                             ...   \n",
       "ffffbbf78b6eaac697a8a5dfbfd2bfa8113ee5b403e4747... ffffbbf78b6eaac697a8a5dfbfd2bfa8113ee5b403e4747...      0.293017   \n",
       "ffffcd5046a6143d29a04fb8c424ce494a76e5cdf4fab53... ffffcd5046a6143d29a04fb8c424ce494a76e5cdf4fab53...      0.104949   \n",
       "ffffcf35913a0bee60e8741cb2b4e78b8a98ee5ff2e6a17... ffffcf35913a0bee60e8741cb2b4e78b8a98ee5ff2e6a17...      0.142203   \n",
       "ffffd7744cebcf3aca44ae7049d2a94b87074c3d4ffe38b... ffffd7744cebcf3aca44ae7049d2a94b87074c3d4ffe38b...      0.000000   \n",
       "ffffd9ac14e89946416d80e791d064701994755c3ab686a... ffffd9ac14e89946416d80e791d064701994755c3ab686a...      0.000000   \n",
       "\n",
       "                                                                                                       Flag_90days  \\\n",
       "customer_id                                        customer_id                                                       \n",
       "00000dbacae5abe5e23885899a1fa44253a17956c6d1c3d... 00000dbacae5abe5e23885899a1fa44253a17956c6d1c3d...          1.0   \n",
       "0000423b00ade91418cceaf3b26c6af3dd342b51fd051ee... 0000423b00ade91418cceaf3b26c6af3dd342b51fd051ee...          1.0   \n",
       "000058a12d5b43e67d225668fa1f8d618c13dc232df0cad... 000058a12d5b43e67d225668fa1f8d618c13dc232df0cad...          1.0   \n",
       "00005ca1c9ed5f5146b52ac8639a40ca9d57aeff4d1bd2c... 00005ca1c9ed5f5146b52ac8639a40ca9d57aeff4d1bd2c...          0.0   \n",
       "00006413d8573cd20ed7128e53b7b13819fe5cfc2d801fe... 00006413d8573cd20ed7128e53b7b13819fe5cfc2d801fe...          1.0   \n",
       "...                                                                                                            ...   \n",
       "ffffbbf78b6eaac697a8a5dfbfd2bfa8113ee5b403e4747... ffffbbf78b6eaac697a8a5dfbfd2bfa8113ee5b403e4747...          1.0   \n",
       "ffffcd5046a6143d29a04fb8c424ce494a76e5cdf4fab53... ffffcd5046a6143d29a04fb8c424ce494a76e5cdf4fab53...          1.0   \n",
       "ffffcf35913a0bee60e8741cb2b4e78b8a98ee5ff2e6a17... ffffcf35913a0bee60e8741cb2b4e78b8a98ee5ff2e6a17...          1.0   \n",
       "ffffd7744cebcf3aca44ae7049d2a94b87074c3d4ffe38b... ffffd7744cebcf3aca44ae7049d2a94b87074c3d4ffe38b...          0.0   \n",
       "ffffd9ac14e89946416d80e791d064701994755c3ab686a... ffffd9ac14e89946416d80e791d064701994755c3ab686a...          0.0   \n",
       "\n",
       "                                                                                                       sales_channel_id  \\\n",
       "customer_id                                        customer_id                                                            \n",
       "00000dbacae5abe5e23885899a1fa44253a17956c6d1c3d... 00000dbacae5abe5e23885899a1fa44253a17956c6d1c3d...                 2   \n",
       "0000423b00ade91418cceaf3b26c6af3dd342b51fd051ee... 0000423b00ade91418cceaf3b26c6af3dd342b51fd051ee...                 2   \n",
       "000058a12d5b43e67d225668fa1f8d618c13dc232df0cad... 000058a12d5b43e67d225668fa1f8d618c13dc232df0cad...                 2   \n",
       "00005ca1c9ed5f5146b52ac8639a40ca9d57aeff4d1bd2c... 00005ca1c9ed5f5146b52ac8639a40ca9d57aeff4d1bd2c...                 2   \n",
       "00006413d8573cd20ed7128e53b7b13819fe5cfc2d801fe... 00006413d8573cd20ed7128e53b7b13819fe5cfc2d801fe...                 2   \n",
       "...                                                                                                                 ...   \n",
       "ffffbbf78b6eaac697a8a5dfbfd2bfa8113ee5b403e4747... ffffbbf78b6eaac697a8a5dfbfd2bfa8113ee5b403e4747...                 2   \n",
       "ffffcd5046a6143d29a04fb8c424ce494a76e5cdf4fab53... ffffcd5046a6143d29a04fb8c424ce494a76e5cdf4fab53...                 1   \n",
       "ffffcf35913a0bee60e8741cb2b4e78b8a98ee5ff2e6a17... ffffcf35913a0bee60e8741cb2b4e78b8a98ee5ff2e6a17...                 1   \n",
       "ffffd7744cebcf3aca44ae7049d2a94b87074c3d4ffe38b... ffffd7744cebcf3aca44ae7049d2a94b87074c3d4ffe38b...                 1   \n",
       "ffffd9ac14e89946416d80e791d064701994755c3ab686a... ffffd9ac14e89946416d80e791d064701994755c3ab686a...                 2   \n",
       "\n",
       "                                                                                                      club_member_status  \\\n",
       "customer_id                                        customer_id                                                             \n",
       "00000dbacae5abe5e23885899a1fa44253a17956c6d1c3d... 00000dbacae5abe5e23885899a1fa44253a17956c6d1c3d...             ACTIVE   \n",
       "0000423b00ade91418cceaf3b26c6af3dd342b51fd051ee... 0000423b00ade91418cceaf3b26c6af3dd342b51fd051ee...             ACTIVE   \n",
       "000058a12d5b43e67d225668fa1f8d618c13dc232df0cad... 000058a12d5b43e67d225668fa1f8d618c13dc232df0cad...             ACTIVE   \n",
       "00005ca1c9ed5f5146b52ac8639a40ca9d57aeff4d1bd2c... 00005ca1c9ed5f5146b52ac8639a40ca9d57aeff4d1bd2c...             ACTIVE   \n",
       "00006413d8573cd20ed7128e53b7b13819fe5cfc2d801fe... 00006413d8573cd20ed7128e53b7b13819fe5cfc2d801fe...             ACTIVE   \n",
       "...                                                                                                                  ...   \n",
       "ffffbbf78b6eaac697a8a5dfbfd2bfa8113ee5b403e4747... ffffbbf78b6eaac697a8a5dfbfd2bfa8113ee5b403e4747...                 No   \n",
       "ffffcd5046a6143d29a04fb8c424ce494a76e5cdf4fab53... ffffcd5046a6143d29a04fb8c424ce494a76e5cdf4fab53...                 No   \n",
       "ffffcf35913a0bee60e8741cb2b4e78b8a98ee5ff2e6a17... ffffcf35913a0bee60e8741cb2b4e78b8a98ee5ff2e6a17...                 No   \n",
       "ffffd7744cebcf3aca44ae7049d2a94b87074c3d4ffe38b... ffffd7744cebcf3aca44ae7049d2a94b87074c3d4ffe38b...                 No   \n",
       "ffffd9ac14e89946416d80e791d064701994755c3ab686a... ffffd9ac14e89946416d80e791d064701994755c3ab686a...                 No   \n",
       "\n",
       "                                                                                                      fashion_news_frequency  \\\n",
       "customer_id                                        customer_id                                                                 \n",
       "00000dbacae5abe5e23885899a1fa44253a17956c6d1c3d... 00000dbacae5abe5e23885899a1fa44253a17956c6d1c3d...                   NONE   \n",
       "0000423b00ade91418cceaf3b26c6af3dd342b51fd051ee... 0000423b00ade91418cceaf3b26c6af3dd342b51fd051ee...                   NONE   \n",
       "000058a12d5b43e67d225668fa1f8d618c13dc232df0cad... 000058a12d5b43e67d225668fa1f8d618c13dc232df0cad...                   NONE   \n",
       "00005ca1c9ed5f5146b52ac8639a40ca9d57aeff4d1bd2c... 00005ca1c9ed5f5146b52ac8639a40ca9d57aeff4d1bd2c...                   NONE   \n",
       "00006413d8573cd20ed7128e53b7b13819fe5cfc2d801fe... 00006413d8573cd20ed7128e53b7b13819fe5cfc2d801fe...              Regularly   \n",
       "...                                                                                                                      ...   \n",
       "ffffbbf78b6eaac697a8a5dfbfd2bfa8113ee5b403e4747... ffffbbf78b6eaac697a8a5dfbfd2bfa8113ee5b403e4747...                   None   \n",
       "ffffcd5046a6143d29a04fb8c424ce494a76e5cdf4fab53... ffffcd5046a6143d29a04fb8c424ce494a76e5cdf4fab53...                   None   \n",
       "ffffcf35913a0bee60e8741cb2b4e78b8a98ee5ff2e6a17... ffffcf35913a0bee60e8741cb2b4e78b8a98ee5ff2e6a17...                   None   \n",
       "ffffd7744cebcf3aca44ae7049d2a94b87074c3d4ffe38b... ffffd7744cebcf3aca44ae7049d2a94b87074c3d4ffe38b...                   None   \n",
       "ffffd9ac14e89946416d80e791d064701994755c3ab686a... ffffd9ac14e89946416d80e791d064701994755c3ab686a...                   None   \n",
       "\n",
       "                                                                                                        age  \n",
       "customer_id                                        customer_id                                               \n",
       "00000dbacae5abe5e23885899a1fa44253a17956c6d1c3d... 00000dbacae5abe5e23885899a1fa44253a17956c6d1c3d...  49.0  \n",
       "0000423b00ade91418cceaf3b26c6af3dd342b51fd051ee... 0000423b00ade91418cceaf3b26c6af3dd342b51fd051ee...  25.0  \n",
       "000058a12d5b43e67d225668fa1f8d618c13dc232df0cad... 000058a12d5b43e67d225668fa1f8d618c13dc232df0cad...  24.0  \n",
       "00005ca1c9ed5f5146b52ac8639a40ca9d57aeff4d1bd2c... 00005ca1c9ed5f5146b52ac8639a40ca9d57aeff4d1bd2c...  54.0  \n",
       "00006413d8573cd20ed7128e53b7b13819fe5cfc2d801fe... 00006413d8573cd20ed7128e53b7b13819fe5cfc2d801fe...  52.0  \n",
       "...                                                                                                     ...  \n",
       "ffffbbf78b6eaac697a8a5dfbfd2bfa8113ee5b403e4747... ffffbbf78b6eaac697a8a5dfbfd2bfa8113ee5b403e4747...  31.0  \n",
       "ffffcd5046a6143d29a04fb8c424ce494a76e5cdf4fab53... ffffcd5046a6143d29a04fb8c424ce494a76e5cdf4fab53...  31.0  \n",
       "ffffcf35913a0bee60e8741cb2b4e78b8a98ee5ff2e6a17... ffffcf35913a0bee60e8741cb2b4e78b8a98ee5ff2e6a17...  31.0  \n",
       "ffffd7744cebcf3aca44ae7049d2a94b87074c3d4ffe38b... ffffd7744cebcf3aca44ae7049d2a94b87074c3d4ffe38b...  31.0  \n",
       "ffffd9ac14e89946416d80e791d064701994755c3ab686a... ffffd9ac14e89946416d80e791d064701994755c3ab686a...  31.0  \n",
       "\n",
       "[1291147 rows x 10 columns]"
      ]
     },
     "execution_count": 91,
     "metadata": {},
     "output_type": "execute_result"
    }
   ],
   "source": [
    "features_final"
   ]
  },
  {
   "cell_type": "code",
   "execution_count": 92,
   "id": "7248425f",
   "metadata": {},
   "outputs": [
    {
     "data": {
      "text/plain": [
       "(1291147, 10)"
      ]
     },
     "execution_count": 92,
     "metadata": {},
     "output_type": "execute_result"
    }
   ],
   "source": [
    "features_final.shape"
   ]
  },
  {
   "cell_type": "code",
   "execution_count": 93,
   "id": "21afc7f9",
   "metadata": {},
   "outputs": [],
   "source": [
    "features_final = pd.merge(features_df,mv,how=\"left\", on=[\"customer_id\",\"customer_id\"])"
   ]
  },
  {
   "cell_type": "code",
   "execution_count": 94,
   "id": "31a1f4bb",
   "metadata": {},
   "outputs": [
    {
     "data": {
      "text/html": [
       "<div>\n",
       "<style scoped>\n",
       "    .dataframe tbody tr th:only-of-type {\n",
       "        vertical-align: middle;\n",
       "    }\n",
       "\n",
       "    .dataframe tbody tr th {\n",
       "        vertical-align: top;\n",
       "    }\n",
       "\n",
       "    .dataframe thead th {\n",
       "        text-align: right;\n",
       "    }\n",
       "</style>\n",
       "<table border=\"1\" class=\"dataframe\">\n",
       "  <thead>\n",
       "    <tr style=\"text-align: right;\">\n",
       "      <th></th>\n",
       "      <th></th>\n",
       "      <th>recency</th>\n",
       "      <th>frequency</th>\n",
       "      <th>Monertary</th>\n",
       "      <th>price_mean</th>\n",
       "      <th>spent_90days</th>\n",
       "      <th>Flag_90days</th>\n",
       "      <th>sales_channel_id</th>\n",
       "      <th>club_member_status</th>\n",
       "      <th>fashion_news_frequency</th>\n",
       "      <th>age</th>\n",
       "    </tr>\n",
       "    <tr>\n",
       "      <th>customer_id</th>\n",
       "      <th>customer_id</th>\n",
       "      <th></th>\n",
       "      <th></th>\n",
       "      <th></th>\n",
       "      <th></th>\n",
       "      <th></th>\n",
       "      <th></th>\n",
       "      <th></th>\n",
       "      <th></th>\n",
       "      <th></th>\n",
       "      <th></th>\n",
       "    </tr>\n",
       "  </thead>\n",
       "  <tbody>\n",
       "    <tr>\n",
       "      <th>00000dbacae5abe5e23885899a1fa44253a17956c6d1c3d25f88aa139fdfc657</th>\n",
       "      <th>00000dbacae5abe5e23885899a1fa44253a17956c6d1c3d25f88aa139fdfc657</th>\n",
       "      <td>95.0</td>\n",
       "      <td>20</td>\n",
       "      <td>0.598153</td>\n",
       "      <td>0.029908</td>\n",
       "      <td>0.050831</td>\n",
       "      <td>1.0</td>\n",
       "      <td>2</td>\n",
       "      <td>ACTIVE</td>\n",
       "      <td>NONE</td>\n",
       "      <td>49.0</td>\n",
       "    </tr>\n",
       "    <tr>\n",
       "      <th>0000423b00ade91418cceaf3b26c6af3dd342b51fd051eec9c12fb36984420fa</th>\n",
       "      <th>0000423b00ade91418cceaf3b26c6af3dd342b51fd051eec9c12fb36984420fa</th>\n",
       "      <td>63.0</td>\n",
       "      <td>85</td>\n",
       "      <td>2.574831</td>\n",
       "      <td>0.030292</td>\n",
       "      <td>0.027102</td>\n",
       "      <td>1.0</td>\n",
       "      <td>2</td>\n",
       "      <td>ACTIVE</td>\n",
       "      <td>NONE</td>\n",
       "      <td>25.0</td>\n",
       "    </tr>\n",
       "    <tr>\n",
       "      <th>000058a12d5b43e67d225668fa1f8d618c13dc232df0cad8ffe7ad4a1091e318</th>\n",
       "      <th>000058a12d5b43e67d225668fa1f8d618c13dc232df0cad8ffe7ad4a1091e318</th>\n",
       "      <td>67.0</td>\n",
       "      <td>17</td>\n",
       "      <td>0.643780</td>\n",
       "      <td>0.037869</td>\n",
       "      <td>0.061000</td>\n",
       "      <td>1.0</td>\n",
       "      <td>2</td>\n",
       "      <td>ACTIVE</td>\n",
       "      <td>NONE</td>\n",
       "      <td>24.0</td>\n",
       "    </tr>\n",
       "    <tr>\n",
       "      <th>00005ca1c9ed5f5146b52ac8639a40ca9d57aeff4d1bd2c5feb1ca5dff07c43e</th>\n",
       "      <th>00005ca1c9ed5f5146b52ac8639a40ca9d57aeff4d1bd2c5feb1ca5dff07c43e</th>\n",
       "      <td>381.0</td>\n",
       "      <td>2</td>\n",
       "      <td>0.060983</td>\n",
       "      <td>0.030492</td>\n",
       "      <td>0.000000</td>\n",
       "      <td>0.0</td>\n",
       "      <td>2</td>\n",
       "      <td>ACTIVE</td>\n",
       "      <td>NONE</td>\n",
       "      <td>54.0</td>\n",
       "    </tr>\n",
       "    <tr>\n",
       "      <th>00006413d8573cd20ed7128e53b7b13819fe5cfc2d801fe7fc0f26dd8d65a85a</th>\n",
       "      <th>00006413d8573cd20ed7128e53b7b13819fe5cfc2d801fe7fc0f26dd8d65a85a</th>\n",
       "      <td>21.0</td>\n",
       "      <td>9</td>\n",
       "      <td>0.340949</td>\n",
       "      <td>0.037883</td>\n",
       "      <td>0.128746</td>\n",
       "      <td>1.0</td>\n",
       "      <td>2</td>\n",
       "      <td>ACTIVE</td>\n",
       "      <td>Regularly</td>\n",
       "      <td>52.0</td>\n",
       "    </tr>\n",
       "    <tr>\n",
       "      <th>...</th>\n",
       "      <th>...</th>\n",
       "      <td>...</td>\n",
       "      <td>...</td>\n",
       "      <td>...</td>\n",
       "      <td>...</td>\n",
       "      <td>...</td>\n",
       "      <td>...</td>\n",
       "      <td>...</td>\n",
       "      <td>...</td>\n",
       "      <td>...</td>\n",
       "      <td>...</td>\n",
       "    </tr>\n",
       "    <tr>\n",
       "      <th>ffffbbf78b6eaac697a8a5dfbfd2bfa8113ee5b403e4747568cac33e8c541831</th>\n",
       "      <th>ffffbbf78b6eaac697a8a5dfbfd2bfa8113ee5b403e4747568cac33e8c541831</th>\n",
       "      <td>4.0</td>\n",
       "      <td>39</td>\n",
       "      <td>0.999339</td>\n",
       "      <td>0.025624</td>\n",
       "      <td>0.293017</td>\n",
       "      <td>1.0</td>\n",
       "      <td>2</td>\n",
       "      <td>No</td>\n",
       "      <td>None</td>\n",
       "      <td>31.0</td>\n",
       "    </tr>\n",
       "    <tr>\n",
       "      <th>ffffcd5046a6143d29a04fb8c424ce494a76e5cdf4fab53481233731b5c4f8b7</th>\n",
       "      <th>ffffcd5046a6143d29a04fb8c424ce494a76e5cdf4fab53481233731b5c4f8b7</th>\n",
       "      <td>44.0</td>\n",
       "      <td>76</td>\n",
       "      <td>1.702373</td>\n",
       "      <td>0.022400</td>\n",
       "      <td>0.104949</td>\n",
       "      <td>1.0</td>\n",
       "      <td>1</td>\n",
       "      <td>No</td>\n",
       "      <td>None</td>\n",
       "      <td>31.0</td>\n",
       "    </tr>\n",
       "    <tr>\n",
       "      <th>ffffcf35913a0bee60e8741cb2b4e78b8a98ee5ff2e6a1778d0116cffd259264</th>\n",
       "      <th>ffffcf35913a0bee60e8741cb2b4e78b8a98ee5ff2e6a1778d0116cffd259264</th>\n",
       "      <td>154.0</td>\n",
       "      <td>35</td>\n",
       "      <td>0.646729</td>\n",
       "      <td>0.018478</td>\n",
       "      <td>0.142203</td>\n",
       "      <td>1.0</td>\n",
       "      <td>1</td>\n",
       "      <td>No</td>\n",
       "      <td>None</td>\n",
       "      <td>31.0</td>\n",
       "    </tr>\n",
       "    <tr>\n",
       "      <th>ffffd7744cebcf3aca44ae7049d2a94b87074c3d4ffe38b2236865d949d4df6a</th>\n",
       "      <th>ffffd7744cebcf3aca44ae7049d2a94b87074c3d4ffe38b2236865d949d4df6a</th>\n",
       "      <td>2.0</td>\n",
       "      <td>7</td>\n",
       "      <td>0.209203</td>\n",
       "      <td>0.029886</td>\n",
       "      <td>0.000000</td>\n",
       "      <td>0.0</td>\n",
       "      <td>1</td>\n",
       "      <td>No</td>\n",
       "      <td>None</td>\n",
       "      <td>31.0</td>\n",
       "    </tr>\n",
       "    <tr>\n",
       "      <th>ffffd9ac14e89946416d80e791d064701994755c3ab686a1eaf3458c36f52241</th>\n",
       "      <th>ffffd9ac14e89946416d80e791d064701994755c3ab686a1eaf3458c36f52241</th>\n",
       "      <td>203.0</td>\n",
       "      <td>1</td>\n",
       "      <td>0.084729</td>\n",
       "      <td>0.084729</td>\n",
       "      <td>0.000000</td>\n",
       "      <td>0.0</td>\n",
       "      <td>2</td>\n",
       "      <td>No</td>\n",
       "      <td>None</td>\n",
       "      <td>31.0</td>\n",
       "    </tr>\n",
       "  </tbody>\n",
       "</table>\n",
       "<p>1291147 rows × 10 columns</p>\n",
       "</div>"
      ],
      "text/plain": [
       "                                                                                                       recency  \\\n",
       "customer_id                                        customer_id                                                   \n",
       "00000dbacae5abe5e23885899a1fa44253a17956c6d1c3d... 00000dbacae5abe5e23885899a1fa44253a17956c6d1c3d...     95.0   \n",
       "0000423b00ade91418cceaf3b26c6af3dd342b51fd051ee... 0000423b00ade91418cceaf3b26c6af3dd342b51fd051ee...     63.0   \n",
       "000058a12d5b43e67d225668fa1f8d618c13dc232df0cad... 000058a12d5b43e67d225668fa1f8d618c13dc232df0cad...     67.0   \n",
       "00005ca1c9ed5f5146b52ac8639a40ca9d57aeff4d1bd2c... 00005ca1c9ed5f5146b52ac8639a40ca9d57aeff4d1bd2c...    381.0   \n",
       "00006413d8573cd20ed7128e53b7b13819fe5cfc2d801fe... 00006413d8573cd20ed7128e53b7b13819fe5cfc2d801fe...     21.0   \n",
       "...                                                                                                        ...   \n",
       "ffffbbf78b6eaac697a8a5dfbfd2bfa8113ee5b403e4747... ffffbbf78b6eaac697a8a5dfbfd2bfa8113ee5b403e4747...      4.0   \n",
       "ffffcd5046a6143d29a04fb8c424ce494a76e5cdf4fab53... ffffcd5046a6143d29a04fb8c424ce494a76e5cdf4fab53...     44.0   \n",
       "ffffcf35913a0bee60e8741cb2b4e78b8a98ee5ff2e6a17... ffffcf35913a0bee60e8741cb2b4e78b8a98ee5ff2e6a17...    154.0   \n",
       "ffffd7744cebcf3aca44ae7049d2a94b87074c3d4ffe38b... ffffd7744cebcf3aca44ae7049d2a94b87074c3d4ffe38b...      2.0   \n",
       "ffffd9ac14e89946416d80e791d064701994755c3ab686a... ffffd9ac14e89946416d80e791d064701994755c3ab686a...    203.0   \n",
       "\n",
       "                                                                                                       frequency  \\\n",
       "customer_id                                        customer_id                                                     \n",
       "00000dbacae5abe5e23885899a1fa44253a17956c6d1c3d... 00000dbacae5abe5e23885899a1fa44253a17956c6d1c3d...         20   \n",
       "0000423b00ade91418cceaf3b26c6af3dd342b51fd051ee... 0000423b00ade91418cceaf3b26c6af3dd342b51fd051ee...         85   \n",
       "000058a12d5b43e67d225668fa1f8d618c13dc232df0cad... 000058a12d5b43e67d225668fa1f8d618c13dc232df0cad...         17   \n",
       "00005ca1c9ed5f5146b52ac8639a40ca9d57aeff4d1bd2c... 00005ca1c9ed5f5146b52ac8639a40ca9d57aeff4d1bd2c...          2   \n",
       "00006413d8573cd20ed7128e53b7b13819fe5cfc2d801fe... 00006413d8573cd20ed7128e53b7b13819fe5cfc2d801fe...          9   \n",
       "...                                                                                                          ...   \n",
       "ffffbbf78b6eaac697a8a5dfbfd2bfa8113ee5b403e4747... ffffbbf78b6eaac697a8a5dfbfd2bfa8113ee5b403e4747...         39   \n",
       "ffffcd5046a6143d29a04fb8c424ce494a76e5cdf4fab53... ffffcd5046a6143d29a04fb8c424ce494a76e5cdf4fab53...         76   \n",
       "ffffcf35913a0bee60e8741cb2b4e78b8a98ee5ff2e6a17... ffffcf35913a0bee60e8741cb2b4e78b8a98ee5ff2e6a17...         35   \n",
       "ffffd7744cebcf3aca44ae7049d2a94b87074c3d4ffe38b... ffffd7744cebcf3aca44ae7049d2a94b87074c3d4ffe38b...          7   \n",
       "ffffd9ac14e89946416d80e791d064701994755c3ab686a... ffffd9ac14e89946416d80e791d064701994755c3ab686a...          1   \n",
       "\n",
       "                                                                                                       Monertary  \\\n",
       "customer_id                                        customer_id                                                     \n",
       "00000dbacae5abe5e23885899a1fa44253a17956c6d1c3d... 00000dbacae5abe5e23885899a1fa44253a17956c6d1c3d...   0.598153   \n",
       "0000423b00ade91418cceaf3b26c6af3dd342b51fd051ee... 0000423b00ade91418cceaf3b26c6af3dd342b51fd051ee...   2.574831   \n",
       "000058a12d5b43e67d225668fa1f8d618c13dc232df0cad... 000058a12d5b43e67d225668fa1f8d618c13dc232df0cad...   0.643780   \n",
       "00005ca1c9ed5f5146b52ac8639a40ca9d57aeff4d1bd2c... 00005ca1c9ed5f5146b52ac8639a40ca9d57aeff4d1bd2c...   0.060983   \n",
       "00006413d8573cd20ed7128e53b7b13819fe5cfc2d801fe... 00006413d8573cd20ed7128e53b7b13819fe5cfc2d801fe...   0.340949   \n",
       "...                                                                                                          ...   \n",
       "ffffbbf78b6eaac697a8a5dfbfd2bfa8113ee5b403e4747... ffffbbf78b6eaac697a8a5dfbfd2bfa8113ee5b403e4747...   0.999339   \n",
       "ffffcd5046a6143d29a04fb8c424ce494a76e5cdf4fab53... ffffcd5046a6143d29a04fb8c424ce494a76e5cdf4fab53...   1.702373   \n",
       "ffffcf35913a0bee60e8741cb2b4e78b8a98ee5ff2e6a17... ffffcf35913a0bee60e8741cb2b4e78b8a98ee5ff2e6a17...   0.646729   \n",
       "ffffd7744cebcf3aca44ae7049d2a94b87074c3d4ffe38b... ffffd7744cebcf3aca44ae7049d2a94b87074c3d4ffe38b...   0.209203   \n",
       "ffffd9ac14e89946416d80e791d064701994755c3ab686a... ffffd9ac14e89946416d80e791d064701994755c3ab686a...   0.084729   \n",
       "\n",
       "                                                                                                       price_mean  \\\n",
       "customer_id                                        customer_id                                                      \n",
       "00000dbacae5abe5e23885899a1fa44253a17956c6d1c3d... 00000dbacae5abe5e23885899a1fa44253a17956c6d1c3d...    0.029908   \n",
       "0000423b00ade91418cceaf3b26c6af3dd342b51fd051ee... 0000423b00ade91418cceaf3b26c6af3dd342b51fd051ee...    0.030292   \n",
       "000058a12d5b43e67d225668fa1f8d618c13dc232df0cad... 000058a12d5b43e67d225668fa1f8d618c13dc232df0cad...    0.037869   \n",
       "00005ca1c9ed5f5146b52ac8639a40ca9d57aeff4d1bd2c... 00005ca1c9ed5f5146b52ac8639a40ca9d57aeff4d1bd2c...    0.030492   \n",
       "00006413d8573cd20ed7128e53b7b13819fe5cfc2d801fe... 00006413d8573cd20ed7128e53b7b13819fe5cfc2d801fe...    0.037883   \n",
       "...                                                                                                           ...   \n",
       "ffffbbf78b6eaac697a8a5dfbfd2bfa8113ee5b403e4747... ffffbbf78b6eaac697a8a5dfbfd2bfa8113ee5b403e4747...    0.025624   \n",
       "ffffcd5046a6143d29a04fb8c424ce494a76e5cdf4fab53... ffffcd5046a6143d29a04fb8c424ce494a76e5cdf4fab53...    0.022400   \n",
       "ffffcf35913a0bee60e8741cb2b4e78b8a98ee5ff2e6a17... ffffcf35913a0bee60e8741cb2b4e78b8a98ee5ff2e6a17...    0.018478   \n",
       "ffffd7744cebcf3aca44ae7049d2a94b87074c3d4ffe38b... ffffd7744cebcf3aca44ae7049d2a94b87074c3d4ffe38b...    0.029886   \n",
       "ffffd9ac14e89946416d80e791d064701994755c3ab686a... ffffd9ac14e89946416d80e791d064701994755c3ab686a...    0.084729   \n",
       "\n",
       "                                                                                                       spent_90days  \\\n",
       "customer_id                                        customer_id                                                        \n",
       "00000dbacae5abe5e23885899a1fa44253a17956c6d1c3d... 00000dbacae5abe5e23885899a1fa44253a17956c6d1c3d...      0.050831   \n",
       "0000423b00ade91418cceaf3b26c6af3dd342b51fd051ee... 0000423b00ade91418cceaf3b26c6af3dd342b51fd051ee...      0.027102   \n",
       "000058a12d5b43e67d225668fa1f8d618c13dc232df0cad... 000058a12d5b43e67d225668fa1f8d618c13dc232df0cad...      0.061000   \n",
       "00005ca1c9ed5f5146b52ac8639a40ca9d57aeff4d1bd2c... 00005ca1c9ed5f5146b52ac8639a40ca9d57aeff4d1bd2c...      0.000000   \n",
       "00006413d8573cd20ed7128e53b7b13819fe5cfc2d801fe... 00006413d8573cd20ed7128e53b7b13819fe5cfc2d801fe...      0.128746   \n",
       "...                                                                                                             ...   \n",
       "ffffbbf78b6eaac697a8a5dfbfd2bfa8113ee5b403e4747... ffffbbf78b6eaac697a8a5dfbfd2bfa8113ee5b403e4747...      0.293017   \n",
       "ffffcd5046a6143d29a04fb8c424ce494a76e5cdf4fab53... ffffcd5046a6143d29a04fb8c424ce494a76e5cdf4fab53...      0.104949   \n",
       "ffffcf35913a0bee60e8741cb2b4e78b8a98ee5ff2e6a17... ffffcf35913a0bee60e8741cb2b4e78b8a98ee5ff2e6a17...      0.142203   \n",
       "ffffd7744cebcf3aca44ae7049d2a94b87074c3d4ffe38b... ffffd7744cebcf3aca44ae7049d2a94b87074c3d4ffe38b...      0.000000   \n",
       "ffffd9ac14e89946416d80e791d064701994755c3ab686a... ffffd9ac14e89946416d80e791d064701994755c3ab686a...      0.000000   \n",
       "\n",
       "                                                                                                       Flag_90days  \\\n",
       "customer_id                                        customer_id                                                       \n",
       "00000dbacae5abe5e23885899a1fa44253a17956c6d1c3d... 00000dbacae5abe5e23885899a1fa44253a17956c6d1c3d...          1.0   \n",
       "0000423b00ade91418cceaf3b26c6af3dd342b51fd051ee... 0000423b00ade91418cceaf3b26c6af3dd342b51fd051ee...          1.0   \n",
       "000058a12d5b43e67d225668fa1f8d618c13dc232df0cad... 000058a12d5b43e67d225668fa1f8d618c13dc232df0cad...          1.0   \n",
       "00005ca1c9ed5f5146b52ac8639a40ca9d57aeff4d1bd2c... 00005ca1c9ed5f5146b52ac8639a40ca9d57aeff4d1bd2c...          0.0   \n",
       "00006413d8573cd20ed7128e53b7b13819fe5cfc2d801fe... 00006413d8573cd20ed7128e53b7b13819fe5cfc2d801fe...          1.0   \n",
       "...                                                                                                            ...   \n",
       "ffffbbf78b6eaac697a8a5dfbfd2bfa8113ee5b403e4747... ffffbbf78b6eaac697a8a5dfbfd2bfa8113ee5b403e4747...          1.0   \n",
       "ffffcd5046a6143d29a04fb8c424ce494a76e5cdf4fab53... ffffcd5046a6143d29a04fb8c424ce494a76e5cdf4fab53...          1.0   \n",
       "ffffcf35913a0bee60e8741cb2b4e78b8a98ee5ff2e6a17... ffffcf35913a0bee60e8741cb2b4e78b8a98ee5ff2e6a17...          1.0   \n",
       "ffffd7744cebcf3aca44ae7049d2a94b87074c3d4ffe38b... ffffd7744cebcf3aca44ae7049d2a94b87074c3d4ffe38b...          0.0   \n",
       "ffffd9ac14e89946416d80e791d064701994755c3ab686a... ffffd9ac14e89946416d80e791d064701994755c3ab686a...          0.0   \n",
       "\n",
       "                                                                                                       sales_channel_id  \\\n",
       "customer_id                                        customer_id                                                            \n",
       "00000dbacae5abe5e23885899a1fa44253a17956c6d1c3d... 00000dbacae5abe5e23885899a1fa44253a17956c6d1c3d...                 2   \n",
       "0000423b00ade91418cceaf3b26c6af3dd342b51fd051ee... 0000423b00ade91418cceaf3b26c6af3dd342b51fd051ee...                 2   \n",
       "000058a12d5b43e67d225668fa1f8d618c13dc232df0cad... 000058a12d5b43e67d225668fa1f8d618c13dc232df0cad...                 2   \n",
       "00005ca1c9ed5f5146b52ac8639a40ca9d57aeff4d1bd2c... 00005ca1c9ed5f5146b52ac8639a40ca9d57aeff4d1bd2c...                 2   \n",
       "00006413d8573cd20ed7128e53b7b13819fe5cfc2d801fe... 00006413d8573cd20ed7128e53b7b13819fe5cfc2d801fe...                 2   \n",
       "...                                                                                                                 ...   \n",
       "ffffbbf78b6eaac697a8a5dfbfd2bfa8113ee5b403e4747... ffffbbf78b6eaac697a8a5dfbfd2bfa8113ee5b403e4747...                 2   \n",
       "ffffcd5046a6143d29a04fb8c424ce494a76e5cdf4fab53... ffffcd5046a6143d29a04fb8c424ce494a76e5cdf4fab53...                 1   \n",
       "ffffcf35913a0bee60e8741cb2b4e78b8a98ee5ff2e6a17... ffffcf35913a0bee60e8741cb2b4e78b8a98ee5ff2e6a17...                 1   \n",
       "ffffd7744cebcf3aca44ae7049d2a94b87074c3d4ffe38b... ffffd7744cebcf3aca44ae7049d2a94b87074c3d4ffe38b...                 1   \n",
       "ffffd9ac14e89946416d80e791d064701994755c3ab686a... ffffd9ac14e89946416d80e791d064701994755c3ab686a...                 2   \n",
       "\n",
       "                                                                                                      club_member_status  \\\n",
       "customer_id                                        customer_id                                                             \n",
       "00000dbacae5abe5e23885899a1fa44253a17956c6d1c3d... 00000dbacae5abe5e23885899a1fa44253a17956c6d1c3d...             ACTIVE   \n",
       "0000423b00ade91418cceaf3b26c6af3dd342b51fd051ee... 0000423b00ade91418cceaf3b26c6af3dd342b51fd051ee...             ACTIVE   \n",
       "000058a12d5b43e67d225668fa1f8d618c13dc232df0cad... 000058a12d5b43e67d225668fa1f8d618c13dc232df0cad...             ACTIVE   \n",
       "00005ca1c9ed5f5146b52ac8639a40ca9d57aeff4d1bd2c... 00005ca1c9ed5f5146b52ac8639a40ca9d57aeff4d1bd2c...             ACTIVE   \n",
       "00006413d8573cd20ed7128e53b7b13819fe5cfc2d801fe... 00006413d8573cd20ed7128e53b7b13819fe5cfc2d801fe...             ACTIVE   \n",
       "...                                                                                                                  ...   \n",
       "ffffbbf78b6eaac697a8a5dfbfd2bfa8113ee5b403e4747... ffffbbf78b6eaac697a8a5dfbfd2bfa8113ee5b403e4747...                 No   \n",
       "ffffcd5046a6143d29a04fb8c424ce494a76e5cdf4fab53... ffffcd5046a6143d29a04fb8c424ce494a76e5cdf4fab53...                 No   \n",
       "ffffcf35913a0bee60e8741cb2b4e78b8a98ee5ff2e6a17... ffffcf35913a0bee60e8741cb2b4e78b8a98ee5ff2e6a17...                 No   \n",
       "ffffd7744cebcf3aca44ae7049d2a94b87074c3d4ffe38b... ffffd7744cebcf3aca44ae7049d2a94b87074c3d4ffe38b...                 No   \n",
       "ffffd9ac14e89946416d80e791d064701994755c3ab686a... ffffd9ac14e89946416d80e791d064701994755c3ab686a...                 No   \n",
       "\n",
       "                                                                                                      fashion_news_frequency  \\\n",
       "customer_id                                        customer_id                                                                 \n",
       "00000dbacae5abe5e23885899a1fa44253a17956c6d1c3d... 00000dbacae5abe5e23885899a1fa44253a17956c6d1c3d...                   NONE   \n",
       "0000423b00ade91418cceaf3b26c6af3dd342b51fd051ee... 0000423b00ade91418cceaf3b26c6af3dd342b51fd051ee...                   NONE   \n",
       "000058a12d5b43e67d225668fa1f8d618c13dc232df0cad... 000058a12d5b43e67d225668fa1f8d618c13dc232df0cad...                   NONE   \n",
       "00005ca1c9ed5f5146b52ac8639a40ca9d57aeff4d1bd2c... 00005ca1c9ed5f5146b52ac8639a40ca9d57aeff4d1bd2c...                   NONE   \n",
       "00006413d8573cd20ed7128e53b7b13819fe5cfc2d801fe... 00006413d8573cd20ed7128e53b7b13819fe5cfc2d801fe...              Regularly   \n",
       "...                                                                                                                      ...   \n",
       "ffffbbf78b6eaac697a8a5dfbfd2bfa8113ee5b403e4747... ffffbbf78b6eaac697a8a5dfbfd2bfa8113ee5b403e4747...                   None   \n",
       "ffffcd5046a6143d29a04fb8c424ce494a76e5cdf4fab53... ffffcd5046a6143d29a04fb8c424ce494a76e5cdf4fab53...                   None   \n",
       "ffffcf35913a0bee60e8741cb2b4e78b8a98ee5ff2e6a17... ffffcf35913a0bee60e8741cb2b4e78b8a98ee5ff2e6a17...                   None   \n",
       "ffffd7744cebcf3aca44ae7049d2a94b87074c3d4ffe38b... ffffd7744cebcf3aca44ae7049d2a94b87074c3d4ffe38b...                   None   \n",
       "ffffd9ac14e89946416d80e791d064701994755c3ab686a... ffffd9ac14e89946416d80e791d064701994755c3ab686a...                   None   \n",
       "\n",
       "                                                                                                        age  \n",
       "customer_id                                        customer_id                                               \n",
       "00000dbacae5abe5e23885899a1fa44253a17956c6d1c3d... 00000dbacae5abe5e23885899a1fa44253a17956c6d1c3d...  49.0  \n",
       "0000423b00ade91418cceaf3b26c6af3dd342b51fd051ee... 0000423b00ade91418cceaf3b26c6af3dd342b51fd051ee...  25.0  \n",
       "000058a12d5b43e67d225668fa1f8d618c13dc232df0cad... 000058a12d5b43e67d225668fa1f8d618c13dc232df0cad...  24.0  \n",
       "00005ca1c9ed5f5146b52ac8639a40ca9d57aeff4d1bd2c... 00005ca1c9ed5f5146b52ac8639a40ca9d57aeff4d1bd2c...  54.0  \n",
       "00006413d8573cd20ed7128e53b7b13819fe5cfc2d801fe... 00006413d8573cd20ed7128e53b7b13819fe5cfc2d801fe...  52.0  \n",
       "...                                                                                                     ...  \n",
       "ffffbbf78b6eaac697a8a5dfbfd2bfa8113ee5b403e4747... ffffbbf78b6eaac697a8a5dfbfd2bfa8113ee5b403e4747...  31.0  \n",
       "ffffcd5046a6143d29a04fb8c424ce494a76e5cdf4fab53... ffffcd5046a6143d29a04fb8c424ce494a76e5cdf4fab53...  31.0  \n",
       "ffffcf35913a0bee60e8741cb2b4e78b8a98ee5ff2e6a17... ffffcf35913a0bee60e8741cb2b4e78b8a98ee5ff2e6a17...  31.0  \n",
       "ffffd7744cebcf3aca44ae7049d2a94b87074c3d4ffe38b... ffffd7744cebcf3aca44ae7049d2a94b87074c3d4ffe38b...  31.0  \n",
       "ffffd9ac14e89946416d80e791d064701994755c3ab686a... ffffd9ac14e89946416d80e791d064701994755c3ab686a...  31.0  \n",
       "\n",
       "[1291147 rows x 10 columns]"
      ]
     },
     "execution_count": 94,
     "metadata": {},
     "output_type": "execute_result"
    }
   ],
   "source": [
    "features_final"
   ]
  },
  {
   "cell_type": "code",
   "execution_count": 95,
   "id": "96a41f8a",
   "metadata": {},
   "outputs": [
    {
     "data": {
      "text/plain": [
       "(1291147, 10)"
      ]
     },
     "execution_count": 95,
     "metadata": {},
     "output_type": "execute_result"
    }
   ],
   "source": [
    "features_final.shape"
   ]
  },
  {
   "cell_type": "markdown",
   "id": "1ddde90d",
   "metadata": {},
   "source": [
    "# EDA"
   ]
  },
  {
   "cell_type": "markdown",
   "id": "ecd287ac",
   "metadata": {},
   "source": [
    "# Basic Histograms"
   ]
  },
  {
   "cell_type": "code",
   "execution_count": null,
   "id": "cf23d671",
   "metadata": {},
   "outputs": [],
   "source": [
    "plt.hist(features_final['age'],bins=10,edgecolor='black')\n",
    "plt.xlabel('AGE')\n",
    "plt.title('Age')\n",
    "plt.show()"
   ]
  },
  {
   "cell_type": "code",
   "execution_count": null,
   "id": "03ea5510",
   "metadata": {},
   "outputs": [],
   "source": [
    "plt.hist(features_final['recency'],bins=10,edgecolor='black')\n",
    "plt.xlabel('recency')\n",
    "plt.title('Recency')\n",
    "plt.show()"
   ]
  },
  {
   "cell_type": "code",
   "execution_count": null,
   "id": "1ea42970",
   "metadata": {},
   "outputs": [],
   "source": [
    "plt.hist(features_final['frequency'],bins=10,edgecolor='black')\n",
    "plt.xlabel('frequency')\n",
    "plt.title('Frequency')\n",
    "plt.show()"
   ]
  },
  {
   "cell_type": "code",
   "execution_count": null,
   "id": "3444e5e3",
   "metadata": {},
   "outputs": [],
   "source": [
    "plt.hist(features_final['Monertary'],bins=10,edgecolor='black')\n",
    "plt.xlabel('Monertary')\n",
    "plt.title('Monertary')\n",
    "plt.show()"
   ]
  },
  {
   "cell_type": "code",
   "execution_count": null,
   "id": "2b29fe30",
   "metadata": {},
   "outputs": [],
   "source": [
    "plt.hist(features_final['price'],bins=10,edgecolor='black')\n",
    "plt.xlabel('Price')\n",
    "plt.title('Price')\n",
    "plt.show()"
   ]
  },
  {
   "cell_type": "code",
   "execution_count": null,
   "id": "fee62730",
   "metadata": {},
   "outputs": [],
   "source": []
  },
  {
   "cell_type": "markdown",
   "id": "56d76474",
   "metadata": {},
   "source": [
    "# EDA\n"
   ]
  },
  {
   "cell_type": "code",
   "execution_count": 96,
   "id": "59550044",
   "metadata": {},
   "outputs": [
    {
     "data": {
      "text/plain": [
       "<AxesSubplot:xlabel='Flag_90days', ylabel='count'>"
      ]
     },
     "execution_count": 96,
     "metadata": {},
     "output_type": "execute_result"
    },
    {
     "data": {
      "image/png": "[encoded data removed]",
      "text/plain": [
       "<Figure size 432x288 with 1 Axes>"
      ]
     },
     "metadata": {
      "needs_background": "light"
     },
     "output_type": "display_data"
    }
   ],
   "source": [
    "#Here 1 means he bought, 0 means he did not buy anything\n",
    "sns.countplot(x='Flag_90days',data=features_final)\n"
   ]
  },
  {
   "cell_type": "code",
   "execution_count": 97,
   "id": "989de104",
   "metadata": {},
   "outputs": [
    {
     "data": {
      "text/plain": [
       "<AxesSubplot:xlabel='Flag_90days', ylabel='count'>"
      ]
     },
     "execution_count": 97,
     "metadata": {},
     "output_type": "execute_result"
    },
    {
     "data": {
      "image/png": "[encoded data removed]",
      "text/plain": [
       "<Figure size 432x288 with 1 Axes>"
      ]
     },
     "metadata": {
      "needs_background": "light"
     },
     "output_type": "display_data"
    }
   ],
   "source": [
    "sns.countplot(x=\"Flag_90days\", data=features_final,hue='sales_channel_id')"
   ]
  },
  {
   "cell_type": "code",
   "execution_count": 98,
   "id": "a950a7db",
   "metadata": {},
   "outputs": [
    {
     "data": {
      "text/plain": [
       "<AxesSubplot:xlabel='Flag_90days', ylabel='count'>"
      ]
     },
     "execution_count": 98,
     "metadata": {},
     "output_type": "execute_result"
    },
    {
     "data": {
      "image/png": "[encoded data removed]",
      "text/plain": [
       "<Figure size 432x288 with 1 Axes>"
      ]
     },
     "metadata": {
      "needs_background": "light"
     },
     "output_type": "display_data"
    }
   ],
   "source": [
    "sns.countplot(x=\"Flag_90days\", data=features_final,hue='club_member_status')"
   ]
  },
  {
   "cell_type": "code",
   "execution_count": 99,
   "id": "78b7a7d7",
   "metadata": {},
   "outputs": [
    {
     "data": {
      "text/plain": [
       "<AxesSubplot:xlabel='Flag_90days', ylabel='count'>"
      ]
     },
     "execution_count": 99,
     "metadata": {},
     "output_type": "execute_result"
    },
    {
     "data": {
      "image/png": "[encoded data removed]",
      "text/plain": [
       "<Figure size 432x288 with 1 Axes>"
      ]
     },
     "metadata": {
      "needs_background": "light"
     },
     "output_type": "display_data"
    }
   ],
   "source": [
    "sns.countplot(x=\"Flag_90days\", data=features_final,hue='fashion_news_frequency')"
   ]
  },
  {
   "cell_type": "markdown",
   "id": "4a7ffc87",
   "metadata": {},
   "source": [
    "# Outliers"
   ]
  },
  {
   "cell_type": "code",
   "execution_count": 100,
   "id": "829a7650",
   "metadata": {},
   "outputs": [
    {
     "data": {
      "text/plain": [
       "Text(0, 0.5, 'Number if customers')"
      ]
     },
     "execution_count": 100,
     "metadata": {},
     "output_type": "execute_result"
    },
    {
     "data": {
      "image/png": "[encoded data removed]",
      "text/plain": [
       "<Figure size 432x288 with 1 Axes>"
      ]
     },
     "metadata": {
      "needs_background": "light"
     },
     "output_type": "display_data"
    }
   ],
   "source": [
    "#Normally distributed\n",
    "figure = features_final.age.hist(bins=50)\n",
    "figure.set_title('AGE')\n",
    "figure.set_xlabel('Age')\n",
    "figure.set_ylabel('Number if customers')"
   ]
  },
  {
   "cell_type": "code",
   "execution_count": 101,
   "id": "3ff326af",
   "metadata": {},
   "outputs": [
    {
     "data": {
      "image/png": "[encoded data removed]",
      "text/plain": [
       "<Figure size 432x288 with 1 Axes>"
      ]
     },
     "metadata": {
      "needs_background": "light"
     },
     "output_type": "display_data"
    }
   ],
   "source": [
    "figure = features_final.boxplot(column='age')"
   ]
  },
  {
   "cell_type": "code",
   "execution_count": 102,
   "id": "2bea6fa7",
   "metadata": {},
   "outputs": [
    {
     "data": {
      "text/plain": [
       "Text(0, 0.5, 'Number if customers')"
      ]
     },
     "execution_count": 102,
     "metadata": {},
     "output_type": "execute_result"
    },
    {
     "data": {
      "image/png": "[encoded data removed]",
      "text/plain": [
       "<Figure size 432x288 with 1 Axes>"
      ]
     },
     "metadata": {
      "needs_background": "light"
     },
     "output_type": "display_data"
    }
   ],
   "source": [
    "#Normally distributed\n",
    "figure = features_final.recency.hist(bins=50)\n",
    "figure.set_title('Recency')\n",
    "figure.set_xlabel('Recency')\n",
    "figure.set_ylabel('Number if customers')"
   ]
  },
  {
   "cell_type": "code",
   "execution_count": 103,
   "id": "8cc621b3",
   "metadata": {},
   "outputs": [
    {
     "data": {
      "text/plain": [
       "Text(0, 0.5, 'Number if customers')"
      ]
     },
     "execution_count": 103,
     "metadata": {},
     "output_type": "execute_result"
    },
    {
     "data": {
      "image/png": "[encoded data removed]",
      "text/plain": [
       "<Figure size 432x288 with 1 Axes>"
      ]
     },
     "metadata": {
      "needs_background": "light"
     },
     "output_type": "display_data"
    }
   ],
   "source": [
    "#right skewed distributed\n",
    "figure = features_final.frequency.hist(bins=50)\n",
    "figure.set_title('Frequency')\n",
    "figure.set_xlabel('Frequency')\n",
    "figure.set_ylabel('Number if customers')"
   ]
  },
  {
   "cell_type": "code",
   "execution_count": 104,
   "id": "05f51f14",
   "metadata": {},
   "outputs": [
    {
     "data": {
      "text/plain": [
       "Text(0, 0.5, 'Number if customers')"
      ]
     },
     "execution_count": 104,
     "metadata": {},
     "output_type": "execute_result"
    },
    {
     "data": {
      "image/png": "[encoded data removed]",
      "text/plain": [
       "<Figure size 432x288 with 1 Axes>"
      ]
     },
     "metadata": {
      "needs_background": "light"
     },
     "output_type": "display_data"
    }
   ],
   "source": [
    "# right skewed distributed\n",
    "figure = features_final.Monertary.hist(bins=25)\n",
    "figure.set_title('Monertary')\n",
    "figure.set_xlabel('Monertary')\n",
    "figure.set_ylabel('Number if customers')"
   ]
  },
  {
   "cell_type": "code",
   "execution_count": 105,
   "id": "10a68849",
   "metadata": {},
   "outputs": [
    {
     "name": "stdout",
     "output_type": "stream",
     "text": [
      "-2.6846857338902907\n",
      "73.03374591061687\n",
      "35.17453008836329\n"
     ]
    }
   ],
   "source": [
    "upper_boundary = features_final['age'].mean() + 3*features_final['age'].std()\n",
    "lower_boundary = features_final['age'].mean() - 3*features_final['age'].std()\n",
    "print(lower_boundary)\n",
    "print(upper_boundary)\n",
    "print(features_final['age'].mean())"
   ]
  },
  {
   "cell_type": "code",
   "execution_count": 106,
   "id": "01ec5c23",
   "metadata": {},
   "outputs": [
    {
     "data": {
      "text/plain": [
       "18.0"
      ]
     },
     "execution_count": 106,
     "metadata": {},
     "output_type": "execute_result"
    }
   ],
   "source": [
    "#IQR\n",
    "IQR = features_final.age.quantile(0.75)-features_final.age.quantile(0.25)\n",
    "IQR"
   ]
  },
  {
   "cell_type": "code",
   "execution_count": 107,
   "id": "b64e421a",
   "metadata": {},
   "outputs": [
    {
     "name": "stdout",
     "output_type": "stream",
     "text": [
      "-1.0\n",
      "71.0\n"
     ]
    }
   ],
   "source": [
    "lower_bridge = features_final['age'].quantile(0.25)-(IQR*1.5)\n",
    "upper_bridge = features_final['age'].quantile(0.75)+(IQR*1.5)\n",
    "print(lower_bridge)\n",
    "print(upper_bridge)"
   ]
  },
  {
   "cell_type": "code",
   "execution_count": 108,
   "id": "a15986c6",
   "metadata": {},
   "outputs": [],
   "source": [
    "features_final.loc[features_final['age']>=71,'age']=71"
   ]
  },
  {
   "cell_type": "code",
   "execution_count": 109,
   "id": "b5beab9b",
   "metadata": {},
   "outputs": [
    {
     "data": {
      "text/plain": [
       "Text(0, 0.5, 'Number if customers')"
      ]
     },
     "execution_count": 109,
     "metadata": {},
     "output_type": "execute_result"
    },
    {
     "data": {
      "image/png": "[encoded data removed]",
      "text/plain": [
       "<Figure size 432x288 with 1 Axes>"
      ]
     },
     "metadata": {
      "needs_background": "light"
     },
     "output_type": "display_data"
    }
   ],
   "source": [
    "#Normally distributed\n",
    "figure = features_final.age.hist(bins=50)\n",
    "figure.set_title('AGE')\n",
    "figure.set_xlabel('Age')\n",
    "figure.set_ylabel('Number if customers')"
   ]
  },
  {
   "cell_type": "code",
   "execution_count": 110,
   "id": "fb7f1d10",
   "metadata": {},
   "outputs": [],
   "source": [
    "#Skewed distribution"
   ]
  },
  {
   "cell_type": "code",
   "execution_count": 111,
   "id": "bc5d9b31",
   "metadata": {},
   "outputs": [
    {
     "data": {
      "text/plain": [
       "Text(0, 0.5, 'Number if customers')"
      ]
     },
     "execution_count": 111,
     "metadata": {},
     "output_type": "execute_result"
    },
    {
     "data": {
      "image/png": "[encoded data removed]",
      "text/plain": [
       "<Figure size 432x288 with 1 Axes>"
      ]
     },
     "metadata": {
      "needs_background": "light"
     },
     "output_type": "display_data"
    }
   ],
   "source": [
    "#right skewed distributed\n",
    "figure = features_final.frequency.hist(bins=50)\n",
    "figure.set_title('Frequency')\n",
    "figure.set_xlabel('Frequency')\n",
    "figure.set_ylabel('Number if customers')"
   ]
  },
  {
   "cell_type": "code",
   "execution_count": 112,
   "id": "1e85eec5",
   "metadata": {},
   "outputs": [
    {
     "data": {
      "image/png": "[encoded data removed]",
      "text/plain": [
       "<Figure size 432x288 with 1 Axes>"
      ]
     },
     "metadata": {
      "needs_background": "light"
     },
     "output_type": "display_data"
    }
   ],
   "source": [
    "figure = features_final.boxplot(column='frequency')"
   ]
  },
  {
   "cell_type": "code",
   "execution_count": 113,
   "id": "77cf00ad",
   "metadata": {},
   "outputs": [
    {
     "data": {
      "text/plain": [
       "count    1.291147e+06\n",
       "mean     2.167276e+01\n",
       "std      3.576758e+01\n",
       "min      1.000000e+00\n",
       "25%      3.000000e+00\n",
       "50%      9.000000e+00\n",
       "75%      2.500000e+01\n",
       "max      1.605000e+03\n",
       "Name: frequency, dtype: float64"
      ]
     },
     "execution_count": 113,
     "metadata": {},
     "output_type": "execute_result"
    }
   ],
   "source": [
    "features_final['frequency'].describe()"
   ]
  },
  {
   "cell_type": "code",
   "execution_count": 114,
   "id": "aa071e7d",
   "metadata": {},
   "outputs": [
    {
     "name": "stdout",
     "output_type": "stream",
     "text": [
      "-51.0\n",
      "79.0\n"
     ]
    }
   ],
   "source": [
    "lower_bridge = features_final['frequency'].quantile(0.25)-(IQR*3)\n",
    "upper_bridge = features_final['frequency'].quantile(0.75)+(IQR*3)\n",
    "print(lower_bridge)\n",
    "print(upper_bridge)"
   ]
  },
  {
   "cell_type": "code",
   "execution_count": 115,
   "id": "69c46961",
   "metadata": {},
   "outputs": [],
   "source": [
    "features_final.loc[features_final['frequency']>=79,'frequency']=79"
   ]
  },
  {
   "cell_type": "code",
   "execution_count": 116,
   "id": "b5e401e8",
   "metadata": {},
   "outputs": [
    {
     "data": {
      "text/plain": [
       "Text(0, 0.5, 'Number if customers')"
      ]
     },
     "execution_count": 116,
     "metadata": {},
     "output_type": "execute_result"
    },
    {
     "data": {
      "image/png": "[encoded data removed]",
      "text/plain": [
       "<Figure size 432x288 with 1 Axes>"
      ]
     },
     "metadata": {
      "needs_background": "light"
     },
     "output_type": "display_data"
    }
   ],
   "source": [
    "#right skewed distributed\n",
    "figure = features_final.frequency.hist(bins=50)\n",
    "figure.set_title('Frequency')\n",
    "figure.set_xlabel('Frequency')\n",
    "figure.set_ylabel('Number if customers')"
   ]
  },
  {
   "cell_type": "code",
   "execution_count": 117,
   "id": "46b5b3e4",
   "metadata": {},
   "outputs": [],
   "source": [
    "#Monetry outliers"
   ]
  },
  {
   "cell_type": "code",
   "execution_count": 118,
   "id": "08e46815",
   "metadata": {},
   "outputs": [
    {
     "data": {
      "text/plain": [
       "Text(0, 0.5, 'Number if customers')"
      ]
     },
     "execution_count": 118,
     "metadata": {},
     "output_type": "execute_result"
    },
    {
     "data": {
      "image/png": "[encoded data removed]",
      "text/plain": [
       "<Figure size 432x288 with 1 Axes>"
      ]
     },
     "metadata": {
      "needs_background": "light"
     },
     "output_type": "display_data"
    }
   ],
   "source": [
    "# right skewed distributed\n",
    "figure = features_final.Monertary.hist(bins=25)\n",
    "figure.set_title('Monertary')\n",
    "figure.set_xlabel('Monertary')\n",
    "figure.set_ylabel('Number if customers')"
   ]
  },
  {
   "cell_type": "code",
   "execution_count": 119,
   "id": "18340b72",
   "metadata": {},
   "outputs": [
    {
     "data": {
      "text/plain": [
       "<AxesSubplot:>"
      ]
     },
     "execution_count": 119,
     "metadata": {},
     "output_type": "execute_result"
    },
    {
     "data": {
      "image/png": "[encoded data removed]",
      "text/plain": [
       "<Figure size 432x288 with 1 Axes>"
      ]
     },
     "metadata": {
      "needs_background": "light"
     },
     "output_type": "display_data"
    }
   ],
   "source": [
    "features_final.boxplot(column='Monertary')"
   ]
  },
  {
   "cell_type": "code",
   "execution_count": 120,
   "id": "f060da78",
   "metadata": {},
   "outputs": [
    {
     "name": "stdout",
     "output_type": "stream",
     "text": [
      "-53.91364406779661\n",
      "54.65728813559322\n"
     ]
    }
   ],
   "source": [
    "lower_bridge = features_final['Monertary'].quantile(0.25)-(IQR*3)\n",
    "upper_bridge = features_final['Monertary'].quantile(0.75)+(IQR*3)\n",
    "print(lower_bridge)\n",
    "print(upper_bridge)"
   ]
  },
  {
   "cell_type": "code",
   "execution_count": 121,
   "id": "11df73a0",
   "metadata": {},
   "outputs": [],
   "source": [
    "features_final.loc[features_final['Monertary']>=54,'Monertary']=54"
   ]
  },
  {
   "cell_type": "code",
   "execution_count": 122,
   "id": "575a7526",
   "metadata": {},
   "outputs": [
    {
     "data": {
      "text/plain": [
       "Text(0, 0.5, 'Number if customers')"
      ]
     },
     "execution_count": 122,
     "metadata": {},
     "output_type": "execute_result"
    },
    {
     "data": {
      "image/png": "[encoded data removed]",
      "text/plain": [
       "<Figure size 432x288 with 1 Axes>"
      ]
     },
     "metadata": {
      "needs_background": "light"
     },
     "output_type": "display_data"
    }
   ],
   "source": [
    "# right skewed distributed\n",
    "figure = features_final.Monertary.hist(bins=25)\n",
    "figure.set_title('Monertary')\n",
    "figure.set_xlabel('Monertary')\n",
    "figure.set_ylabel('Number if customers')"
   ]
  },
  {
   "cell_type": "code",
   "execution_count": 123,
   "id": "04d66167",
   "metadata": {},
   "outputs": [
    {
     "name": "stdout",
     "output_type": "stream",
     "text": [
      "-53.91364406779661\n",
      "54.65728813559322\n"
     ]
    }
   ],
   "source": [
    "lower_bridge = features_final['Monertary'].quantile(0.25)-(IQR*3)\n",
    "upper_bridge = features_final['Monertary'].quantile(0.75)+(IQR*3)\n",
    "print(lower_bridge)\n",
    "print(upper_bridge)"
   ]
  },
  {
   "cell_type": "code",
   "execution_count": 124,
   "id": "ea260109",
   "metadata": {},
   "outputs": [
    {
     "data": {
      "text/plain": [
       "Text(0, 0.5, 'Number if customers')"
      ]
     },
     "execution_count": 124,
     "metadata": {},
     "output_type": "execute_result"
    },
    {
     "data": {
      "image/png": "[encoded data removed]",
      "text/plain": [
       "<Figure size 432x288 with 1 Axes>"
      ]
     },
     "metadata": {
      "needs_background": "light"
     },
     "output_type": "display_data"
    }
   ],
   "source": [
    "#Normally distributed\n",
    "figure = features_final.recency.hist(bins=50)\n",
    "figure.set_title('Recency')\n",
    "figure.set_xlabel('Recency')\n",
    "figure.set_ylabel('Number if customers')"
   ]
  },
  {
   "cell_type": "code",
   "execution_count": 125,
   "id": "3f43b32c",
   "metadata": {},
   "outputs": [
    {
     "data": {
      "text/plain": [
       "<AxesSubplot:>"
      ]
     },
     "execution_count": 125,
     "metadata": {},
     "output_type": "execute_result"
    },
    {
     "data": {
      "image/png": "[encoded data removed]",
      "text/plain": [
       "<Figure size 432x288 with 1 Axes>"
      ]
     },
     "metadata": {
      "needs_background": "light"
     },
     "output_type": "display_data"
    }
   ],
   "source": [
    "features_final.boxplot(column='recency')"
   ]
  },
  {
   "cell_type": "code",
   "execution_count": 126,
   "id": "7996f7ab",
   "metadata": {},
   "outputs": [
    {
     "name": "stdout",
     "output_type": "stream",
     "text": [
      "-53.91364406779661\n",
      "54.65728813559322\n"
     ]
    }
   ],
   "source": [
    "lower_boundary = features_final['recency'].quantile(0.25) - (IQR *3)\n",
    "upper_boundary = features_final['recency'].quantile(0.75) + (IQR *3)\n",
    "print(lower_bridge)\n",
    "print(upper_bridge)"
   ]
  },
  {
   "cell_type": "markdown",
   "id": "546c8af5",
   "metadata": {},
   "source": [
    "# Skewness"
   ]
  },
  {
   "cell_type": "code",
   "execution_count": 127,
   "id": "354900a9",
   "metadata": {},
   "outputs": [
    {
     "name": "stderr",
     "output_type": "stream",
     "text": [
      "/Users/rohith/opt/anaconda3/envs/vaibhav/lib/python3.7/site-packages/seaborn/distributions.py:2619: FutureWarning: `distplot` is a deprecated function and will be removed in a future version. Please adapt your code to use either `displot` (a figure-level function with similar flexibility) or `histplot` (an axes-level function for histograms).\n",
      "  warnings.warn(msg, FutureWarning)\n"
     ]
    },
    {
     "data": {
      "text/plain": [
       "<AxesSubplot:xlabel='age'>"
      ]
     },
     "execution_count": 127,
     "metadata": {},
     "output_type": "execute_result"
    },
    {
     "data": {
      "image/png": "[encoded data removed]",
      "text/plain": [
       "<Figure size 432x288 with 1 Axes>"
      ]
     },
     "metadata": {
      "needs_background": "light"
     },
     "output_type": "display_data"
    }
   ],
   "source": [
    "sns.distplot(features_final['age'],kde=False,bins=40)"
   ]
  },
  {
   "cell_type": "code",
   "execution_count": 128,
   "id": "ff37f0c3",
   "metadata": {},
   "outputs": [
    {
     "data": {
      "text/plain": [
       "<AxesSubplot:>"
      ]
     },
     "execution_count": 128,
     "metadata": {},
     "output_type": "execute_result"
    },
    {
     "data": {
      "image/png": "[encoded data removed]",
      "text/plain": [
       "<Figure size 432x288 with 1 Axes>"
      ]
     },
     "metadata": {
      "needs_background": "light"
     },
     "output_type": "display_data"
    }
   ],
   "source": [
    "features_final['age'].hist(bins=20,color='darkred',alpha=0.3)"
   ]
  },
  {
   "cell_type": "code",
   "execution_count": null,
   "id": "c5593be2",
   "metadata": {},
   "outputs": [],
   "source": []
  },
  {
   "cell_type": "code",
   "execution_count": 129,
   "id": "3ff1d9d5",
   "metadata": {},
   "outputs": [
    {
     "name": "stdout",
     "output_type": "stream",
     "text": [
      "recency\n",
      "0.7668875189029577\n"
     ]
    },
    {
     "data": {
      "text/plain": [
       "<Figure size 432x288 with 0 Axes>"
      ]
     },
     "metadata": {},
     "output_type": "display_data"
    },
    {
     "data": {
      "image/png": "[encoded data removed]",
      "text/plain": [
       "<Figure size 360x360 with 1 Axes>"
      ]
     },
     "metadata": {
      "needs_background": "light"
     },
     "output_type": "display_data"
    },
    {
     "name": "stdout",
     "output_type": "stream",
     "text": [
      "frequency\n",
      "1.5840607697654159\n"
     ]
    },
    {
     "data": {
      "text/plain": [
       "<Figure size 432x288 with 0 Axes>"
      ]
     },
     "metadata": {},
     "output_type": "display_data"
    },
    {
     "data": {
      "image/png": "[encoded data removed]",
      "text/plain": [
       "<Figure size 360x360 with 1 Axes>"
      ]
     },
     "metadata": {
      "needs_background": "light"
     },
     "output_type": "display_data"
    },
    {
     "name": "stdout",
     "output_type": "stream",
     "text": [
      "Monertary\n",
      "6.068802329203337\n"
     ]
    },
    {
     "data": {
      "text/plain": [
       "<Figure size 432x288 with 0 Axes>"
      ]
     },
     "metadata": {},
     "output_type": "display_data"
    },
    {
     "data": {
      "image/png": "[encoded data removed]",
      "text/plain": [
       "<Figure size 360x360 with 1 Axes>"
      ]
     },
     "metadata": {
      "needs_background": "light"
     },
     "output_type": "display_data"
    },
    {
     "name": "stdout",
     "output_type": "stream",
     "text": [
      "price_mean\n",
      "4.1307687366794825\n"
     ]
    },
    {
     "data": {
      "text/plain": [
       "<Figure size 432x288 with 0 Axes>"
      ]
     },
     "metadata": {},
     "output_type": "display_data"
    },
    {
     "data": {
      "image/png": "[encoded data removed]",
      "text/plain": [
       "<Figure size 360x360 with 1 Axes>"
      ]
     },
     "metadata": {
      "needs_background": "light"
     },
     "output_type": "display_data"
    },
    {
     "name": "stdout",
     "output_type": "stream",
     "text": [
      "spent_90days\n",
      "8.209409719310049\n"
     ]
    },
    {
     "data": {
      "text/plain": [
       "<Figure size 432x288 with 0 Axes>"
      ]
     },
     "metadata": {},
     "output_type": "display_data"
    },
    {
     "data": {
      "image/png": "[encoded data removed]",
      "text/plain": [
       "<Figure size 360x360 with 1 Axes>"
      ]
     },
     "metadata": {
      "needs_background": "light"
     },
     "output_type": "display_data"
    },
    {
     "name": "stdout",
     "output_type": "stream",
     "text": [
      "Flag_90days\n",
      "0.643704913541448\n"
     ]
    },
    {
     "data": {
      "text/plain": [
       "<Figure size 432x288 with 0 Axes>"
      ]
     },
     "metadata": {},
     "output_type": "display_data"
    },
    {
     "data": {
      "image/png": "[encoded data removed]",
      "text/plain": [
       "<Figure size 360x360 with 1 Axes>"
      ]
     },
     "metadata": {
      "needs_background": "light"
     },
     "output_type": "display_data"
    },
    {
     "name": "stdout",
     "output_type": "stream",
     "text": [
      "sales_channel_id\n",
      "-0.6670267620210331\n"
     ]
    },
    {
     "data": {
      "text/plain": [
       "<Figure size 432x288 with 0 Axes>"
      ]
     },
     "metadata": {},
     "output_type": "display_data"
    },
    {
     "data": {
      "image/png": "[encoded data removed]",
      "text/plain": [
       "<Figure size 360x360 with 1 Axes>"
      ]
     },
     "metadata": {
      "needs_background": "light"
     },
     "output_type": "display_data"
    },
    {
     "name": "stdout",
     "output_type": "stream",
     "text": [
      "club_member_status\n"
     ]
    },
    {
     "ename": "TypeError",
     "evalue": "unsupported operand type(s) for /: 'str' and 'int'",
     "output_type": "error",
     "traceback": [
      "\u001b[0;31m---------------------------------------------------------------------------\u001b[0m",
      "\u001b[0;31mTypeError\u001b[0m                                 Traceback (most recent call last)",
      "\u001b[0;32m/var/folders/z1/1m6jsgwx7_5bnzfs27mc12740000gn/T/ipykernel_23139/847431680.py\u001b[0m in \u001b[0;36m<module>\u001b[0;34m\u001b[0m\n\u001b[1;32m      1\u001b[0m \u001b[0;32mfor\u001b[0m \u001b[0mi\u001b[0m \u001b[0;32min\u001b[0m \u001b[0mfeatures_final\u001b[0m\u001b[0;34m:\u001b[0m\u001b[0;34m\u001b[0m\u001b[0;34m\u001b[0m\u001b[0m\n\u001b[1;32m      2\u001b[0m     \u001b[0mprint\u001b[0m\u001b[0;34m(\u001b[0m\u001b[0mi\u001b[0m\u001b[0;34m)\u001b[0m\u001b[0;34m\u001b[0m\u001b[0;34m\u001b[0m\u001b[0m\n\u001b[0;32m----> 3\u001b[0;31m     \u001b[0mprint\u001b[0m\u001b[0;34m(\u001b[0m\u001b[0mskew\u001b[0m\u001b[0;34m(\u001b[0m\u001b[0mfeatures_final\u001b[0m\u001b[0;34m[\u001b[0m\u001b[0mi\u001b[0m\u001b[0;34m]\u001b[0m\u001b[0;34m)\u001b[0m\u001b[0;34m)\u001b[0m\u001b[0;34m\u001b[0m\u001b[0;34m\u001b[0m\u001b[0m\n\u001b[0m\u001b[1;32m      4\u001b[0m     \u001b[0mplt\u001b[0m\u001b[0;34m.\u001b[0m\u001b[0mfigure\u001b[0m\u001b[0;34m(\u001b[0m\u001b[0;34m)\u001b[0m\u001b[0;34m\u001b[0m\u001b[0;34m\u001b[0m\u001b[0m\n\u001b[1;32m      5\u001b[0m     \u001b[0msns\u001b[0m\u001b[0;34m.\u001b[0m\u001b[0mdisplot\u001b[0m\u001b[0;34m(\u001b[0m\u001b[0mfeatures_final\u001b[0m\u001b[0;34m[\u001b[0m\u001b[0mi\u001b[0m\u001b[0;34m]\u001b[0m\u001b[0;34m)\u001b[0m\u001b[0;34m\u001b[0m\u001b[0;34m\u001b[0m\u001b[0m\n",
      "\u001b[0;32m~/opt/anaconda3/envs/vaibhav/lib/python3.7/site-packages/scipy/stats/stats.py\u001b[0m in \u001b[0;36mskew\u001b[0;34m(a, axis, bias, nan_policy)\u001b[0m\n\u001b[1;32m   1105\u001b[0m         \u001b[0;32mreturn\u001b[0m \u001b[0mmstats_basic\u001b[0m\u001b[0;34m.\u001b[0m\u001b[0mskew\u001b[0m\u001b[0;34m(\u001b[0m\u001b[0ma\u001b[0m\u001b[0;34m,\u001b[0m \u001b[0maxis\u001b[0m\u001b[0;34m,\u001b[0m \u001b[0mbias\u001b[0m\u001b[0;34m)\u001b[0m\u001b[0;34m\u001b[0m\u001b[0;34m\u001b[0m\u001b[0m\n\u001b[1;32m   1106\u001b[0m \u001b[0;34m\u001b[0m\u001b[0m\n\u001b[0;32m-> 1107\u001b[0;31m     \u001b[0mmean\u001b[0m \u001b[0;34m=\u001b[0m \u001b[0ma\u001b[0m\u001b[0;34m.\u001b[0m\u001b[0mmean\u001b[0m\u001b[0;34m(\u001b[0m\u001b[0maxis\u001b[0m\u001b[0;34m,\u001b[0m \u001b[0mkeepdims\u001b[0m\u001b[0;34m=\u001b[0m\u001b[0;32mTrue\u001b[0m\u001b[0;34m)\u001b[0m\u001b[0;34m\u001b[0m\u001b[0;34m\u001b[0m\u001b[0m\n\u001b[0m\u001b[1;32m   1108\u001b[0m     \u001b[0mm2\u001b[0m \u001b[0;34m=\u001b[0m \u001b[0m_moment\u001b[0m\u001b[0;34m(\u001b[0m\u001b[0ma\u001b[0m\u001b[0;34m,\u001b[0m \u001b[0;36m2\u001b[0m\u001b[0;34m,\u001b[0m \u001b[0maxis\u001b[0m\u001b[0;34m,\u001b[0m \u001b[0mmean\u001b[0m\u001b[0;34m=\u001b[0m\u001b[0mmean\u001b[0m\u001b[0;34m)\u001b[0m\u001b[0;34m\u001b[0m\u001b[0;34m\u001b[0m\u001b[0m\n\u001b[1;32m   1109\u001b[0m     \u001b[0mm3\u001b[0m \u001b[0;34m=\u001b[0m \u001b[0m_moment\u001b[0m\u001b[0;34m(\u001b[0m\u001b[0ma\u001b[0m\u001b[0;34m,\u001b[0m \u001b[0;36m3\u001b[0m\u001b[0;34m,\u001b[0m \u001b[0maxis\u001b[0m\u001b[0;34m,\u001b[0m \u001b[0mmean\u001b[0m\u001b[0;34m=\u001b[0m\u001b[0mmean\u001b[0m\u001b[0;34m)\u001b[0m\u001b[0;34m\u001b[0m\u001b[0;34m\u001b[0m\u001b[0m\n",
      "\u001b[0;32m~/opt/anaconda3/envs/vaibhav/lib/python3.7/site-packages/numpy/core/_methods.py\u001b[0m in \u001b[0;36m_mean\u001b[0;34m(a, axis, dtype, out, keepdims, where)\u001b[0m\n\u001b[1;32m    180\u001b[0m     \u001b[0;32mif\u001b[0m \u001b[0misinstance\u001b[0m\u001b[0;34m(\u001b[0m\u001b[0mret\u001b[0m\u001b[0;34m,\u001b[0m \u001b[0mmu\u001b[0m\u001b[0;34m.\u001b[0m\u001b[0mndarray\u001b[0m\u001b[0;34m)\u001b[0m\u001b[0;34m:\u001b[0m\u001b[0;34m\u001b[0m\u001b[0;34m\u001b[0m\u001b[0m\n\u001b[1;32m    181\u001b[0m         ret = um.true_divide(\n\u001b[0;32m--> 182\u001b[0;31m                 ret, rcount, out=ret, casting='unsafe', subok=False)\n\u001b[0m\u001b[1;32m    183\u001b[0m         \u001b[0;32mif\u001b[0m \u001b[0mis_float16_result\u001b[0m \u001b[0;32mand\u001b[0m \u001b[0mout\u001b[0m \u001b[0;32mis\u001b[0m \u001b[0;32mNone\u001b[0m\u001b[0;34m:\u001b[0m\u001b[0;34m\u001b[0m\u001b[0;34m\u001b[0m\u001b[0m\n\u001b[1;32m    184\u001b[0m             \u001b[0mret\u001b[0m \u001b[0;34m=\u001b[0m \u001b[0marr\u001b[0m\u001b[0;34m.\u001b[0m\u001b[0mdtype\u001b[0m\u001b[0;34m.\u001b[0m\u001b[0mtype\u001b[0m\u001b[0;34m(\u001b[0m\u001b[0mret\u001b[0m\u001b[0;34m)\u001b[0m\u001b[0;34m\u001b[0m\u001b[0;34m\u001b[0m\u001b[0m\n",
      "\u001b[0;31mTypeError\u001b[0m: unsupported operand type(s) for /: 'str' and 'int'"
     ]
    }
   ],
   "source": [
    "for i in features_final:\n",
    "    print(i)\n",
    "    print(skew(features_final[i]))\n",
    "    plt.figure()\n",
    "    sns.displot(features_final[i])\n",
    "    plt.show()"
   ]
  },
  {
   "cell_type": "code",
   "execution_count": 130,
   "id": "c540b6c3",
   "metadata": {},
   "outputs": [
    {
     "name": "stdout",
     "output_type": "stream",
     "text": [
      "1.5840607697654159\n"
     ]
    },
    {
     "data": {
      "text/plain": [
       "<seaborn.axisgrid.FacetGrid at 0x7f7d60d24210>"
      ]
     },
     "execution_count": 130,
     "metadata": {},
     "output_type": "execute_result"
    },
    {
     "data": {
      "image/png": "[encoded data removed]",
      "text/plain": [
       "<Figure size 360x360 with 1 Axes>"
      ]
     },
     "metadata": {
      "needs_background": "light"
     },
     "output_type": "display_data"
    }
   ],
   "source": [
    "print(skew(features_final['frequency']))\n",
    "sns.displot(features_final['frequency'])"
   ]
  },
  {
   "cell_type": "code",
   "execution_count": 131,
   "id": "815c2c43",
   "metadata": {
    "scrolled": true
   },
   "outputs": [
    {
     "name": "stdout",
     "output_type": "stream",
     "text": [
      "0.7668875189029577\n"
     ]
    },
    {
     "data": {
      "text/plain": [
       "<seaborn.axisgrid.FacetGrid at 0x7f7d09d84990>"
      ]
     },
     "execution_count": 131,
     "metadata": {},
     "output_type": "execute_result"
    },
    {
     "data": {
      "image/png": "[encoded data removed]",
      "text/plain": [
       "<Figure size 360x360 with 1 Axes>"
      ]
     },
     "metadata": {
      "needs_background": "light"
     },
     "output_type": "display_data"
    }
   ],
   "source": [
    "print(skew(features_final['recency']))\n",
    "sns.displot(features_final['recency'])"
   ]
  },
  {
   "cell_type": "code",
   "execution_count": 132,
   "id": "2e530082",
   "metadata": {},
   "outputs": [
    {
     "name": "stdout",
     "output_type": "stream",
     "text": [
      "6.068802329203337\n"
     ]
    },
    {
     "data": {
      "text/plain": [
       "<seaborn.axisgrid.FacetGrid at 0x7f7deea0bc10>"
      ]
     },
     "execution_count": 132,
     "metadata": {},
     "output_type": "execute_result"
    },
    {
     "data": {
      "image/png": "[encoded data removed]",
      "text/plain": [
       "<Figure size 360x360 with 1 Axes>"
      ]
     },
     "metadata": {
      "needs_background": "light"
     },
     "output_type": "display_data"
    }
   ],
   "source": [
    "print(skew(features_final['Monertary']))\n",
    "sns.displot(features_final['Monertary'])"
   ]
  },
  {
   "cell_type": "code",
   "execution_count": null,
   "id": "695d4f76",
   "metadata": {},
   "outputs": [],
   "source": []
  },
  {
   "cell_type": "code",
   "execution_count": 133,
   "id": "cbfbd297",
   "metadata": {},
   "outputs": [
    {
     "data": {
      "image/png": "[encoded data removed]",
      "text/plain": [
       "<Figure size 432x288 with 2 Axes>"
      ]
     },
     "metadata": {
      "needs_background": "light"
     },
     "output_type": "display_data"
    }
   ],
   "source": [
    "sns.heatmap(features_final.corr(),annot=True)\n",
    "plt.show()"
   ]
  },
  {
   "cell_type": "code",
   "execution_count": 134,
   "id": "7231d3fd",
   "metadata": {},
   "outputs": [],
   "source": [
    "#Monetry, freq\n",
    "import numpy as np\n",
    "features_final[\"Monertary\"] = np.log(features_final[\"Monertary\"])\n",
    "features_final[\"frequency\"] = np.log(features_final[\"frequency\"])\n",
    "#features_final[\"recency\"] = np.log(max(features_final[\"recency\"] + 1) - features_final[\"recency\"])"
   ]
  },
  {
   "cell_type": "code",
   "execution_count": 135,
   "id": "0344568f",
   "metadata": {},
   "outputs": [
    {
     "data": {
      "text/plain": [
       "0.0854850742731747"
      ]
     },
     "execution_count": 135,
     "metadata": {},
     "output_type": "execute_result"
    }
   ],
   "source": [
    "skew(features_final[\"Monertary\"])"
   ]
  },
  {
   "cell_type": "code",
   "execution_count": 136,
   "id": "04f851c6",
   "metadata": {},
   "outputs": [
    {
     "data": {
      "text/plain": [
       "-0.03228178072466546"
      ]
     },
     "execution_count": 136,
     "metadata": {},
     "output_type": "execute_result"
    }
   ],
   "source": [
    "skew(features_final[\"frequency\"])"
   ]
  },
  {
   "cell_type": "code",
   "execution_count": 137,
   "id": "de6b04fb",
   "metadata": {},
   "outputs": [
    {
     "data": {
      "text/plain": [
       "0.7668875189029577"
      ]
     },
     "execution_count": 137,
     "metadata": {},
     "output_type": "execute_result"
    }
   ],
   "source": [
    "skew(features_final[\"recency\"])"
   ]
  },
  {
   "cell_type": "code",
   "execution_count": 138,
   "id": "09b2c0fb",
   "metadata": {},
   "outputs": [
    {
     "data": {
      "image/png": "[encoded data removed]",
      "text/plain": [
       "<Figure size 432x288 with 2 Axes>"
      ]
     },
     "metadata": {
      "needs_background": "light"
     },
     "output_type": "display_data"
    }
   ],
   "source": [
    "sns.heatmap(features_final.corr(),annot=True)\n",
    "plt.show()"
   ]
  },
  {
   "cell_type": "code",
   "execution_count": 140,
   "id": "51de89e6",
   "metadata": {},
   "outputs": [],
   "source": [
    "X = features_final[['recency','frequency','Monertary','price_mean','sales_channel_id','club_member_status','fashion_news_frequency','age']]"
   ]
  },
  {
   "cell_type": "code",
   "execution_count": 145,
   "id": "71367cbb",
   "metadata": {},
   "outputs": [
    {
     "data": {
      "text/html": [
       "<div>\n",
       "<style scoped>\n",
       "    .dataframe tbody tr th:only-of-type {\n",
       "        vertical-align: middle;\n",
       "    }\n",
       "\n",
       "    .dataframe tbody tr th {\n",
       "        vertical-align: top;\n",
       "    }\n",
       "\n",
       "    .dataframe thead th {\n",
       "        text-align: right;\n",
       "    }\n",
       "</style>\n",
       "<table border=\"1\" class=\"dataframe\">\n",
       "  <thead>\n",
       "    <tr style=\"text-align: right;\">\n",
       "      <th></th>\n",
       "      <th></th>\n",
       "      <th>recency</th>\n",
       "      <th>frequency</th>\n",
       "      <th>Monertary</th>\n",
       "      <th>price_mean</th>\n",
       "      <th>sales_channel_id</th>\n",
       "      <th>club_member_status</th>\n",
       "      <th>fashion_news_frequency</th>\n",
       "      <th>age</th>\n",
       "    </tr>\n",
       "    <tr>\n",
       "      <th>customer_id</th>\n",
       "      <th>customer_id</th>\n",
       "      <th></th>\n",
       "      <th></th>\n",
       "      <th></th>\n",
       "      <th></th>\n",
       "      <th></th>\n",
       "      <th></th>\n",
       "      <th></th>\n",
       "      <th></th>\n",
       "    </tr>\n",
       "  </thead>\n",
       "  <tbody>\n",
       "    <tr>\n",
       "      <th>00000dbacae5abe5e23885899a1fa44253a17956c6d1c3d25f88aa139fdfc657</th>\n",
       "      <th>00000dbacae5abe5e23885899a1fa44253a17956c6d1c3d25f88aa139fdfc657</th>\n",
       "      <td>95.0</td>\n",
       "      <td>2.995732</td>\n",
       "      <td>-0.513909</td>\n",
       "      <td>0.029908</td>\n",
       "      <td>2</td>\n",
       "      <td>ACTIVE</td>\n",
       "      <td>NONE</td>\n",
       "      <td>49.0</td>\n",
       "    </tr>\n",
       "    <tr>\n",
       "      <th>0000423b00ade91418cceaf3b26c6af3dd342b51fd051eec9c12fb36984420fa</th>\n",
       "      <th>0000423b00ade91418cceaf3b26c6af3dd342b51fd051eec9c12fb36984420fa</th>\n",
       "      <td>63.0</td>\n",
       "      <td>4.369448</td>\n",
       "      <td>0.945784</td>\n",
       "      <td>0.030292</td>\n",
       "      <td>2</td>\n",
       "      <td>ACTIVE</td>\n",
       "      <td>NONE</td>\n",
       "      <td>25.0</td>\n",
       "    </tr>\n",
       "    <tr>\n",
       "      <th>000058a12d5b43e67d225668fa1f8d618c13dc232df0cad8ffe7ad4a1091e318</th>\n",
       "      <th>000058a12d5b43e67d225668fa1f8d618c13dc232df0cad8ffe7ad4a1091e318</th>\n",
       "      <td>67.0</td>\n",
       "      <td>2.833213</td>\n",
       "      <td>-0.440399</td>\n",
       "      <td>0.037869</td>\n",
       "      <td>2</td>\n",
       "      <td>ACTIVE</td>\n",
       "      <td>NONE</td>\n",
       "      <td>24.0</td>\n",
       "    </tr>\n",
       "    <tr>\n",
       "      <th>00005ca1c9ed5f5146b52ac8639a40ca9d57aeff4d1bd2c5feb1ca5dff07c43e</th>\n",
       "      <th>00005ca1c9ed5f5146b52ac8639a40ca9d57aeff4d1bd2c5feb1ca5dff07c43e</th>\n",
       "      <td>381.0</td>\n",
       "      <td>0.693147</td>\n",
       "      <td>-2.797159</td>\n",
       "      <td>0.030492</td>\n",
       "      <td>2</td>\n",
       "      <td>ACTIVE</td>\n",
       "      <td>NONE</td>\n",
       "      <td>54.0</td>\n",
       "    </tr>\n",
       "    <tr>\n",
       "      <th>00006413d8573cd20ed7128e53b7b13819fe5cfc2d801fe7fc0f26dd8d65a85a</th>\n",
       "      <th>00006413d8573cd20ed7128e53b7b13819fe5cfc2d801fe7fc0f26dd8d65a85a</th>\n",
       "      <td>21.0</td>\n",
       "      <td>2.197225</td>\n",
       "      <td>-1.076022</td>\n",
       "      <td>0.037883</td>\n",
       "      <td>2</td>\n",
       "      <td>ACTIVE</td>\n",
       "      <td>Regularly</td>\n",
       "      <td>52.0</td>\n",
       "    </tr>\n",
       "    <tr>\n",
       "      <th>...</th>\n",
       "      <th>...</th>\n",
       "      <td>...</td>\n",
       "      <td>...</td>\n",
       "      <td>...</td>\n",
       "      <td>...</td>\n",
       "      <td>...</td>\n",
       "      <td>...</td>\n",
       "      <td>...</td>\n",
       "      <td>...</td>\n",
       "    </tr>\n",
       "    <tr>\n",
       "      <th>ffffbbf78b6eaac697a8a5dfbfd2bfa8113ee5b403e4747568cac33e8c541831</th>\n",
       "      <th>ffffbbf78b6eaac697a8a5dfbfd2bfa8113ee5b403e4747568cac33e8c541831</th>\n",
       "      <td>4.0</td>\n",
       "      <td>3.663562</td>\n",
       "      <td>-0.000661</td>\n",
       "      <td>0.025624</td>\n",
       "      <td>2</td>\n",
       "      <td>No</td>\n",
       "      <td>None</td>\n",
       "      <td>31.0</td>\n",
       "    </tr>\n",
       "    <tr>\n",
       "      <th>ffffcd5046a6143d29a04fb8c424ce494a76e5cdf4fab53481233731b5c4f8b7</th>\n",
       "      <th>ffffcd5046a6143d29a04fb8c424ce494a76e5cdf4fab53481233731b5c4f8b7</th>\n",
       "      <td>44.0</td>\n",
       "      <td>4.330733</td>\n",
       "      <td>0.532023</td>\n",
       "      <td>0.022400</td>\n",
       "      <td>1</td>\n",
       "      <td>No</td>\n",
       "      <td>None</td>\n",
       "      <td>31.0</td>\n",
       "    </tr>\n",
       "    <tr>\n",
       "      <th>ffffcf35913a0bee60e8741cb2b4e78b8a98ee5ff2e6a1778d0116cffd259264</th>\n",
       "      <th>ffffcf35913a0bee60e8741cb2b4e78b8a98ee5ff2e6a1778d0116cffd259264</th>\n",
       "      <td>154.0</td>\n",
       "      <td>3.555348</td>\n",
       "      <td>-0.435828</td>\n",
       "      <td>0.018478</td>\n",
       "      <td>1</td>\n",
       "      <td>No</td>\n",
       "      <td>None</td>\n",
       "      <td>31.0</td>\n",
       "    </tr>\n",
       "    <tr>\n",
       "      <th>ffffd7744cebcf3aca44ae7049d2a94b87074c3d4ffe38b2236865d949d4df6a</th>\n",
       "      <th>ffffd7744cebcf3aca44ae7049d2a94b87074c3d4ffe38b2236865d949d4df6a</th>\n",
       "      <td>2.0</td>\n",
       "      <td>1.945910</td>\n",
       "      <td>-1.564448</td>\n",
       "      <td>0.029886</td>\n",
       "      <td>1</td>\n",
       "      <td>No</td>\n",
       "      <td>None</td>\n",
       "      <td>31.0</td>\n",
       "    </tr>\n",
       "    <tr>\n",
       "      <th>ffffd9ac14e89946416d80e791d064701994755c3ab686a1eaf3458c36f52241</th>\n",
       "      <th>ffffd9ac14e89946416d80e791d064701994755c3ab686a1eaf3458c36f52241</th>\n",
       "      <td>203.0</td>\n",
       "      <td>0.000000</td>\n",
       "      <td>-2.468300</td>\n",
       "      <td>0.084729</td>\n",
       "      <td>2</td>\n",
       "      <td>No</td>\n",
       "      <td>None</td>\n",
       "      <td>31.0</td>\n",
       "    </tr>\n",
       "  </tbody>\n",
       "</table>\n",
       "<p>1291147 rows × 8 columns</p>\n",
       "</div>"
      ],
      "text/plain": [
       "                                                                                                       recency  \\\n",
       "customer_id                                        customer_id                                                   \n",
       "00000dbacae5abe5e23885899a1fa44253a17956c6d1c3d... 00000dbacae5abe5e23885899a1fa44253a17956c6d1c3d...     95.0   \n",
       "0000423b00ade91418cceaf3b26c6af3dd342b51fd051ee... 0000423b00ade91418cceaf3b26c6af3dd342b51fd051ee...     63.0   \n",
       "000058a12d5b43e67d225668fa1f8d618c13dc232df0cad... 000058a12d5b43e67d225668fa1f8d618c13dc232df0cad...     67.0   \n",
       "00005ca1c9ed5f5146b52ac8639a40ca9d57aeff4d1bd2c... 00005ca1c9ed5f5146b52ac8639a40ca9d57aeff4d1bd2c...    381.0   \n",
       "00006413d8573cd20ed7128e53b7b13819fe5cfc2d801fe... 00006413d8573cd20ed7128e53b7b13819fe5cfc2d801fe...     21.0   \n",
       "...                                                                                                        ...   \n",
       "ffffbbf78b6eaac697a8a5dfbfd2bfa8113ee5b403e4747... ffffbbf78b6eaac697a8a5dfbfd2bfa8113ee5b403e4747...      4.0   \n",
       "ffffcd5046a6143d29a04fb8c424ce494a76e5cdf4fab53... ffffcd5046a6143d29a04fb8c424ce494a76e5cdf4fab53...     44.0   \n",
       "ffffcf35913a0bee60e8741cb2b4e78b8a98ee5ff2e6a17... ffffcf35913a0bee60e8741cb2b4e78b8a98ee5ff2e6a17...    154.0   \n",
       "ffffd7744cebcf3aca44ae7049d2a94b87074c3d4ffe38b... ffffd7744cebcf3aca44ae7049d2a94b87074c3d4ffe38b...      2.0   \n",
       "ffffd9ac14e89946416d80e791d064701994755c3ab686a... ffffd9ac14e89946416d80e791d064701994755c3ab686a...    203.0   \n",
       "\n",
       "                                                                                                       frequency  \\\n",
       "customer_id                                        customer_id                                                     \n",
       "00000dbacae5abe5e23885899a1fa44253a17956c6d1c3d... 00000dbacae5abe5e23885899a1fa44253a17956c6d1c3d...   2.995732   \n",
       "0000423b00ade91418cceaf3b26c6af3dd342b51fd051ee... 0000423b00ade91418cceaf3b26c6af3dd342b51fd051ee...   4.369448   \n",
       "000058a12d5b43e67d225668fa1f8d618c13dc232df0cad... 000058a12d5b43e67d225668fa1f8d618c13dc232df0cad...   2.833213   \n",
       "00005ca1c9ed5f5146b52ac8639a40ca9d57aeff4d1bd2c... 00005ca1c9ed5f5146b52ac8639a40ca9d57aeff4d1bd2c...   0.693147   \n",
       "00006413d8573cd20ed7128e53b7b13819fe5cfc2d801fe... 00006413d8573cd20ed7128e53b7b13819fe5cfc2d801fe...   2.197225   \n",
       "...                                                                                                          ...   \n",
       "ffffbbf78b6eaac697a8a5dfbfd2bfa8113ee5b403e4747... ffffbbf78b6eaac697a8a5dfbfd2bfa8113ee5b403e4747...   3.663562   \n",
       "ffffcd5046a6143d29a04fb8c424ce494a76e5cdf4fab53... ffffcd5046a6143d29a04fb8c424ce494a76e5cdf4fab53...   4.330733   \n",
       "ffffcf35913a0bee60e8741cb2b4e78b8a98ee5ff2e6a17... ffffcf35913a0bee60e8741cb2b4e78b8a98ee5ff2e6a17...   3.555348   \n",
       "ffffd7744cebcf3aca44ae7049d2a94b87074c3d4ffe38b... ffffd7744cebcf3aca44ae7049d2a94b87074c3d4ffe38b...   1.945910   \n",
       "ffffd9ac14e89946416d80e791d064701994755c3ab686a... ffffd9ac14e89946416d80e791d064701994755c3ab686a...   0.000000   \n",
       "\n",
       "                                                                                                       Monertary  \\\n",
       "customer_id                                        customer_id                                                     \n",
       "00000dbacae5abe5e23885899a1fa44253a17956c6d1c3d... 00000dbacae5abe5e23885899a1fa44253a17956c6d1c3d...  -0.513909   \n",
       "0000423b00ade91418cceaf3b26c6af3dd342b51fd051ee... 0000423b00ade91418cceaf3b26c6af3dd342b51fd051ee...   0.945784   \n",
       "000058a12d5b43e67d225668fa1f8d618c13dc232df0cad... 000058a12d5b43e67d225668fa1f8d618c13dc232df0cad...  -0.440399   \n",
       "00005ca1c9ed5f5146b52ac8639a40ca9d57aeff4d1bd2c... 00005ca1c9ed5f5146b52ac8639a40ca9d57aeff4d1bd2c...  -2.797159   \n",
       "00006413d8573cd20ed7128e53b7b13819fe5cfc2d801fe... 00006413d8573cd20ed7128e53b7b13819fe5cfc2d801fe...  -1.076022   \n",
       "...                                                                                                          ...   \n",
       "ffffbbf78b6eaac697a8a5dfbfd2bfa8113ee5b403e4747... ffffbbf78b6eaac697a8a5dfbfd2bfa8113ee5b403e4747...  -0.000661   \n",
       "ffffcd5046a6143d29a04fb8c424ce494a76e5cdf4fab53... ffffcd5046a6143d29a04fb8c424ce494a76e5cdf4fab53...   0.532023   \n",
       "ffffcf35913a0bee60e8741cb2b4e78b8a98ee5ff2e6a17... ffffcf35913a0bee60e8741cb2b4e78b8a98ee5ff2e6a17...  -0.435828   \n",
       "ffffd7744cebcf3aca44ae7049d2a94b87074c3d4ffe38b... ffffd7744cebcf3aca44ae7049d2a94b87074c3d4ffe38b...  -1.564448   \n",
       "ffffd9ac14e89946416d80e791d064701994755c3ab686a... ffffd9ac14e89946416d80e791d064701994755c3ab686a...  -2.468300   \n",
       "\n",
       "                                                                                                       price_mean  \\\n",
       "customer_id                                        customer_id                                                      \n",
       "00000dbacae5abe5e23885899a1fa44253a17956c6d1c3d... 00000dbacae5abe5e23885899a1fa44253a17956c6d1c3d...    0.029908   \n",
       "0000423b00ade91418cceaf3b26c6af3dd342b51fd051ee... 0000423b00ade91418cceaf3b26c6af3dd342b51fd051ee...    0.030292   \n",
       "000058a12d5b43e67d225668fa1f8d618c13dc232df0cad... 000058a12d5b43e67d225668fa1f8d618c13dc232df0cad...    0.037869   \n",
       "00005ca1c9ed5f5146b52ac8639a40ca9d57aeff4d1bd2c... 00005ca1c9ed5f5146b52ac8639a40ca9d57aeff4d1bd2c...    0.030492   \n",
       "00006413d8573cd20ed7128e53b7b13819fe5cfc2d801fe... 00006413d8573cd20ed7128e53b7b13819fe5cfc2d801fe...    0.037883   \n",
       "...                                                                                                           ...   \n",
       "ffffbbf78b6eaac697a8a5dfbfd2bfa8113ee5b403e4747... ffffbbf78b6eaac697a8a5dfbfd2bfa8113ee5b403e4747...    0.025624   \n",
       "ffffcd5046a6143d29a04fb8c424ce494a76e5cdf4fab53... ffffcd5046a6143d29a04fb8c424ce494a76e5cdf4fab53...    0.022400   \n",
       "ffffcf35913a0bee60e8741cb2b4e78b8a98ee5ff2e6a17... ffffcf35913a0bee60e8741cb2b4e78b8a98ee5ff2e6a17...    0.018478   \n",
       "ffffd7744cebcf3aca44ae7049d2a94b87074c3d4ffe38b... ffffd7744cebcf3aca44ae7049d2a94b87074c3d4ffe38b...    0.029886   \n",
       "ffffd9ac14e89946416d80e791d064701994755c3ab686a... ffffd9ac14e89946416d80e791d064701994755c3ab686a...    0.084729   \n",
       "\n",
       "                                                                                                       sales_channel_id  \\\n",
       "customer_id                                        customer_id                                                            \n",
       "00000dbacae5abe5e23885899a1fa44253a17956c6d1c3d... 00000dbacae5abe5e23885899a1fa44253a17956c6d1c3d...                 2   \n",
       "0000423b00ade91418cceaf3b26c6af3dd342b51fd051ee... 0000423b00ade91418cceaf3b26c6af3dd342b51fd051ee...                 2   \n",
       "000058a12d5b43e67d225668fa1f8d618c13dc232df0cad... 000058a12d5b43e67d225668fa1f8d618c13dc232df0cad...                 2   \n",
       "00005ca1c9ed5f5146b52ac8639a40ca9d57aeff4d1bd2c... 00005ca1c9ed5f5146b52ac8639a40ca9d57aeff4d1bd2c...                 2   \n",
       "00006413d8573cd20ed7128e53b7b13819fe5cfc2d801fe... 00006413d8573cd20ed7128e53b7b13819fe5cfc2d801fe...                 2   \n",
       "...                                                                                                                 ...   \n",
       "ffffbbf78b6eaac697a8a5dfbfd2bfa8113ee5b403e4747... ffffbbf78b6eaac697a8a5dfbfd2bfa8113ee5b403e4747...                 2   \n",
       "ffffcd5046a6143d29a04fb8c424ce494a76e5cdf4fab53... ffffcd5046a6143d29a04fb8c424ce494a76e5cdf4fab53...                 1   \n",
       "ffffcf35913a0bee60e8741cb2b4e78b8a98ee5ff2e6a17... ffffcf35913a0bee60e8741cb2b4e78b8a98ee5ff2e6a17...                 1   \n",
       "ffffd7744cebcf3aca44ae7049d2a94b87074c3d4ffe38b... ffffd7744cebcf3aca44ae7049d2a94b87074c3d4ffe38b...                 1   \n",
       "ffffd9ac14e89946416d80e791d064701994755c3ab686a... ffffd9ac14e89946416d80e791d064701994755c3ab686a...                 2   \n",
       "\n",
       "                                                                                                      club_member_status  \\\n",
       "customer_id                                        customer_id                                                             \n",
       "00000dbacae5abe5e23885899a1fa44253a17956c6d1c3d... 00000dbacae5abe5e23885899a1fa44253a17956c6d1c3d...             ACTIVE   \n",
       "0000423b00ade91418cceaf3b26c6af3dd342b51fd051ee... 0000423b00ade91418cceaf3b26c6af3dd342b51fd051ee...             ACTIVE   \n",
       "000058a12d5b43e67d225668fa1f8d618c13dc232df0cad... 000058a12d5b43e67d225668fa1f8d618c13dc232df0cad...             ACTIVE   \n",
       "00005ca1c9ed5f5146b52ac8639a40ca9d57aeff4d1bd2c... 00005ca1c9ed5f5146b52ac8639a40ca9d57aeff4d1bd2c...             ACTIVE   \n",
       "00006413d8573cd20ed7128e53b7b13819fe5cfc2d801fe... 00006413d8573cd20ed7128e53b7b13819fe5cfc2d801fe...             ACTIVE   \n",
       "...                                                                                                                  ...   \n",
       "ffffbbf78b6eaac697a8a5dfbfd2bfa8113ee5b403e4747... ffffbbf78b6eaac697a8a5dfbfd2bfa8113ee5b403e4747...                 No   \n",
       "ffffcd5046a6143d29a04fb8c424ce494a76e5cdf4fab53... ffffcd5046a6143d29a04fb8c424ce494a76e5cdf4fab53...                 No   \n",
       "ffffcf35913a0bee60e8741cb2b4e78b8a98ee5ff2e6a17... ffffcf35913a0bee60e8741cb2b4e78b8a98ee5ff2e6a17...                 No   \n",
       "ffffd7744cebcf3aca44ae7049d2a94b87074c3d4ffe38b... ffffd7744cebcf3aca44ae7049d2a94b87074c3d4ffe38b...                 No   \n",
       "ffffd9ac14e89946416d80e791d064701994755c3ab686a... ffffd9ac14e89946416d80e791d064701994755c3ab686a...                 No   \n",
       "\n",
       "                                                                                                      fashion_news_frequency  \\\n",
       "customer_id                                        customer_id                                                                 \n",
       "00000dbacae5abe5e23885899a1fa44253a17956c6d1c3d... 00000dbacae5abe5e23885899a1fa44253a17956c6d1c3d...                   NONE   \n",
       "0000423b00ade91418cceaf3b26c6af3dd342b51fd051ee... 0000423b00ade91418cceaf3b26c6af3dd342b51fd051ee...                   NONE   \n",
       "000058a12d5b43e67d225668fa1f8d618c13dc232df0cad... 000058a12d5b43e67d225668fa1f8d618c13dc232df0cad...                   NONE   \n",
       "00005ca1c9ed5f5146b52ac8639a40ca9d57aeff4d1bd2c... 00005ca1c9ed5f5146b52ac8639a40ca9d57aeff4d1bd2c...                   NONE   \n",
       "00006413d8573cd20ed7128e53b7b13819fe5cfc2d801fe... 00006413d8573cd20ed7128e53b7b13819fe5cfc2d801fe...              Regularly   \n",
       "...                                                                                                                      ...   \n",
       "ffffbbf78b6eaac697a8a5dfbfd2bfa8113ee5b403e4747... ffffbbf78b6eaac697a8a5dfbfd2bfa8113ee5b403e4747...                   None   \n",
       "ffffcd5046a6143d29a04fb8c424ce494a76e5cdf4fab53... ffffcd5046a6143d29a04fb8c424ce494a76e5cdf4fab53...                   None   \n",
       "ffffcf35913a0bee60e8741cb2b4e78b8a98ee5ff2e6a17... ffffcf35913a0bee60e8741cb2b4e78b8a98ee5ff2e6a17...                   None   \n",
       "ffffd7744cebcf3aca44ae7049d2a94b87074c3d4ffe38b... ffffd7744cebcf3aca44ae7049d2a94b87074c3d4ffe38b...                   None   \n",
       "ffffd9ac14e89946416d80e791d064701994755c3ab686a... ffffd9ac14e89946416d80e791d064701994755c3ab686a...                   None   \n",
       "\n",
       "                                                                                                        age  \n",
       "customer_id                                        customer_id                                               \n",
       "00000dbacae5abe5e23885899a1fa44253a17956c6d1c3d... 00000dbacae5abe5e23885899a1fa44253a17956c6d1c3d...  49.0  \n",
       "0000423b00ade91418cceaf3b26c6af3dd342b51fd051ee... 0000423b00ade91418cceaf3b26c6af3dd342b51fd051ee...  25.0  \n",
       "000058a12d5b43e67d225668fa1f8d618c13dc232df0cad... 000058a12d5b43e67d225668fa1f8d618c13dc232df0cad...  24.0  \n",
       "00005ca1c9ed5f5146b52ac8639a40ca9d57aeff4d1bd2c... 00005ca1c9ed5f5146b52ac8639a40ca9d57aeff4d1bd2c...  54.0  \n",
       "00006413d8573cd20ed7128e53b7b13819fe5cfc2d801fe... 00006413d8573cd20ed7128e53b7b13819fe5cfc2d801fe...  52.0  \n",
       "...                                                                                                     ...  \n",
       "ffffbbf78b6eaac697a8a5dfbfd2bfa8113ee5b403e4747... ffffbbf78b6eaac697a8a5dfbfd2bfa8113ee5b403e4747...  31.0  \n",
       "ffffcd5046a6143d29a04fb8c424ce494a76e5cdf4fab53... ffffcd5046a6143d29a04fb8c424ce494a76e5cdf4fab53...  31.0  \n",
       "ffffcf35913a0bee60e8741cb2b4e78b8a98ee5ff2e6a17... ffffcf35913a0bee60e8741cb2b4e78b8a98ee5ff2e6a17...  31.0  \n",
       "ffffd7744cebcf3aca44ae7049d2a94b87074c3d4ffe38b... ffffd7744cebcf3aca44ae7049d2a94b87074c3d4ffe38b...  31.0  \n",
       "ffffd9ac14e89946416d80e791d064701994755c3ab686a... ffffd9ac14e89946416d80e791d064701994755c3ab686a...  31.0  \n",
       "\n",
       "[1291147 rows x 8 columns]"
      ]
     },
     "execution_count": 145,
     "metadata": {},
     "output_type": "execute_result"
    }
   ],
   "source": [
    "X"
   ]
  },
  {
   "cell_type": "code",
   "execution_count": 142,
   "id": "7231be38",
   "metadata": {},
   "outputs": [],
   "source": [
    "Y_class = features_final[['Flag_90days']]"
   ]
  },
  {
   "cell_type": "code",
   "execution_count": 144,
   "id": "3397e6fe",
   "metadata": {},
   "outputs": [],
   "source": [
    "Y_reg = features_final[['spent_90days']]"
   ]
  },
  {
   "cell_type": "markdown",
   "id": "74f25cb5",
   "metadata": {},
   "source": [
    "# Categorical encoding on the features"
   ]
  },
  {
   "cell_type": "code",
   "execution_count": 147,
   "id": "e13441c2",
   "metadata": {},
   "outputs": [],
   "source": [
    "from sklearn.compose import ColumnTransformer\n",
    "from sklearn.preprocessing import OneHotEncoder, LabelEncoder\n",
    "ct = ColumnTransformer(transformers = [('encoder', OneHotEncoder(), [4,5,6])], remainder = 'passthrough')\n",
    "XX = ct.fit_transform(X)\n",
    "                        \n",
    "# lt = LabelEncoder()\n",
    "# features_final.sales_channel_id = lt.fit_transform(features_final.sales_channel_id)\n",
    "# features_final.club_member_status = lt.fit_transform(features_final.club_member_status)\n",
    "# features_final.fashion_news_frequency = lt.fit_transform(features_final.fashion_news_frequency)\n",
    "\n",
    "                                       "
   ]
  },
  {
   "cell_type": "code",
   "execution_count": 165,
   "id": "c16a9501",
   "metadata": {},
   "outputs": [
    {
     "data": {
      "text/plain": [
       "(1291147, 15)"
      ]
     },
     "execution_count": 165,
     "metadata": {},
     "output_type": "execute_result"
    }
   ],
   "source": [
    "XX.shape"
   ]
  },
  {
   "cell_type": "markdown",
   "id": "d5318d14",
   "metadata": {},
   "source": [
    "# SMOTE"
   ]
  },
  {
   "cell_type": "code",
   "execution_count": 166,
   "id": "bf9abad2",
   "metadata": {},
   "outputs": [],
   "source": [
    "oversample = SMOTE()\n",
    "XX,Y_class=oversample.fit_resample(XX,Y_class)"
   ]
  },
  {
   "cell_type": "code",
   "execution_count": 182,
   "id": "ed33f1b7",
   "metadata": {},
   "outputs": [
    {
     "data": {
      "text/plain": [
       "<AxesSubplot:ylabel='count'>"
      ]
     },
     "execution_count": 182,
     "metadata": {},
     "output_type": "execute_result"
    },
    {
     "data": {
      "image/png": "[encoded data removed]",
      "text/plain": [
       "<Figure size 432x288 with 1 Axes>"
      ]
     },
     "metadata": {
      "needs_background": "light"
     },
     "output_type": "display_data"
    }
   ],
   "source": [
    "sns.countplot(x=Y_class)"
   ]
  },
  {
   "cell_type": "code",
   "execution_count": 183,
   "id": "b8fde02f",
   "metadata": {},
   "outputs": [
    {
     "data": {
      "text/plain": [
       "(1686722,)"
      ]
     },
     "execution_count": 183,
     "metadata": {},
     "output_type": "execute_result"
    }
   ],
   "source": [
    "Y_class.shape"
   ]
  },
  {
   "cell_type": "code",
   "execution_count": null,
   "id": "998c0a73",
   "metadata": {},
   "outputs": [],
   "source": []
  },
  {
   "cell_type": "code",
   "execution_count": null,
   "id": "df88e78e",
   "metadata": {},
   "outputs": [],
   "source": [
    "#Correlation"
   ]
  },
  {
   "cell_type": "code",
   "execution_count": null,
   "id": "edc09d8d",
   "metadata": {},
   "outputs": [],
   "source": [
    "r = features_final.corr()\n",
    "sns.heatmap(r,vmax=.8,square=True)"
   ]
  },
  {
   "cell_type": "code",
   "execution_count": null,
   "id": "6a30d795",
   "metadata": {},
   "outputs": [],
   "source": [
    "#Normalization"
   ]
  },
  {
   "cell_type": "code",
   "execution_count": null,
   "id": "12de2d25",
   "metadata": {},
   "outputs": [],
   "source": []
  },
  {
   "cell_type": "code",
   "execution_count": null,
   "id": "b18b1e9b",
   "metadata": {},
   "outputs": [],
   "source": [
    "#Abt\n",
    "#Norm\n",
    "          #Age\n",
    "          #correlatio\n",
    "          #art\n",
    "        #mode sales \n",
    "       #age sepearate\n",
    "          #article ID, FN, Active remove\n",
    "#yes and nO using Active(based on lastest)\n",
    "          #Data quality value\n",
    "         #Sales channel mode"
   ]
  },
  {
   "cell_type": "markdown",
   "id": "92033a21",
   "metadata": {},
   "source": [
    "##ML (removed classify thib=ng look into it)"
   ]
  },
  {
   "cell_type": "code",
   "execution_count": null,
   "id": "44c0103e",
   "metadata": {},
   "outputs": [],
   "source": [
    "features_final"
   ]
  },
  {
   "cell_type": "markdown",
   "id": "fb7f355e",
   "metadata": {},
   "source": [
    "# Train Test split"
   ]
  },
  {
   "cell_type": "code",
   "execution_count": null,
   "id": "b71e0506",
   "metadata": {},
   "outputs": [],
   "source": [
    "yuyu = features_final[['recency','frequency','Monertary','price_mean','sales_channel_id','club_member_status','fashion_news_frequency','age']]"
   ]
  },
  {
   "cell_type": "code",
   "execution_count": null,
   "id": "a232b28e",
   "metadata": {},
   "outputs": [],
   "source": [
    "#XX = features_finall.drop(columns=[14,15], inplace=True)\n",
    "#YY = features_finall[15]\n",
    "# YY = features_final[['Flag_90days']]"
   ]
  },
  {
   "cell_type": "code",
   "execution_count": null,
   "id": "b1331a2d",
   "metadata": {},
   "outputs": [],
   "source": [
    "#XX = features_final[['recency','frequency','Monertary','price_mean','age','sales_channel_id']]\n",
    "#XX = features_finall[[0,1,2,3,4,5,6,7,8,9,10,11,12,13,16]]\n",
    "# XX = features_final[['recency','frequency','Monertary','price_mean','sales_channel_id','club_member_status','fashion_news_frequency','age']]"
   ]
  },
  {
   "cell_type": "code",
   "execution_count": 181,
   "id": "83ecf690",
   "metadata": {},
   "outputs": [
    {
     "data": {
      "text/plain": [
       "(1686722, 15)"
      ]
     },
     "execution_count": 181,
     "metadata": {},
     "output_type": "execute_result"
    }
   ],
   "source": [
    "XX.shape"
   ]
  },
  {
   "cell_type": "code",
   "execution_count": 264,
   "id": "37d1f785",
   "metadata": {},
   "outputs": [
    {
     "data": {
      "text/plain": [
       "(1686722,)"
      ]
     },
     "execution_count": 264,
     "metadata": {},
     "output_type": "execute_result"
    }
   ],
   "source": [
    "Y_class.shape"
   ]
  },
  {
   "cell_type": "code",
   "execution_count": 265,
   "id": "ace22c55",
   "metadata": {},
   "outputs": [
    {
     "data": {
      "text/plain": [
       "(1291147, 1)"
      ]
     },
     "execution_count": 265,
     "metadata": {},
     "output_type": "execute_result"
    }
   ],
   "source": [
    "Y_reg.shape"
   ]
  },
  {
   "cell_type": "code",
   "execution_count": 168,
   "id": "e7563f73",
   "metadata": {},
   "outputs": [],
   "source": [
    "from sklearn.preprocessing import LabelEncoder\n",
    "xx = LabelEncoder()\n",
    "Y_class = xx.fit_transform(Y_class)"
   ]
  },
  {
   "cell_type": "code",
   "execution_count": 169,
   "id": "198fa348",
   "metadata": {},
   "outputs": [
    {
     "data": {
      "text/plain": [
       "array([1, 1, 1, ..., 1, 1, 1])"
      ]
     },
     "execution_count": 169,
     "metadata": {},
     "output_type": "execute_result"
    }
   ],
   "source": [
    "Y_class"
   ]
  },
  {
   "cell_type": "code",
   "execution_count": 178,
   "id": "045f3499",
   "metadata": {},
   "outputs": [],
   "source": [
    "from sklearn.model_selection import train_test_split\n",
    "X_trainn,X_testt, Y_trainn, Y_testt = train_test_split(XX,Y_class,test_size=0.1,random_state=42)"
   ]
  },
  {
   "cell_type": "code",
   "execution_count": 179,
   "id": "159bb32f",
   "metadata": {},
   "outputs": [
    {
     "data": {
      "text/plain": [
       "(1518049, 15)"
      ]
     },
     "execution_count": 179,
     "metadata": {},
     "output_type": "execute_result"
    }
   ],
   "source": [
    "X_trainn.shape"
   ]
  },
  {
   "cell_type": "code",
   "execution_count": 180,
   "id": "1cc5d459",
   "metadata": {},
   "outputs": [
    {
     "data": {
      "text/plain": [
       "(1518049,)"
      ]
     },
     "execution_count": 180,
     "metadata": {},
     "output_type": "execute_result"
    }
   ],
   "source": [
    "Y_trainn.shape"
   ]
  },
  {
   "cell_type": "markdown",
   "id": "d9ec7c94",
   "metadata": {},
   "source": [
    "# Logistic regression"
   ]
  },
  {
   "cell_type": "code",
   "execution_count": 184,
   "id": "984de767",
   "metadata": {},
   "outputs": [
    {
     "name": "stderr",
     "output_type": "stream",
     "text": [
      "/Users/rohith/opt/anaconda3/envs/vaibhav/lib/python3.7/site-packages/sklearn/linear_model/_logistic.py:818: ConvergenceWarning: lbfgs failed to converge (status=1):\n",
      "STOP: TOTAL NO. of ITERATIONS REACHED LIMIT.\n",
      "\n",
      "Increase the number of iterations (max_iter) or scale the data as shown in:\n",
      "    https://scikit-learn.org/stable/modules/preprocessing.html\n",
      "Please also refer to the documentation for alternative solver options:\n",
      "    https://scikit-learn.org/stable/modules/linear_model.html#logistic-regression\n",
      "  extra_warning_msg=_LOGISTIC_SOLVER_CONVERGENCE_MSG,\n"
     ]
    },
    {
     "data": {
      "text/plain": [
       "LogisticRegression()"
      ]
     },
     "execution_count": 184,
     "metadata": {},
     "output_type": "execute_result"
    }
   ],
   "source": [
    "LR =LogisticRegression()\n",
    "LR.fit(X_trainn,Y_trainn)"
   ]
  },
  {
   "cell_type": "code",
   "execution_count": 248,
   "id": "a690ec18",
   "metadata": {},
   "outputs": [],
   "source": [
    "y_pred_LR = LR.predict(X_testt)"
   ]
  },
  {
   "cell_type": "code",
   "execution_count": 249,
   "id": "5527be34",
   "metadata": {},
   "outputs": [
    {
     "data": {
      "text/plain": [
       "0.7579458478831822"
      ]
     },
     "execution_count": 249,
     "metadata": {},
     "output_type": "execute_result"
    }
   ],
   "source": [
    "from sklearn.metrics import accuracy_score\n",
    "accuracy_score(y_pred_LR,Y_testt)"
   ]
  },
  {
   "cell_type": "code",
   "execution_count": 250,
   "id": "23fe3311",
   "metadata": {},
   "outputs": [
    {
     "name": "stdout",
     "output_type": "stream",
     "text": [
      "              precision    recall  f1-score   support\n",
      "\n",
      "           0       0.77      0.73      0.75     84174\n",
      "           1       0.74      0.79      0.77     84499\n",
      "\n",
      "    accuracy                           0.76    168673\n",
      "   macro avg       0.76      0.76      0.76    168673\n",
      "weighted avg       0.76      0.76      0.76    168673\n",
      "\n"
     ]
    }
   ],
   "source": [
    "from sklearn.metrics import classification_report\n",
    "print(classification_report(Y_testt,y_pred_LR))"
   ]
  },
  {
   "cell_type": "markdown",
   "id": "d457062f",
   "metadata": {},
   "source": [
    "## Random Forest Classifier"
   ]
  },
  {
   "cell_type": "code",
   "execution_count": 187,
   "id": "15a2b9c4",
   "metadata": {},
   "outputs": [
    {
     "data": {
      "text/plain": [
       "RandomForestClassifier()"
      ]
     },
     "execution_count": 187,
     "metadata": {},
     "output_type": "execute_result"
    }
   ],
   "source": [
    "\n",
    "model1 = RandomForestClassifier()\n",
    "model1.fit(X_trainn,Y_trainn)\n"
   ]
  },
  {
   "cell_type": "code",
   "execution_count": 188,
   "id": "62488254",
   "metadata": {},
   "outputs": [],
   "source": [
    "wdy_pred = model1.predict(X_testt)"
   ]
  },
  {
   "cell_type": "code",
   "execution_count": 189,
   "id": "6022f523",
   "metadata": {},
   "outputs": [
    {
     "data": {
      "text/plain": [
       "0.8020785780771078"
      ]
     },
     "execution_count": 189,
     "metadata": {},
     "output_type": "execute_result"
    }
   ],
   "source": [
    "from sklearn.metrics import accuracy_score\n",
    "accuracy_score(wdy_pred,Y_testt)"
   ]
  },
  {
   "cell_type": "code",
   "execution_count": 190,
   "id": "39a1bd76",
   "metadata": {},
   "outputs": [
    {
     "name": "stdout",
     "output_type": "stream",
     "text": [
      "              precision    recall  f1-score   support\n",
      "\n",
      "           0       0.81      0.79      0.80     84174\n",
      "           1       0.80      0.81      0.80     84499\n",
      "\n",
      "    accuracy                           0.80    168673\n",
      "   macro avg       0.80      0.80      0.80    168673\n",
      "weighted avg       0.80      0.80      0.80    168673\n",
      "\n"
     ]
    }
   ],
   "source": [
    "from sklearn.metrics import classification_report\n",
    "print(classification_report(Y_testt,wdy_pred))"
   ]
  },
  {
   "cell_type": "code",
   "execution_count": null,
   "id": "403cdf3e",
   "metadata": {},
   "outputs": [],
   "source": [
    "# bootstrap= True, criterion= 'entropy', max_depth= 5, \n",
    "#                                   max_features= 2, min_samples_leaf= 1, n_estimators = 300\n"
   ]
  },
  {
   "cell_type": "code",
   "execution_count": 201,
   "id": "1dca4c3f",
   "metadata": {},
   "outputs": [
    {
     "data": {
      "text/plain": [
       "0.996572574403066"
      ]
     },
     "execution_count": 201,
     "metadata": {},
     "output_type": "execute_result"
    }
   ],
   "source": [
    "accuracy_score(Y_trainn,model1.predict(X_trainn))"
   ]
  },
  {
   "cell_type": "code",
   "execution_count": 207,
   "id": "ba8da6a0",
   "metadata": {},
   "outputs": [],
   "source": [
    "from sklearn.model_selection import GridSearchCV\n",
    "\n",
    "rfc = RandomForestClassifier()\n",
    "\n",
    "forest_params = [{'max_depth': list(range(7, 10)) }]\n",
    "\n",
    "clf = GridSearchCV(rfc, forest_params, cv = 2, scoring='accuracy', verbose=3)\n"
   ]
  },
  {
   "cell_type": "code",
   "execution_count": 208,
   "id": "b07f87c4",
   "metadata": {},
   "outputs": [
    {
     "name": "stdout",
     "output_type": "stream",
     "text": [
      "Fitting 2 folds for each of 3 candidates, totalling 6 fits\n",
      "[CV 1/2] END .......................max_depth=7;, score=0.767 total time=  42.4s\n",
      "[CV 2/2] END .......................max_depth=7;, score=0.767 total time=  41.3s\n",
      "[CV 1/2] END .......................max_depth=8;, score=0.770 total time=  46.7s\n",
      "[CV 2/2] END .......................max_depth=8;, score=0.770 total time=  45.9s\n",
      "[CV 1/2] END .......................max_depth=9;, score=0.774 total time=  48.9s\n",
      "[CV 2/2] END .......................max_depth=9;, score=0.772 total time=  48.3s\n"
     ]
    },
    {
     "data": {
      "text/plain": [
       "GridSearchCV(cv=2, estimator=RandomForestClassifier(),\n",
       "             param_grid=[{'max_depth': [7, 8, 9]}], scoring='accuracy',\n",
       "             verbose=3)"
      ]
     },
     "execution_count": 208,
     "metadata": {},
     "output_type": "execute_result"
    }
   ],
   "source": [
    "clf.fit(X_trainn, Y_trainn)"
   ]
  },
  {
   "cell_type": "code",
   "execution_count": 209,
   "id": "611836f6",
   "metadata": {},
   "outputs": [
    {
     "data": {
      "text/plain": [
       "RandomForestClassifier(max_depth=9)"
      ]
     },
     "execution_count": 209,
     "metadata": {},
     "output_type": "execute_result"
    }
   ],
   "source": [
    "clf.best_estimator_"
   ]
  },
  {
   "cell_type": "code",
   "execution_count": 246,
   "id": "e8ba1a7c",
   "metadata": {},
   "outputs": [],
   "source": [
    "rfc_f = RandomForestClassifier(max_depth=50)\n",
    "rfc_f.fit(X_trainn,Y_trainn)\n",
    "y_pred = rfc_f.predict(X_testt)"
   ]
  },
  {
   "cell_type": "code",
   "execution_count": 247,
   "id": "3e0c40bd",
   "metadata": {},
   "outputs": [
    {
     "data": {
      "text/plain": [
       "0.8022090079621517"
      ]
     },
     "execution_count": 247,
     "metadata": {},
     "output_type": "execute_result"
    }
   ],
   "source": [
    "from sklearn.metrics import accuracy_score\n",
    "accuracy_score(y_pred, Y_testt)"
   ]
  },
  {
   "cell_type": "code",
   "execution_count": 245,
   "id": "3d929ae7",
   "metadata": {},
   "outputs": [
    {
     "data": {
      "text/plain": [
       "0.9965646695198903"
      ]
     },
     "execution_count": 245,
     "metadata": {},
     "output_type": "execute_result"
    }
   ],
   "source": [
    "accuracy_score(Y_trainn, rfc_f.predict(X_trainn))"
   ]
  },
  {
   "cell_type": "code",
   "execution_count": null,
   "id": "36b6b8c2",
   "metadata": {},
   "outputs": [],
   "source": [
    "y_pred = clf.predict(X_testt)"
   ]
  },
  {
   "cell_type": "code",
   "execution_count": null,
   "id": "05daab01",
   "metadata": {},
   "outputs": [],
   "source": [
    "from sklearn.metrics import accuracy_score\n",
    "accuracy_score(y_pred, Y_testt)"
   ]
  },
  {
   "cell_type": "code",
   "execution_count": null,
   "id": "63d2da26",
   "metadata": {},
   "outputs": [],
   "source": []
  },
  {
   "cell_type": "code",
   "execution_count": null,
   "id": "462688c7",
   "metadata": {},
   "outputs": [],
   "source": [
    "from xgboost import XGBClassifier\n",
    "xgb = XGBClassifier(max_depth=2,\n",
    "                   subsample=1,\n",
    "                   n_estimators=100,\n",
    "                   learning_rate=0.1)\n",
    "xgb.fit(X_trainn,Y_trainn)\n"
   ]
  },
  {
   "cell_type": "code",
   "execution_count": null,
   "id": "3a58f2f7",
   "metadata": {},
   "outputs": [],
   "source": [
    "y_prediction = xgb.predict(X_testt)"
   ]
  },
  {
   "cell_type": "code",
   "execution_count": null,
   "id": "cd9e2b86",
   "metadata": {},
   "outputs": [],
   "source": [
    "accuracy_score(y_prediction,Y_testt)"
   ]
  },
  {
   "cell_type": "code",
   "execution_count": null,
   "id": "6d76f425",
   "metadata": {},
   "outputs": [],
   "source": [
    "accuracy_score(Y_trainn, xgb.predict(X_trainn))"
   ]
  },
  {
   "cell_type": "code",
   "execution_count": null,
   "id": "06e29bcb",
   "metadata": {},
   "outputs": [],
   "source": [
    "#Underfitting above"
   ]
  },
  {
   "cell_type": "code",
   "execution_count": null,
   "id": "3e2a9497",
   "metadata": {},
   "outputs": [],
   "source": []
  },
  {
   "cell_type": "code",
   "execution_count": null,
   "id": "0377402c",
   "metadata": {},
   "outputs": [],
   "source": [
    "clf_xgb = XGBClassifier(objective='binary:logistic', missing=None,seed=42)\n",
    "clf_xgb.fit(X_trainn,Y_trainn,verbose=True,early_stopping_rounds=10,\n",
    "           eval_metric='aucpr',\n",
    "           eval_set=[(X_testt,Y_testt)])"
   ]
  },
  {
   "cell_type": "code",
   "execution_count": null,
   "id": "554baab6",
   "metadata": {},
   "outputs": [],
   "source": [
    "y_pred = clf_xgb.predict(X_testt)"
   ]
  },
  {
   "cell_type": "code",
   "execution_count": null,
   "id": "b2884e97",
   "metadata": {},
   "outputs": [],
   "source": [
    "from sklearn.metrics import confusion_matrix,accuracy_score\n",
    "accuracy_score(y_pred,Y_testt)"
   ]
  },
  {
   "cell_type": "code",
   "execution_count": null,
   "id": "d7016782",
   "metadata": {},
   "outputs": [],
   "source": [
    "Y_testt"
   ]
  },
  {
   "cell_type": "code",
   "execution_count": null,
   "id": "910506e6",
   "metadata": {},
   "outputs": [],
   "source": [
    "######\n",
    "param_grid = {'max_depth':[4],\n",
    "             'learning_rate': [0.1,0.5,1],\n",
    "             'gamma': [0.25],\n",
    "             'reg_lambda': [10.0,20,100],\n",
    "             'scale_pos_weight': [3]}"
   ]
  },
  {
   "cell_type": "code",
   "execution_count": null,
   "id": "4d4a314f",
   "metadata": {},
   "outputs": [],
   "source": [
    "optimal_params = GridSearchCV(estimator=XGBClassifier(objective='binary:logistic',seed=42,subsample=0.9,colsample_bytree=0.5),\n",
    "                             param_grid=param_grid,\n",
    "                             scoring='roc_auc',\n",
    "                             verbose=0,\n",
    "                             n_jobs=10,\n",
    "                              cv=3)"
   ]
  },
  {
   "cell_type": "code",
   "execution_count": null,
   "id": "b963f2db",
   "metadata": {},
   "outputs": [],
   "source": []
  },
  {
   "cell_type": "code",
   "execution_count": 212,
   "id": "868cffa7",
   "metadata": {},
   "outputs": [],
   "source": [
    "from xgboost import XGBClassifier"
   ]
  },
  {
   "cell_type": "code",
   "execution_count": 215,
   "id": "4f803371",
   "metadata": {},
   "outputs": [
    {
     "name": "stdout",
     "output_type": "stream",
     "text": [
      "{'max_depth': [3, 4, 5, 10, 15, 20], 'learning_rate': [0.1, 0.01, 0.5], 'gamma': [0, 0.25, 1.0], 'reg_lambda': [0, 1.0, 10.0, 15], 'scale_pos_weight': [1, 3, 5, 10, 13]}\n"
     ]
    }
   ],
   "source": [
    "xgb = XGBClassifier()\n",
    "\n",
    "random_grid = {'max_depth':[3,4,5,10,15,20],\n",
    "               'learning_rate':[0.1,0.01,0.5],\n",
    "               'gamma': [0,0.25,1.0],\n",
    "               'reg_lambda':[0,1.0,10.0,15],\n",
    "               'scale_pos_weight':[1,3,5,10,13]}\n",
    "print(random_grid)"
   ]
  },
  {
   "cell_type": "code",
   "execution_count": 216,
   "id": "8805d7fd",
   "metadata": {},
   "outputs": [
    {
     "name": "stdout",
     "output_type": "stream",
     "text": [
      "Fitting 3 folds for each of 10 candidates, totalling 30 fits\n",
      "[CV] END gamma=1.0, learning_rate=0.1, max_depth=10, reg_lambda=10.0, scale_pos_weight=5; total time= 6.3min\n",
      "[CV] END gamma=0, learning_rate=0.5, max_depth=20, reg_lambda=10.0, scale_pos_weight=1; total time=13.5min\n",
      "[CV] END gamma=0, learning_rate=0.1, max_depth=10, reg_lambda=15, scale_pos_weight=13; total time= 6.3min\n",
      "[CV] END gamma=0, learning_rate=0.1, max_depth=5, reg_lambda=10.0, scale_pos_weight=10; total time= 2.9min\n",
      "[CV] END gamma=1.0, learning_rate=0.1, max_depth=15, reg_lambda=0, scale_pos_weight=5; total time=10.8min\n"
     ]
    },
    {
     "data": {
      "text/plain": [
       "RandomizedSearchCV(cv=3,\n",
       "                   estimator=XGBClassifier(base_score=None, booster=None,\n",
       "                                           callbacks=None,\n",
       "                                           colsample_bylevel=None,\n",
       "                                           colsample_bynode=None,\n",
       "                                           colsample_bytree=None,\n",
       "                                           early_stopping_rounds=None,\n",
       "                                           enable_categorical=False,\n",
       "                                           eval_metric=None, gamma=None,\n",
       "                                           gpu_id=None, grow_policy=None,\n",
       "                                           importance_type=None,\n",
       "                                           interaction_constraints=None,\n",
       "                                           learning_rate=None, max_bin=None,...\n",
       "                                           min_child_weight=None, missing=nan,\n",
       "                                           monotone_constraints=None,\n",
       "                                           n_estimators=100, n_jobs=None,\n",
       "                                           num_parallel_tree=None,\n",
       "                                           predictor=None, random_state=None,\n",
       "                                           reg_alpha=None, reg_lambda=None, ...),\n",
       "                   n_jobs=-1,\n",
       "                   param_distributions={'gamma': [0, 0.25, 1.0],\n",
       "                                        'learning_rate': [0.1, 0.01, 0.5],\n",
       "                                        'max_depth': [3, 4, 5, 10, 15, 20],\n",
       "                                        'reg_lambda': [0, 1.0, 10.0, 15],\n",
       "                                        'scale_pos_weight': [1, 3, 5, 10, 13]},\n",
       "                   random_state=100, verbose=2)"
      ]
     },
     "execution_count": 216,
     "metadata": {},
     "output_type": "execute_result"
    }
   ],
   "source": [
    "xgf_randomized = RandomizedSearchCV(estimator=xgb,param_distributions=random_grid,n_iter=10,cv=3,verbose=2,random_state=100,n_jobs=-1)\n",
    "xgf_randomized.fit(X_trainn,Y_trainn)"
   ]
  },
  {
   "cell_type": "code",
   "execution_count": 217,
   "id": "aa1d9461",
   "metadata": {},
   "outputs": [
    {
     "data": {
      "text/plain": [
       "{'scale_pos_weight': 1,\n",
       " 'reg_lambda': 0,\n",
       " 'max_depth': 5,\n",
       " 'learning_rate': 0.5,\n",
       " 'gamma': 0}"
      ]
     },
     "execution_count": 217,
     "metadata": {},
     "output_type": "execute_result"
    }
   ],
   "source": [
    "xgf_randomized.best_params_"
   ]
  },
  {
   "cell_type": "code",
   "execution_count": 218,
   "id": "1d9e553c",
   "metadata": {},
   "outputs": [
    {
     "data": {
      "text/plain": [
       "XGBClassifier(base_score=0.5, booster='gbtree', callbacks=None,\n",
       "              colsample_bylevel=1, colsample_bynode=1, colsample_bytree=1,\n",
       "              early_stopping_rounds=None, enable_categorical=False,\n",
       "              eval_metric=None, gamma=0, gpu_id=-1, grow_policy='depthwise',\n",
       "              importance_type=None, interaction_constraints='',\n",
       "              learning_rate=0.5, max_bin=256, max_cat_to_onehot=4,\n",
       "              max_delta_step=0, max_depth=5, max_leaves=0, min_child_weight=1,\n",
       "              missing=nan, monotone_constraints='()', n_estimators=100,\n",
       "              n_jobs=0, num_parallel_tree=1, predictor='auto', random_state=0,\n",
       "              reg_alpha=0, reg_lambda=0, ...)"
      ]
     },
     "execution_count": 218,
     "metadata": {},
     "output_type": "execute_result"
    }
   ],
   "source": [
    "xgf_randomized.best_estimator_"
   ]
  },
  {
   "cell_type": "code",
   "execution_count": 219,
   "id": "62439a9f",
   "metadata": {},
   "outputs": [],
   "source": [
    "best_gridd = xgf_randomized.best_estimator_"
   ]
  },
  {
   "cell_type": "code",
   "execution_count": 220,
   "id": "fb757243",
   "metadata": {},
   "outputs": [],
   "source": [
    "y_preddd = best_gridd.predict(X_testt)"
   ]
  },
  {
   "cell_type": "code",
   "execution_count": 221,
   "id": "91ba165d",
   "metadata": {},
   "outputs": [
    {
     "data": {
      "text/plain": [
       "(168673,)"
      ]
     },
     "execution_count": 221,
     "metadata": {},
     "output_type": "execute_result"
    }
   ],
   "source": [
    "y_preddd.shape"
   ]
  },
  {
   "cell_type": "code",
   "execution_count": 222,
   "id": "0db2c3a1",
   "metadata": {},
   "outputs": [
    {
     "data": {
      "text/plain": [
       "(168673, 15)"
      ]
     },
     "execution_count": 222,
     "metadata": {},
     "output_type": "execute_result"
    }
   ],
   "source": [
    "X_testt.shape"
   ]
  },
  {
   "cell_type": "code",
   "execution_count": 223,
   "id": "819b55ca",
   "metadata": {},
   "outputs": [
    {
     "data": {
      "text/plain": [
       "0.8184060282321415"
      ]
     },
     "execution_count": 223,
     "metadata": {},
     "output_type": "execute_result"
    }
   ],
   "source": [
    "accuracy_score(y_preddd,Y_testt)"
   ]
  },
  {
   "cell_type": "code",
   "execution_count": 225,
   "id": "9d6a33ce",
   "metadata": {},
   "outputs": [
    {
     "data": {
      "text/plain": [
       "array([[70875, 13299],\n",
       "       [17331, 67168]])"
      ]
     },
     "execution_count": 225,
     "metadata": {},
     "output_type": "execute_result"
    }
   ],
   "source": [
    "from sklearn.metrics import confusion_matrix, accuracy_score\n",
    "cm = confusion_matrix(Y_testt,y_preddd)\n",
    "cm"
   ]
  },
  {
   "cell_type": "code",
   "execution_count": null,
   "id": "3b91f8a9",
   "metadata": {},
   "outputs": [],
   "source": [
    "# from sklearn.metrics import accuracy_score,precision_score,recall_score,f1_score\n",
    "# print(\"Accuracy\",accuracy_score(Y_testt,y_pr))\n",
    "# print(\"Precesion: %.3f\" %precision_score(Y_testt,y_pr))\n",
    "# print(\"Recall: %.3f\" %recall_score(Y_testt,y_pr))\n",
    "# print(\"F1-score: %.3f\" %f1_score(Y_testt,y_pr))"
   ]
  },
  {
   "cell_type": "markdown",
   "id": "f4e56854",
   "metadata": {},
   "source": [
    "# Stochastic Gradient Descent\n"
   ]
  },
  {
   "cell_type": "code",
   "execution_count": 227,
   "id": "4ce7a051",
   "metadata": {},
   "outputs": [
    {
     "data": {
      "text/plain": [
       "SGDClassifier()"
      ]
     },
     "execution_count": 227,
     "metadata": {},
     "output_type": "execute_result"
    }
   ],
   "source": [
    "Sgd_class = SGDClassifier()\n",
    "Sgd_class.fit(X_trainn,Y_trainn)"
   ]
  },
  {
   "cell_type": "code",
   "execution_count": 228,
   "id": "a9cb3ba3",
   "metadata": {},
   "outputs": [],
   "source": [
    "y_pred_sgd = Sgd_class.predict(X_testt)"
   ]
  },
  {
   "cell_type": "code",
   "execution_count": 229,
   "id": "37ec21c1",
   "metadata": {},
   "outputs": [
    {
     "data": {
      "text/plain": [
       "0.7525092931293094"
      ]
     },
     "execution_count": 229,
     "metadata": {},
     "output_type": "execute_result"
    }
   ],
   "source": [
    "accuracy_score(y_pred_sgd,Y_testt)"
   ]
  },
  {
   "cell_type": "markdown",
   "id": "c14ead84",
   "metadata": {},
   "source": [
    "# Classification AUC "
   ]
  },
  {
   "cell_type": "code",
   "execution_count": 235,
   "id": "ee17b630",
   "metadata": {},
   "outputs": [
    {
     "data": {
      "image/png": "[encoded data removed]",
      "text/plain": [
       "<Figure size 500x500 with 1 Axes>"
      ]
     },
     "metadata": {
      "needs_background": "light"
     },
     "output_type": "display_data"
    }
   ],
   "source": [
    "\n",
    "from sklearn.metrics import roc_curve, auc\n",
    "random_fpr,random_tpr,threshold = roc_curve(Y_testt,wdy_pred)\n",
    "auc_random = auc(random_fpr,random_tpr)\n",
    "\n",
    "xg_fpr,xg_tpr,threshold = roc_curve(Y_testt,y_preddd)\n",
    "auc_xg = auc(xg_fpr,xg_tpr)\n",
    "\n",
    "\n",
    "sgd_fpr,sgd_tpr,threshold = roc_curve(Y_testt,y_pred_sgd)\n",
    "auc_sgd = auc(sgd_fpr,sgd_tpr)\n",
    "\n",
    "lr_fpr,lr_tpr,threshold= roc_curve(Y_testt,y_pred_LR)\n",
    "auc_lr = auc(lr_tpr,lr_fpr)\n",
    "\n",
    "plt.figure(figsize=(5,5), dpi=100)\n",
    "plt.plot(random_fpr,random_tpr,linestyle='-',label='Random_forest (auc=%0.3f)' % auc_random)\n",
    "plt.plot(xg_fpr,xg_tpr,linestyle='--',label='XGB (auc=%0.3f)' % auc_xg)\n",
    "plt.plot(sgd_fpr,sgd_tpr,linestyle='-.',label='SGD (auc=%0.3f)' % auc_sgd)\n",
    "plt.plot(lr_fpr,lr_tpr,linestyle=':',label='LR (auc=%0.3f)' % auc_lr)\n",
    "\n",
    "plt.xlabel('False')\n",
    "plt.ylabel('True')\n",
    "\n",
    "plt.legend()\n",
    "plt.show()\n",
    "\n"
   ]
  },
  {
   "cell_type": "markdown",
   "id": "4adb57d6",
   "metadata": {},
   "source": [
    "# Clustering"
   ]
  },
  {
   "cell_type": "code",
   "execution_count": null,
   "id": "9fbeaf3b",
   "metadata": {},
   "outputs": [],
   "source": [
    "pip install plotly"
   ]
  },
  {
   "cell_type": "code",
   "execution_count": null,
   "id": "694bb76c",
   "metadata": {},
   "outputs": [],
   "source": [
    "\n",
    "import plotly.express as px\n",
    "fig = px.scatter_matrix(XX,\n",
    "width=1200, height=1600)\n",
    "fig.show()"
   ]
  },
  {
   "cell_type": "code",
   "execution_count": null,
   "id": "bc7ec978",
   "metadata": {},
   "outputs": [],
   "source": [
    "\n",
    "from sklearn.cluster import KMeans\n",
    "from sklearn.preprocessing import MinMaxScaler\n",
    "import plotly.graph_objects as go\n",
    "import numpy as np\n",
    "scaler = MinMaxScaler()\n",
    "scaler.fit(XX)\n",
    "XX=scaler.transform(XX)\n",
    "inertia = []\n",
    "for i in range(1,11):\n",
    "    kmeans = KMeans(\n",
    "        n_clusters=i, init=\"k-means++\",\n",
    "        n_init=10,\n",
    "        tol=1e-04, random_state=42\n",
    "    )\n",
    "    kmeans.fit(XX)\n",
    "    inertia.append(kmeans.inertia_)\n",
    "fig = go.Figure(data=go.Scatter(x=np.arange(1,11),y=inertia))\n",
    "fig.update_layout(title=\"Inertia vs Cluster Number\",xaxis=dict(range=[0,11],title=\"Cluster Number\"),\n",
    "                  yaxis={'title':'Inertia'},\n",
    "                 annotations=[\n",
    "        dict(\n",
    "            x=3,\n",
    "            y=inertia[2],\n",
    "            xref=\"x\",\n",
    "            yref=\"y\",\n",
    "            text=\"Elbow!\",\n",
    "            showarrow=True,\n",
    "            arrowhead=7,\n",
    "            ax=20,\n",
    "            ay=-40\n",
    "        )\n",
    "    ])"
   ]
  },
  {
   "cell_type": "code",
   "execution_count": null,
   "id": "8bc87a7e",
   "metadata": {},
   "outputs": [],
   "source": [
    "from sklearn.cluster import KMeans"
   ]
  },
  {
   "cell_type": "code",
   "execution_count": null,
   "id": "3a45c026",
   "metadata": {},
   "outputs": [],
   "source": [
    "km = KMeans(n_clusters=3)\n",
    "km"
   ]
  },
  {
   "cell_type": "code",
   "execution_count": null,
   "id": "a38bb6ee",
   "metadata": {},
   "outputs": [],
   "source": [
    "y_pre = km.fit_predict(XX)"
   ]
  },
  {
   "cell_type": "code",
   "execution_count": null,
   "id": "c330a9bf",
   "metadata": {},
   "outputs": [],
   "source": [
    "y_pre"
   ]
  },
  {
   "cell_type": "code",
   "execution_count": null,
   "id": "0a0ba953",
   "metadata": {},
   "outputs": [],
   "source": [
    "XY = pd.DataFrame(XX,columns=['recency','frequency','Monertary','price_mean','sales_channel_id','club_member_status','fashion_news_frequency','age'])"
   ]
  },
  {
   "cell_type": "code",
   "execution_count": null,
   "id": "4cd8beca",
   "metadata": {},
   "outputs": [],
   "source": [
    "XY['cluster'] = y_pre"
   ]
  },
  {
   "cell_type": "code",
   "execution_count": null,
   "id": "1950d649",
   "metadata": {},
   "outputs": [],
   "source": [
    "XY"
   ]
  },
  {
   "cell_type": "code",
   "execution_count": null,
   "id": "a91293d6",
   "metadata": {},
   "outputs": [],
   "source": [
    "XY.head()"
   ]
  },
  {
   "cell_type": "code",
   "execution_count": null,
   "id": "e2cd3b2a",
   "metadata": {},
   "outputs": [],
   "source": [
    "#PCA\n",
    "from sklearn.decomposition import PCA\n",
    "pca_num_components = 2\n",
    "reduced_data = PCA(n_components = pca_num_components).fit_transform(XY)\n",
    "results = pd.DataFrame(reduced_data,columns=['pca1','pca2'])\n"
   ]
  },
  {
   "cell_type": "code",
   "execution_count": null,
   "id": "8c910b88",
   "metadata": {},
   "outputs": [],
   "source": [
    "import seaborn as sns\n",
    "sns.scatterplot(x=\"pca1\",y=\"pca2\",hue=XY['cluster'],data=results)\n",
    "plt.title('K-means for 2 dimension using PCA')\n",
    "plt.show()"
   ]
  },
  {
   "cell_type": "markdown",
   "id": "2342c254",
   "metadata": {},
   "source": [
    "# Regression"
   ]
  },
  {
   "cell_type": "code",
   "execution_count": 251,
   "id": "b51cea99",
   "metadata": {},
   "outputs": [],
   "source": [
    "YY_reg = features_final[['spent_90days']]"
   ]
  },
  {
   "cell_type": "code",
   "execution_count": null,
   "id": "581a1db5",
   "metadata": {},
   "outputs": [],
   "source": []
  },
  {
   "cell_type": "code",
   "execution_count": 255,
   "id": "b75df698",
   "metadata": {},
   "outputs": [
    {
     "data": {
      "text/plain": [
       "(1291147, 1)"
      ]
     },
     "execution_count": 255,
     "metadata": {},
     "output_type": "execute_result"
    }
   ],
   "source": [
    "YY_reg.shape"
   ]
  },
  {
   "cell_type": "code",
   "execution_count": 257,
   "id": "9c6ef0b8",
   "metadata": {},
   "outputs": [],
   "source": [
    "from sklearn.model_selection import train_test_split\n",
    "X_trainnn,X_testtt, Y_trainnn, Y_testtt = train_test_split(X,YY_reg,test_size=0.1,random_state=42)"
   ]
  },
  {
   "cell_type": "code",
   "execution_count": null,
   "id": "acc55e7c",
   "metadata": {},
   "outputs": [],
   "source": []
  },
  {
   "cell_type": "code",
   "execution_count": 258,
   "id": "40863c67",
   "metadata": {},
   "outputs": [],
   "source": [
    "from xgboost import XGBRegressor\n",
    "\n",
    "xg_regg =  XGBRegressor(objective=\"reg:squarederror\", random_state=123)\n"
   ]
  },
  {
   "cell_type": "code",
   "execution_count": 259,
   "id": "a52b9ba2",
   "metadata": {},
   "outputs": [],
   "source": [
    "xgb_regg_model = GridSearchCV(estimator=xg_regg,param_grid=dict(learning_rate = [0.01,0.1,0.3,0.5]),\n",
    "                                                               scoring = 'neg_mean_absolute_error',\n",
    "                                                               refit = True,\n",
    "                                                               cv = 2)"
   ]
  },
  {
   "cell_type": "code",
   "execution_count": 262,
   "id": "72d63623",
   "metadata": {},
   "outputs": [
    {
     "name": "stderr",
     "output_type": "stream",
     "text": [
      "/Users/rohith/opt/anaconda3/envs/vaibhav/lib/python3.7/site-packages/sklearn/model_selection/_validation.py:372: FitFailedWarning: \n",
      "8 fits failed out of a total of 8.\n",
      "The score on these train-test partitions for these parameters will be set to nan.\n",
      "If these failures are not expected, you can try to debug them by setting error_score='raise'.\n",
      "\n",
      "Below are more details about the failures:\n",
      "--------------------------------------------------------------------------------\n",
      "8 fits failed with the following error:\n",
      "Traceback (most recent call last):\n",
      "  File \"/Users/rohith/opt/anaconda3/envs/vaibhav/lib/python3.7/site-packages/sklearn/model_selection/_validation.py\", line 680, in _fit_and_score\n",
      "    estimator.fit(X_train, y_train, **fit_params)\n",
      "  File \"/Users/rohith/opt/anaconda3/envs/vaibhav/lib/python3.7/site-packages/xgboost/core.py\", line 532, in inner_f\n",
      "    return f(**kwargs)\n",
      "  File \"/Users/rohith/opt/anaconda3/envs/vaibhav/lib/python3.7/site-packages/xgboost/sklearn.py\", line 946, in fit\n",
      "    enable_categorical=self.enable_categorical,\n",
      "  File \"/Users/rohith/opt/anaconda3/envs/vaibhav/lib/python3.7/site-packages/xgboost/sklearn.py\", line 410, in _wrap_evaluation_matrices\n",
      "    enable_categorical=enable_categorical,\n",
      "  File \"/Users/rohith/opt/anaconda3/envs/vaibhav/lib/python3.7/site-packages/xgboost/sklearn.py\", line 945, in <lambda>\n",
      "    create_dmatrix=lambda **kwargs: DMatrix(nthread=self.n_jobs, **kwargs),\n",
      "  File \"/Users/rohith/opt/anaconda3/envs/vaibhav/lib/python3.7/site-packages/xgboost/core.py\", line 532, in inner_f\n",
      "    return f(**kwargs)\n",
      "  File \"/Users/rohith/opt/anaconda3/envs/vaibhav/lib/python3.7/site-packages/xgboost/core.py\", line 649, in __init__\n",
      "    enable_categorical=enable_categorical,\n",
      "  File \"/Users/rohith/opt/anaconda3/envs/vaibhav/lib/python3.7/site-packages/xgboost/data.py\", line 897, in dispatch_data_backend\n",
      "    feature_names, feature_types)\n",
      "  File \"/Users/rohith/opt/anaconda3/envs/vaibhav/lib/python3.7/site-packages/xgboost/data.py\", line 346, in _from_pandas_df\n",
      "    data, enable_categorical, feature_names, feature_types\n",
      "  File \"/Users/rohith/opt/anaconda3/envs/vaibhav/lib/python3.7/site-packages/xgboost/data.py\", line 283, in _transform_pandas_df\n",
      "    _invalid_dataframe_dtype(data)\n",
      "  File \"/Users/rohith/opt/anaconda3/envs/vaibhav/lib/python3.7/site-packages/xgboost/data.py\", line 247, in _invalid_dataframe_dtype\n",
      "    raise ValueError(msg)\n",
      "ValueError: DataFrame.dtypes for data must be int, float, bool or category.  When\n",
      "categorical type is supplied, DMatrix parameter `enable_categorical` must\n",
      "be set to `True`. Invalid columns:club_member_status, fashion_news_frequency\n",
      "\n",
      "  warnings.warn(some_fits_failed_message, FitFailedWarning)\n",
      "/Users/rohith/opt/anaconda3/envs/vaibhav/lib/python3.7/site-packages/sklearn/model_selection/_search.py:972: UserWarning: One or more of the test scores are non-finite: [nan nan nan nan]\n",
      "  category=UserWarning,\n"
     ]
    },
    {
     "ename": "ValueError",
     "evalue": "DataFrame.dtypes for data must be int, float, bool or category.  When\ncategorical type is supplied, DMatrix parameter `enable_categorical` must\nbe set to `True`. Invalid columns:club_member_status, fashion_news_frequency",
     "output_type": "error",
     "traceback": [
      "\u001b[0;31m---------------------------------------------------------------------------\u001b[0m",
      "\u001b[0;31mValueError\u001b[0m                                Traceback (most recent call last)",
      "\u001b[0;32m/var/folders/z1/1m6jsgwx7_5bnzfs27mc12740000gn/T/ipykernel_23139/2678964506.py\u001b[0m in \u001b[0;36m<module>\u001b[0;34m\u001b[0m\n\u001b[0;32m----> 1\u001b[0;31m \u001b[0mxgb_regg_model\u001b[0m\u001b[0;34m.\u001b[0m\u001b[0mfit\u001b[0m\u001b[0;34m(\u001b[0m\u001b[0mX_trainnn\u001b[0m\u001b[0;34m,\u001b[0m\u001b[0mY_trainnn\u001b[0m\u001b[0;34m)\u001b[0m\u001b[0;34m\u001b[0m\u001b[0;34m\u001b[0m\u001b[0m\n\u001b[0m",
      "\u001b[0;32m~/opt/anaconda3/envs/vaibhav/lib/python3.7/site-packages/sklearn/model_selection/_search.py\u001b[0m in \u001b[0;36mfit\u001b[0;34m(self, X, y, groups, **fit_params)\u001b[0m\n\u001b[1;32m    924\u001b[0m             \u001b[0mrefit_start_time\u001b[0m \u001b[0;34m=\u001b[0m \u001b[0mtime\u001b[0m\u001b[0;34m.\u001b[0m\u001b[0mtime\u001b[0m\u001b[0;34m(\u001b[0m\u001b[0;34m)\u001b[0m\u001b[0;34m\u001b[0m\u001b[0;34m\u001b[0m\u001b[0m\n\u001b[1;32m    925\u001b[0m             \u001b[0;32mif\u001b[0m \u001b[0my\u001b[0m \u001b[0;32mis\u001b[0m \u001b[0;32mnot\u001b[0m \u001b[0;32mNone\u001b[0m\u001b[0;34m:\u001b[0m\u001b[0;34m\u001b[0m\u001b[0;34m\u001b[0m\u001b[0m\n\u001b[0;32m--> 926\u001b[0;31m                 \u001b[0mself\u001b[0m\u001b[0;34m.\u001b[0m\u001b[0mbest_estimator_\u001b[0m\u001b[0;34m.\u001b[0m\u001b[0mfit\u001b[0m\u001b[0;34m(\u001b[0m\u001b[0mX\u001b[0m\u001b[0;34m,\u001b[0m \u001b[0my\u001b[0m\u001b[0;34m,\u001b[0m \u001b[0;34m**\u001b[0m\u001b[0mfit_params\u001b[0m\u001b[0;34m)\u001b[0m\u001b[0;34m\u001b[0m\u001b[0;34m\u001b[0m\u001b[0m\n\u001b[0m\u001b[1;32m    927\u001b[0m             \u001b[0;32melse\u001b[0m\u001b[0;34m:\u001b[0m\u001b[0;34m\u001b[0m\u001b[0;34m\u001b[0m\u001b[0m\n\u001b[1;32m    928\u001b[0m                 \u001b[0mself\u001b[0m\u001b[0;34m.\u001b[0m\u001b[0mbest_estimator_\u001b[0m\u001b[0;34m.\u001b[0m\u001b[0mfit\u001b[0m\u001b[0;34m(\u001b[0m\u001b[0mX\u001b[0m\u001b[0;34m,\u001b[0m \u001b[0;34m**\u001b[0m\u001b[0mfit_params\u001b[0m\u001b[0;34m)\u001b[0m\u001b[0;34m\u001b[0m\u001b[0;34m\u001b[0m\u001b[0m\n",
      "\u001b[0;32m~/opt/anaconda3/envs/vaibhav/lib/python3.7/site-packages/xgboost/core.py\u001b[0m in \u001b[0;36minner_f\u001b[0;34m(*args, **kwargs)\u001b[0m\n\u001b[1;32m    530\u001b[0m         \u001b[0;32mfor\u001b[0m \u001b[0mk\u001b[0m\u001b[0;34m,\u001b[0m \u001b[0marg\u001b[0m \u001b[0;32min\u001b[0m \u001b[0mzip\u001b[0m\u001b[0;34m(\u001b[0m\u001b[0msig\u001b[0m\u001b[0;34m.\u001b[0m\u001b[0mparameters\u001b[0m\u001b[0;34m,\u001b[0m \u001b[0margs\u001b[0m\u001b[0;34m)\u001b[0m\u001b[0;34m:\u001b[0m\u001b[0;34m\u001b[0m\u001b[0;34m\u001b[0m\u001b[0m\n\u001b[1;32m    531\u001b[0m             \u001b[0mkwargs\u001b[0m\u001b[0;34m[\u001b[0m\u001b[0mk\u001b[0m\u001b[0;34m]\u001b[0m \u001b[0;34m=\u001b[0m \u001b[0marg\u001b[0m\u001b[0;34m\u001b[0m\u001b[0;34m\u001b[0m\u001b[0m\n\u001b[0;32m--> 532\u001b[0;31m         \u001b[0;32mreturn\u001b[0m \u001b[0mf\u001b[0m\u001b[0;34m(\u001b[0m\u001b[0;34m**\u001b[0m\u001b[0mkwargs\u001b[0m\u001b[0;34m)\u001b[0m\u001b[0;34m\u001b[0m\u001b[0;34m\u001b[0m\u001b[0m\n\u001b[0m\u001b[1;32m    533\u001b[0m \u001b[0;34m\u001b[0m\u001b[0m\n\u001b[1;32m    534\u001b[0m     \u001b[0;32mreturn\u001b[0m \u001b[0minner_f\u001b[0m\u001b[0;34m\u001b[0m\u001b[0;34m\u001b[0m\u001b[0m\n",
      "\u001b[0;32m~/opt/anaconda3/envs/vaibhav/lib/python3.7/site-packages/xgboost/sklearn.py\u001b[0m in \u001b[0;36mfit\u001b[0;34m(self, X, y, sample_weight, base_margin, eval_set, eval_metric, early_stopping_rounds, verbose, xgb_model, sample_weight_eval_set, base_margin_eval_set, feature_weights, callbacks)\u001b[0m\n\u001b[1;32m    944\u001b[0m             \u001b[0meval_qid\u001b[0m\u001b[0;34m=\u001b[0m\u001b[0;32mNone\u001b[0m\u001b[0;34m,\u001b[0m\u001b[0;34m\u001b[0m\u001b[0;34m\u001b[0m\u001b[0m\n\u001b[1;32m    945\u001b[0m             \u001b[0mcreate_dmatrix\u001b[0m\u001b[0;34m=\u001b[0m\u001b[0;32mlambda\u001b[0m \u001b[0;34m**\u001b[0m\u001b[0mkwargs\u001b[0m\u001b[0;34m:\u001b[0m \u001b[0mDMatrix\u001b[0m\u001b[0;34m(\u001b[0m\u001b[0mnthread\u001b[0m\u001b[0;34m=\u001b[0m\u001b[0mself\u001b[0m\u001b[0;34m.\u001b[0m\u001b[0mn_jobs\u001b[0m\u001b[0;34m,\u001b[0m \u001b[0;34m**\u001b[0m\u001b[0mkwargs\u001b[0m\u001b[0;34m)\u001b[0m\u001b[0;34m,\u001b[0m\u001b[0;34m\u001b[0m\u001b[0;34m\u001b[0m\u001b[0m\n\u001b[0;32m--> 946\u001b[0;31m             \u001b[0menable_categorical\u001b[0m\u001b[0;34m=\u001b[0m\u001b[0mself\u001b[0m\u001b[0;34m.\u001b[0m\u001b[0menable_categorical\u001b[0m\u001b[0;34m,\u001b[0m\u001b[0;34m\u001b[0m\u001b[0;34m\u001b[0m\u001b[0m\n\u001b[0m\u001b[1;32m    947\u001b[0m         )\n\u001b[1;32m    948\u001b[0m         \u001b[0mparams\u001b[0m \u001b[0;34m=\u001b[0m \u001b[0mself\u001b[0m\u001b[0;34m.\u001b[0m\u001b[0mget_xgb_params\u001b[0m\u001b[0;34m(\u001b[0m\u001b[0;34m)\u001b[0m\u001b[0;34m\u001b[0m\u001b[0;34m\u001b[0m\u001b[0m\n",
      "\u001b[0;32m~/opt/anaconda3/envs/vaibhav/lib/python3.7/site-packages/xgboost/sklearn.py\u001b[0m in \u001b[0;36m_wrap_evaluation_matrices\u001b[0;34m(missing, X, y, group, qid, sample_weight, base_margin, feature_weights, eval_set, sample_weight_eval_set, base_margin_eval_set, eval_group, eval_qid, create_dmatrix, enable_categorical)\u001b[0m\n\u001b[1;32m    408\u001b[0m         \u001b[0mfeature_weights\u001b[0m\u001b[0;34m=\u001b[0m\u001b[0mfeature_weights\u001b[0m\u001b[0;34m,\u001b[0m\u001b[0;34m\u001b[0m\u001b[0;34m\u001b[0m\u001b[0m\n\u001b[1;32m    409\u001b[0m         \u001b[0mmissing\u001b[0m\u001b[0;34m=\u001b[0m\u001b[0mmissing\u001b[0m\u001b[0;34m,\u001b[0m\u001b[0;34m\u001b[0m\u001b[0;34m\u001b[0m\u001b[0m\n\u001b[0;32m--> 410\u001b[0;31m         \u001b[0menable_categorical\u001b[0m\u001b[0;34m=\u001b[0m\u001b[0menable_categorical\u001b[0m\u001b[0;34m,\u001b[0m\u001b[0;34m\u001b[0m\u001b[0;34m\u001b[0m\u001b[0m\n\u001b[0m\u001b[1;32m    411\u001b[0m     )\n\u001b[1;32m    412\u001b[0m \u001b[0;34m\u001b[0m\u001b[0m\n",
      "\u001b[0;32m~/opt/anaconda3/envs/vaibhav/lib/python3.7/site-packages/xgboost/sklearn.py\u001b[0m in \u001b[0;36m<lambda>\u001b[0;34m(**kwargs)\u001b[0m\n\u001b[1;32m    943\u001b[0m             \u001b[0meval_group\u001b[0m\u001b[0;34m=\u001b[0m\u001b[0;32mNone\u001b[0m\u001b[0;34m,\u001b[0m\u001b[0;34m\u001b[0m\u001b[0;34m\u001b[0m\u001b[0m\n\u001b[1;32m    944\u001b[0m             \u001b[0meval_qid\u001b[0m\u001b[0;34m=\u001b[0m\u001b[0;32mNone\u001b[0m\u001b[0;34m,\u001b[0m\u001b[0;34m\u001b[0m\u001b[0;34m\u001b[0m\u001b[0m\n\u001b[0;32m--> 945\u001b[0;31m             \u001b[0mcreate_dmatrix\u001b[0m\u001b[0;34m=\u001b[0m\u001b[0;32mlambda\u001b[0m \u001b[0;34m**\u001b[0m\u001b[0mkwargs\u001b[0m\u001b[0;34m:\u001b[0m \u001b[0mDMatrix\u001b[0m\u001b[0;34m(\u001b[0m\u001b[0mnthread\u001b[0m\u001b[0;34m=\u001b[0m\u001b[0mself\u001b[0m\u001b[0;34m.\u001b[0m\u001b[0mn_jobs\u001b[0m\u001b[0;34m,\u001b[0m \u001b[0;34m**\u001b[0m\u001b[0mkwargs\u001b[0m\u001b[0;34m)\u001b[0m\u001b[0;34m,\u001b[0m\u001b[0;34m\u001b[0m\u001b[0;34m\u001b[0m\u001b[0m\n\u001b[0m\u001b[1;32m    946\u001b[0m             \u001b[0menable_categorical\u001b[0m\u001b[0;34m=\u001b[0m\u001b[0mself\u001b[0m\u001b[0;34m.\u001b[0m\u001b[0menable_categorical\u001b[0m\u001b[0;34m,\u001b[0m\u001b[0;34m\u001b[0m\u001b[0;34m\u001b[0m\u001b[0m\n\u001b[1;32m    947\u001b[0m         )\n",
      "\u001b[0;32m~/opt/anaconda3/envs/vaibhav/lib/python3.7/site-packages/xgboost/core.py\u001b[0m in \u001b[0;36minner_f\u001b[0;34m(*args, **kwargs)\u001b[0m\n\u001b[1;32m    530\u001b[0m         \u001b[0;32mfor\u001b[0m \u001b[0mk\u001b[0m\u001b[0;34m,\u001b[0m \u001b[0marg\u001b[0m \u001b[0;32min\u001b[0m \u001b[0mzip\u001b[0m\u001b[0;34m(\u001b[0m\u001b[0msig\u001b[0m\u001b[0;34m.\u001b[0m\u001b[0mparameters\u001b[0m\u001b[0;34m,\u001b[0m \u001b[0margs\u001b[0m\u001b[0;34m)\u001b[0m\u001b[0;34m:\u001b[0m\u001b[0;34m\u001b[0m\u001b[0;34m\u001b[0m\u001b[0m\n\u001b[1;32m    531\u001b[0m             \u001b[0mkwargs\u001b[0m\u001b[0;34m[\u001b[0m\u001b[0mk\u001b[0m\u001b[0;34m]\u001b[0m \u001b[0;34m=\u001b[0m \u001b[0marg\u001b[0m\u001b[0;34m\u001b[0m\u001b[0;34m\u001b[0m\u001b[0m\n\u001b[0;32m--> 532\u001b[0;31m         \u001b[0;32mreturn\u001b[0m \u001b[0mf\u001b[0m\u001b[0;34m(\u001b[0m\u001b[0;34m**\u001b[0m\u001b[0mkwargs\u001b[0m\u001b[0;34m)\u001b[0m\u001b[0;34m\u001b[0m\u001b[0;34m\u001b[0m\u001b[0m\n\u001b[0m\u001b[1;32m    533\u001b[0m \u001b[0;34m\u001b[0m\u001b[0m\n\u001b[1;32m    534\u001b[0m     \u001b[0;32mreturn\u001b[0m \u001b[0minner_f\u001b[0m\u001b[0;34m\u001b[0m\u001b[0;34m\u001b[0m\u001b[0m\n",
      "\u001b[0;32m~/opt/anaconda3/envs/vaibhav/lib/python3.7/site-packages/xgboost/core.py\u001b[0m in \u001b[0;36m__init__\u001b[0;34m(self, data, label, weight, base_margin, missing, silent, feature_names, feature_types, nthread, group, qid, label_lower_bound, label_upper_bound, feature_weights, enable_categorical)\u001b[0m\n\u001b[1;32m    647\u001b[0m             \u001b[0mfeature_names\u001b[0m\u001b[0;34m=\u001b[0m\u001b[0mfeature_names\u001b[0m\u001b[0;34m,\u001b[0m\u001b[0;34m\u001b[0m\u001b[0;34m\u001b[0m\u001b[0m\n\u001b[1;32m    648\u001b[0m             \u001b[0mfeature_types\u001b[0m\u001b[0;34m=\u001b[0m\u001b[0mfeature_types\u001b[0m\u001b[0;34m,\u001b[0m\u001b[0;34m\u001b[0m\u001b[0;34m\u001b[0m\u001b[0m\n\u001b[0;32m--> 649\u001b[0;31m             \u001b[0menable_categorical\u001b[0m\u001b[0;34m=\u001b[0m\u001b[0menable_categorical\u001b[0m\u001b[0;34m,\u001b[0m\u001b[0;34m\u001b[0m\u001b[0;34m\u001b[0m\u001b[0m\n\u001b[0m\u001b[1;32m    650\u001b[0m         )\n\u001b[1;32m    651\u001b[0m         \u001b[0;32massert\u001b[0m \u001b[0mhandle\u001b[0m \u001b[0;32mis\u001b[0m \u001b[0;32mnot\u001b[0m \u001b[0;32mNone\u001b[0m\u001b[0;34m\u001b[0m\u001b[0;34m\u001b[0m\u001b[0m\n",
      "\u001b[0;32m~/opt/anaconda3/envs/vaibhav/lib/python3.7/site-packages/xgboost/data.py\u001b[0m in \u001b[0;36mdispatch_data_backend\u001b[0;34m(data, missing, threads, feature_names, feature_types, enable_categorical)\u001b[0m\n\u001b[1;32m    895\u001b[0m     \u001b[0;32mif\u001b[0m \u001b[0m_is_pandas_df\u001b[0m\u001b[0;34m(\u001b[0m\u001b[0mdata\u001b[0m\u001b[0;34m)\u001b[0m\u001b[0;34m:\u001b[0m\u001b[0;34m\u001b[0m\u001b[0;34m\u001b[0m\u001b[0m\n\u001b[1;32m    896\u001b[0m         return _from_pandas_df(data, enable_categorical, missing, threads,\n\u001b[0;32m--> 897\u001b[0;31m                                feature_names, feature_types)\n\u001b[0m\u001b[1;32m    898\u001b[0m     \u001b[0;32mif\u001b[0m \u001b[0m_is_pandas_series\u001b[0m\u001b[0;34m(\u001b[0m\u001b[0mdata\u001b[0m\u001b[0;34m)\u001b[0m\u001b[0;34m:\u001b[0m\u001b[0;34m\u001b[0m\u001b[0;34m\u001b[0m\u001b[0m\n\u001b[1;32m    899\u001b[0m         return _from_pandas_series(\n",
      "\u001b[0;32m~/opt/anaconda3/envs/vaibhav/lib/python3.7/site-packages/xgboost/data.py\u001b[0m in \u001b[0;36m_from_pandas_df\u001b[0;34m(data, enable_categorical, missing, nthread, feature_names, feature_types)\u001b[0m\n\u001b[1;32m    344\u001b[0m ) -> Tuple[ctypes.c_void_p, FeatureNames, Optional[List[str]]]:\n\u001b[1;32m    345\u001b[0m     data, feature_names, feature_types = _transform_pandas_df(\n\u001b[0;32m--> 346\u001b[0;31m         \u001b[0mdata\u001b[0m\u001b[0;34m,\u001b[0m \u001b[0menable_categorical\u001b[0m\u001b[0;34m,\u001b[0m \u001b[0mfeature_names\u001b[0m\u001b[0;34m,\u001b[0m \u001b[0mfeature_types\u001b[0m\u001b[0;34m\u001b[0m\u001b[0;34m\u001b[0m\u001b[0m\n\u001b[0m\u001b[1;32m    347\u001b[0m     )\n\u001b[1;32m    348\u001b[0m     \u001b[0;32mreturn\u001b[0m \u001b[0m_from_numpy_array\u001b[0m\u001b[0;34m(\u001b[0m\u001b[0mdata\u001b[0m\u001b[0;34m,\u001b[0m \u001b[0mmissing\u001b[0m\u001b[0;34m,\u001b[0m \u001b[0mnthread\u001b[0m\u001b[0;34m,\u001b[0m \u001b[0mfeature_names\u001b[0m\u001b[0;34m,\u001b[0m \u001b[0mfeature_types\u001b[0m\u001b[0;34m)\u001b[0m\u001b[0;34m\u001b[0m\u001b[0;34m\u001b[0m\u001b[0m\n",
      "\u001b[0;32m~/opt/anaconda3/envs/vaibhav/lib/python3.7/site-packages/xgboost/data.py\u001b[0m in \u001b[0;36m_transform_pandas_df\u001b[0;34m(data, enable_categorical, feature_names, feature_types, meta, meta_type)\u001b[0m\n\u001b[1;32m    281\u001b[0m         \u001b[0;32mfor\u001b[0m \u001b[0mdtype\u001b[0m \u001b[0;32min\u001b[0m \u001b[0mdata\u001b[0m\u001b[0;34m.\u001b[0m\u001b[0mdtypes\u001b[0m\u001b[0;34m\u001b[0m\u001b[0;34m\u001b[0m\u001b[0m\n\u001b[1;32m    282\u001b[0m     ):\n\u001b[0;32m--> 283\u001b[0;31m         \u001b[0m_invalid_dataframe_dtype\u001b[0m\u001b[0;34m(\u001b[0m\u001b[0mdata\u001b[0m\u001b[0;34m)\u001b[0m\u001b[0;34m\u001b[0m\u001b[0;34m\u001b[0m\u001b[0m\n\u001b[0m\u001b[1;32m    284\u001b[0m \u001b[0;34m\u001b[0m\u001b[0m\n\u001b[1;32m    285\u001b[0m     \u001b[0;31m# handle feature names\u001b[0m\u001b[0;34m\u001b[0m\u001b[0;34m\u001b[0m\u001b[0;34m\u001b[0m\u001b[0m\n",
      "\u001b[0;32m~/opt/anaconda3/envs/vaibhav/lib/python3.7/site-packages/xgboost/data.py\u001b[0m in \u001b[0;36m_invalid_dataframe_dtype\u001b[0;34m(data)\u001b[0m\n\u001b[1;32m    245\u001b[0m \u001b[0mcategorical\u001b[0m \u001b[0mtype\u001b[0m \u001b[0;32mis\u001b[0m \u001b[0msupplied\u001b[0m\u001b[0;34m,\u001b[0m \u001b[0mDMatrix\u001b[0m \u001b[0mparameter\u001b[0m\u001b[0;31m \u001b[0m\u001b[0;31m`\u001b[0m\u001b[0menable_categorical\u001b[0m\u001b[0;31m`\u001b[0m \u001b[0mmust\u001b[0m\u001b[0;34m\u001b[0m\u001b[0;34m\u001b[0m\u001b[0m\n\u001b[1;32m    246\u001b[0m be set to `True`.\"\"\" + err\n\u001b[0;32m--> 247\u001b[0;31m     \u001b[0;32mraise\u001b[0m \u001b[0mValueError\u001b[0m\u001b[0;34m(\u001b[0m\u001b[0mmsg\u001b[0m\u001b[0;34m)\u001b[0m\u001b[0;34m\u001b[0m\u001b[0;34m\u001b[0m\u001b[0m\n\u001b[0m\u001b[1;32m    248\u001b[0m \u001b[0;34m\u001b[0m\u001b[0m\n\u001b[1;32m    249\u001b[0m \u001b[0;34m\u001b[0m\u001b[0m\n",
      "\u001b[0;31mValueError\u001b[0m: DataFrame.dtypes for data must be int, float, bool or category.  When\ncategorical type is supplied, DMatrix parameter `enable_categorical` must\nbe set to `True`. Invalid columns:club_member_status, fashion_news_frequency"
     ]
    }
   ],
   "source": [
    "xgb_regg_model.fit(X_trainnn,Y_trainnn)"
   ]
  },
  {
   "cell_type": "code",
   "execution_count": null,
   "id": "694cd703",
   "metadata": {},
   "outputs": [],
   "source": [
    "xgb_regg_model.best_score_"
   ]
  },
  {
   "cell_type": "code",
   "execution_count": null,
   "id": "ac4d001c",
   "metadata": {},
   "outputs": [],
   "source": [
    "y_pred_xgreg = xgb_regg_model.predict(X_testtt)"
   ]
  },
  {
   "cell_type": "code",
   "execution_count": 261,
   "id": "593430e3",
   "metadata": {},
   "outputs": [
    {
     "ename": "NameError",
     "evalue": "name 'y_pred_xgreg' is not defined",
     "output_type": "error",
     "traceback": [
      "\u001b[0;31m---------------------------------------------------------------------------\u001b[0m",
      "\u001b[0;31mNameError\u001b[0m                                 Traceback (most recent call last)",
      "\u001b[0;32m/var/folders/z1/1m6jsgwx7_5bnzfs27mc12740000gn/T/ipykernel_23139/667631703.py\u001b[0m in \u001b[0;36m<module>\u001b[0;34m\u001b[0m\n\u001b[1;32m      1\u001b[0m \u001b[0;32mfrom\u001b[0m \u001b[0msklearn\u001b[0m\u001b[0;34m.\u001b[0m\u001b[0mmetrics\u001b[0m \u001b[0;32mimport\u001b[0m \u001b[0mr2_score\u001b[0m\u001b[0;34m\u001b[0m\u001b[0;34m\u001b[0m\u001b[0m\n\u001b[0;32m----> 2\u001b[0;31m \u001b[0mr2_score\u001b[0m\u001b[0;34m(\u001b[0m\u001b[0my_pred_xgreg\u001b[0m\u001b[0;34m,\u001b[0m\u001b[0mY_testtt\u001b[0m\u001b[0;34m)\u001b[0m\u001b[0;34m\u001b[0m\u001b[0;34m\u001b[0m\u001b[0m\n\u001b[0m",
      "\u001b[0;31mNameError\u001b[0m: name 'y_pred_xgreg' is not defined"
     ]
    }
   ],
   "source": [
    "from sklearn.metrics import r2_score\n",
    "r2_score(y_pred_xgreg,Y_testtt)"
   ]
  },
  {
   "cell_type": "code",
   "execution_count": null,
   "id": "943f7df2",
   "metadata": {},
   "outputs": [],
   "source": []
  }
 ],
 "metadata": {
  "kernelspec": {
   "display_name": "Python 3 (ipykernel)",
   "language": "python",
   "name": "python3"
  },
  "language_info": {
   "codemirror_mode": {
    "name": "ipython",
    "version": 3
   },
   "file_extension": ".py",
   "mimetype": "text/x-python",
   "name": "python",
   "nbconvert_exporter": "python",
   "pygments_lexer": "ipython3",
   "version": "3.7.13"
  }
 },
 "nbformat": 4,
 "nbformat_minor": 5
}
